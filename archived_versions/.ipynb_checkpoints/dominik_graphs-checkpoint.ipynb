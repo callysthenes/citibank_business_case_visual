{
 "cells": [
  {
   "cell_type": "markdown",
   "id": "ae3b5f31",
   "metadata": {},
   "source": [
    "# Exercise Synopsys"
   ]
  },
  {
   "cell_type": "markdown",
   "id": "254d7848",
   "metadata": {},
   "source": [
    "Before opening their APIs to the public, CitiBank's Chief Digital Officer is keen in exploring new revenue streams to monetize the larges amount of data they've been historically collecting. He knows other financial institutions are doing business with their data, but he still needs to define specific use cases in which his credit card transaction data can add real value. As Senior Data Scientists, the CDO assigns you with the key task of exploring in depth the data stored in your data centers and make a solid assessment of the real value provided by it. You will present this business case in Citibank's annual convention. "
   ]
  },
  {
   "cell_type": "markdown",
   "id": "ac86432f",
   "metadata": {},
   "source": [
    "# Pip Installs"
   ]
  },
  {
   "cell_type": "code",
   "execution_count": 1,
   "id": "9945964b",
   "metadata": {},
   "outputs": [],
   "source": [
    "#!pip install plotly\n",
    "#!pip install squarify\n",
    "#!pip install geopandas"
   ]
  },
  {
   "cell_type": "markdown",
   "id": "735a0c89",
   "metadata": {},
   "source": [
    "# Imports"
   ]
  },
  {
   "cell_type": "code",
   "execution_count": 2,
   "id": "efd92af6",
   "metadata": {},
   "outputs": [],
   "source": [
    "from plotnine import *\n",
    "from plotnine import ggplot, geom_map, aes, scale_fill_cmap, theme, labs\n",
    "from plotnine.data import mpg\n",
    "import pandas as pd\n",
    "import numpy as np\n",
    "import plotnine as p9\n",
    "import squarify\n",
    "%matplotlib inline\n",
    "from pandas_profiling import ProfileReport\n",
    "import plotly.express as px\n",
    "import plotly.io as pio\n",
    "import os\n",
    "import matplotlib\n",
    "import matplotlib.pyplot as plt\n",
    "import geopandas as gpd\n",
    "import seaborn as sns"
   ]
  },
  {
   "cell_type": "markdown",
   "id": "367179cd",
   "metadata": {},
   "source": [
    "# Importing dataframe\n",
    "    "
   ]
  },
  {
   "cell_type": "code",
   "execution_count": 3,
   "id": "525c47c6",
   "metadata": {},
   "outputs": [
    {
     "ename": "FileNotFoundError",
     "evalue": "[Errno 2] No such file or directory: 'madrid_transactions.csv'",
     "output_type": "error",
     "traceback": [
      "\u001b[1;31m---------------------------------------------------------------------------\u001b[0m",
      "\u001b[1;31mFileNotFoundError\u001b[0m                         Traceback (most recent call last)",
      "\u001b[1;32m~\\AppData\\Local\\Temp\\ipykernel_15560\\528717441.py\u001b[0m in \u001b[0;36m<module>\u001b[1;34m\u001b[0m\n\u001b[1;32m----> 1\u001b[1;33m \u001b[0mdf\u001b[0m \u001b[1;33m=\u001b[0m \u001b[0mpd\u001b[0m\u001b[1;33m.\u001b[0m\u001b[0mread_csv\u001b[0m \u001b[1;33m(\u001b[0m\u001b[1;34m\"madrid_transactions.csv\"\u001b[0m\u001b[1;33m)\u001b[0m\u001b[1;33m\u001b[0m\u001b[1;33m\u001b[0m\u001b[0m\n\u001b[0m",
      "\u001b[1;32m~\\anaconda3\\lib\\site-packages\\pandas\\util\\_decorators.py\u001b[0m in \u001b[0;36mwrapper\u001b[1;34m(*args, **kwargs)\u001b[0m\n\u001b[0;32m    309\u001b[0m                     \u001b[0mstacklevel\u001b[0m\u001b[1;33m=\u001b[0m\u001b[0mstacklevel\u001b[0m\u001b[1;33m,\u001b[0m\u001b[1;33m\u001b[0m\u001b[1;33m\u001b[0m\u001b[0m\n\u001b[0;32m    310\u001b[0m                 )\n\u001b[1;32m--> 311\u001b[1;33m             \u001b[1;32mreturn\u001b[0m \u001b[0mfunc\u001b[0m\u001b[1;33m(\u001b[0m\u001b[1;33m*\u001b[0m\u001b[0margs\u001b[0m\u001b[1;33m,\u001b[0m \u001b[1;33m**\u001b[0m\u001b[0mkwargs\u001b[0m\u001b[1;33m)\u001b[0m\u001b[1;33m\u001b[0m\u001b[1;33m\u001b[0m\u001b[0m\n\u001b[0m\u001b[0;32m    312\u001b[0m \u001b[1;33m\u001b[0m\u001b[0m\n\u001b[0;32m    313\u001b[0m         \u001b[1;32mreturn\u001b[0m \u001b[0mwrapper\u001b[0m\u001b[1;33m\u001b[0m\u001b[1;33m\u001b[0m\u001b[0m\n",
      "\u001b[1;32m~\\anaconda3\\lib\\site-packages\\pandas\\io\\parsers\\readers.py\u001b[0m in \u001b[0;36mread_csv\u001b[1;34m(filepath_or_buffer, sep, delimiter, header, names, index_col, usecols, squeeze, prefix, mangle_dupe_cols, dtype, engine, converters, true_values, false_values, skipinitialspace, skiprows, skipfooter, nrows, na_values, keep_default_na, na_filter, verbose, skip_blank_lines, parse_dates, infer_datetime_format, keep_date_col, date_parser, dayfirst, cache_dates, iterator, chunksize, compression, thousands, decimal, lineterminator, quotechar, quoting, doublequote, escapechar, comment, encoding, encoding_errors, dialect, error_bad_lines, warn_bad_lines, on_bad_lines, delim_whitespace, low_memory, memory_map, float_precision, storage_options)\u001b[0m\n\u001b[0;32m    676\u001b[0m     \u001b[0mkwds\u001b[0m\u001b[1;33m.\u001b[0m\u001b[0mupdate\u001b[0m\u001b[1;33m(\u001b[0m\u001b[0mkwds_defaults\u001b[0m\u001b[1;33m)\u001b[0m\u001b[1;33m\u001b[0m\u001b[1;33m\u001b[0m\u001b[0m\n\u001b[0;32m    677\u001b[0m \u001b[1;33m\u001b[0m\u001b[0m\n\u001b[1;32m--> 678\u001b[1;33m     \u001b[1;32mreturn\u001b[0m \u001b[0m_read\u001b[0m\u001b[1;33m(\u001b[0m\u001b[0mfilepath_or_buffer\u001b[0m\u001b[1;33m,\u001b[0m \u001b[0mkwds\u001b[0m\u001b[1;33m)\u001b[0m\u001b[1;33m\u001b[0m\u001b[1;33m\u001b[0m\u001b[0m\n\u001b[0m\u001b[0;32m    679\u001b[0m \u001b[1;33m\u001b[0m\u001b[0m\n\u001b[0;32m    680\u001b[0m \u001b[1;33m\u001b[0m\u001b[0m\n",
      "\u001b[1;32m~\\anaconda3\\lib\\site-packages\\pandas\\io\\parsers\\readers.py\u001b[0m in \u001b[0;36m_read\u001b[1;34m(filepath_or_buffer, kwds)\u001b[0m\n\u001b[0;32m    573\u001b[0m \u001b[1;33m\u001b[0m\u001b[0m\n\u001b[0;32m    574\u001b[0m     \u001b[1;31m# Create the parser.\u001b[0m\u001b[1;33m\u001b[0m\u001b[1;33m\u001b[0m\u001b[0m\n\u001b[1;32m--> 575\u001b[1;33m     \u001b[0mparser\u001b[0m \u001b[1;33m=\u001b[0m \u001b[0mTextFileReader\u001b[0m\u001b[1;33m(\u001b[0m\u001b[0mfilepath_or_buffer\u001b[0m\u001b[1;33m,\u001b[0m \u001b[1;33m**\u001b[0m\u001b[0mkwds\u001b[0m\u001b[1;33m)\u001b[0m\u001b[1;33m\u001b[0m\u001b[1;33m\u001b[0m\u001b[0m\n\u001b[0m\u001b[0;32m    576\u001b[0m \u001b[1;33m\u001b[0m\u001b[0m\n\u001b[0;32m    577\u001b[0m     \u001b[1;32mif\u001b[0m \u001b[0mchunksize\u001b[0m \u001b[1;32mor\u001b[0m \u001b[0miterator\u001b[0m\u001b[1;33m:\u001b[0m\u001b[1;33m\u001b[0m\u001b[1;33m\u001b[0m\u001b[0m\n",
      "\u001b[1;32m~\\anaconda3\\lib\\site-packages\\pandas\\io\\parsers\\readers.py\u001b[0m in \u001b[0;36m__init__\u001b[1;34m(self, f, engine, **kwds)\u001b[0m\n\u001b[0;32m    930\u001b[0m \u001b[1;33m\u001b[0m\u001b[0m\n\u001b[0;32m    931\u001b[0m         \u001b[0mself\u001b[0m\u001b[1;33m.\u001b[0m\u001b[0mhandles\u001b[0m\u001b[1;33m:\u001b[0m \u001b[0mIOHandles\u001b[0m \u001b[1;33m|\u001b[0m \u001b[1;32mNone\u001b[0m \u001b[1;33m=\u001b[0m \u001b[1;32mNone\u001b[0m\u001b[1;33m\u001b[0m\u001b[1;33m\u001b[0m\u001b[0m\n\u001b[1;32m--> 932\u001b[1;33m         \u001b[0mself\u001b[0m\u001b[1;33m.\u001b[0m\u001b[0m_engine\u001b[0m \u001b[1;33m=\u001b[0m \u001b[0mself\u001b[0m\u001b[1;33m.\u001b[0m\u001b[0m_make_engine\u001b[0m\u001b[1;33m(\u001b[0m\u001b[0mf\u001b[0m\u001b[1;33m,\u001b[0m \u001b[0mself\u001b[0m\u001b[1;33m.\u001b[0m\u001b[0mengine\u001b[0m\u001b[1;33m)\u001b[0m\u001b[1;33m\u001b[0m\u001b[1;33m\u001b[0m\u001b[0m\n\u001b[0m\u001b[0;32m    933\u001b[0m \u001b[1;33m\u001b[0m\u001b[0m\n\u001b[0;32m    934\u001b[0m     \u001b[1;32mdef\u001b[0m \u001b[0mclose\u001b[0m\u001b[1;33m(\u001b[0m\u001b[0mself\u001b[0m\u001b[1;33m)\u001b[0m\u001b[1;33m:\u001b[0m\u001b[1;33m\u001b[0m\u001b[1;33m\u001b[0m\u001b[0m\n",
      "\u001b[1;32m~\\anaconda3\\lib\\site-packages\\pandas\\io\\parsers\\readers.py\u001b[0m in \u001b[0;36m_make_engine\u001b[1;34m(self, f, engine)\u001b[0m\n\u001b[0;32m   1214\u001b[0m             \u001b[1;31m# \"Union[str, PathLike[str], ReadCsvBuffer[bytes], ReadCsvBuffer[str]]\"\u001b[0m\u001b[1;33m\u001b[0m\u001b[1;33m\u001b[0m\u001b[0m\n\u001b[0;32m   1215\u001b[0m             \u001b[1;31m# , \"str\", \"bool\", \"Any\", \"Any\", \"Any\", \"Any\", \"Any\"\u001b[0m\u001b[1;33m\u001b[0m\u001b[1;33m\u001b[0m\u001b[0m\n\u001b[1;32m-> 1216\u001b[1;33m             self.handles = get_handle(  # type: ignore[call-overload]\n\u001b[0m\u001b[0;32m   1217\u001b[0m                 \u001b[0mf\u001b[0m\u001b[1;33m,\u001b[0m\u001b[1;33m\u001b[0m\u001b[1;33m\u001b[0m\u001b[0m\n\u001b[0;32m   1218\u001b[0m                 \u001b[0mmode\u001b[0m\u001b[1;33m,\u001b[0m\u001b[1;33m\u001b[0m\u001b[1;33m\u001b[0m\u001b[0m\n",
      "\u001b[1;32m~\\anaconda3\\lib\\site-packages\\pandas\\io\\common.py\u001b[0m in \u001b[0;36mget_handle\u001b[1;34m(path_or_buf, mode, encoding, compression, memory_map, is_text, errors, storage_options)\u001b[0m\n\u001b[0;32m    784\u001b[0m         \u001b[1;32mif\u001b[0m \u001b[0mioargs\u001b[0m\u001b[1;33m.\u001b[0m\u001b[0mencoding\u001b[0m \u001b[1;32mand\u001b[0m \u001b[1;34m\"b\"\u001b[0m \u001b[1;32mnot\u001b[0m \u001b[1;32min\u001b[0m \u001b[0mioargs\u001b[0m\u001b[1;33m.\u001b[0m\u001b[0mmode\u001b[0m\u001b[1;33m:\u001b[0m\u001b[1;33m\u001b[0m\u001b[1;33m\u001b[0m\u001b[0m\n\u001b[0;32m    785\u001b[0m             \u001b[1;31m# Encoding\u001b[0m\u001b[1;33m\u001b[0m\u001b[1;33m\u001b[0m\u001b[0m\n\u001b[1;32m--> 786\u001b[1;33m             handle = open(\n\u001b[0m\u001b[0;32m    787\u001b[0m                 \u001b[0mhandle\u001b[0m\u001b[1;33m,\u001b[0m\u001b[1;33m\u001b[0m\u001b[1;33m\u001b[0m\u001b[0m\n\u001b[0;32m    788\u001b[0m                 \u001b[0mioargs\u001b[0m\u001b[1;33m.\u001b[0m\u001b[0mmode\u001b[0m\u001b[1;33m,\u001b[0m\u001b[1;33m\u001b[0m\u001b[1;33m\u001b[0m\u001b[0m\n",
      "\u001b[1;31mFileNotFoundError\u001b[0m: [Errno 2] No such file or directory: 'madrid_transactions.csv'"
     ]
    }
   ],
   "source": [
    "df = pd.read_csv (\"madrid_transactions.csv\")"
   ]
  },
  {
   "cell_type": "markdown",
   "id": "654afa95",
   "metadata": {},
   "source": [
    "The dataset provided contains more than 10,000 credit card transactions performed by tourists in the city of Madrid during a month. CitiBank's DBA has already cleaned the file and uploaded it to the Campus Online, so you can solely focus on analyzing the different consumption patterns from tourists. The goal is to discover different insights from the data through data visualization (with GGPlot2) and then transform them into potential business outcomes. "
   ]
  },
  {
   "cell_type": "markdown",
   "id": "673be04c",
   "metadata": {},
   "source": [
    "# Examples of Business Cases"
   ]
  },
  {
   "cell_type": "markdown",
   "id": "4b0dc95b",
   "metadata": {},
   "source": [
    "- Is there a particular time in which tourists are buying?\n",
    "- Which nationality has the highest average ticket and why?\n",
    "- Is there any relationship between day of the week and consumption?\n",
    "- Do high end fashion retailers need to focus more on attracting Australian visitors than on Chinese? Why? "
   ]
  },
  {
   "cell_type": "markdown",
   "id": "30a43273",
   "metadata": {},
   "source": [
    "# Pandas EDA"
   ]
  },
  {
   "cell_type": "markdown",
   "id": "03276480",
   "metadata": {},
   "source": [
    "### Making a backup of original dataframe"
   ]
  },
  {
   "cell_type": "code",
   "execution_count": null,
   "id": "23827b74",
   "metadata": {},
   "outputs": [],
   "source": [
    "df_original = df.copy()"
   ]
  },
  {
   "cell_type": "markdown",
   "id": "d631c7c4",
   "metadata": {},
   "source": [
    "### Moving on with EDA"
   ]
  },
  {
   "cell_type": "code",
   "execution_count": null,
   "id": "f6a2e14c",
   "metadata": {},
   "outputs": [],
   "source": [
    "df.head()"
   ]
  },
  {
   "cell_type": "code",
   "execution_count": null,
   "id": "32eaf60d",
   "metadata": {},
   "outputs": [],
   "source": [
    "df.tail()"
   ]
  },
  {
   "cell_type": "code",
   "execution_count": null,
   "id": "4ac08a4a",
   "metadata": {},
   "outputs": [],
   "source": [
    "df.describe()"
   ]
  },
  {
   "cell_type": "markdown",
   "id": "1bf7f201",
   "metadata": {},
   "source": [
    "Column Unnamed: 0 must be removed, it adds no value"
   ]
  },
  {
   "cell_type": "code",
   "execution_count": null,
   "id": "eea47890",
   "metadata": {},
   "outputs": [],
   "source": [
    "del df['Unnamed: 0']"
   ]
  },
  {
   "cell_type": "code",
   "execution_count": null,
   "id": "965618b1",
   "metadata": {},
   "outputs": [],
   "source": [
    "#columns are now clean\n",
    "df.head(1)"
   ]
  },
  {
   "cell_type": "code",
   "execution_count": null,
   "id": "2ec93ab8",
   "metadata": {
    "scrolled": false
   },
   "outputs": [],
   "source": [
    "#making sure we got thurdays and fridays consistent with column tx_date_proc\n",
    "df.iloc[5700:5800,:]"
   ]
  },
  {
   "cell_type": "markdown",
   "id": "af9ce350",
   "metadata": {},
   "source": [
    "### Feature engineering adjustment to have date and time separated"
   ]
  },
  {
   "cell_type": "code",
   "execution_count": null,
   "id": "81ac4071",
   "metadata": {},
   "outputs": [],
   "source": [
    "df.tx_date_proc = df.tx_date_proc.apply(pd.to_datetime)"
   ]
  },
  {
   "cell_type": "code",
   "execution_count": null,
   "id": "44e26f1f",
   "metadata": {},
   "outputs": [],
   "source": [
    "df['Day'] = [d.date() for d in df['tx_date_proc']]\n",
    "df['Time'] = [d.time() for d in df['tx_date_proc']]\n",
    "df.tail(30)"
   ]
  },
  {
   "cell_type": "markdown",
   "id": "b506f1f5",
   "metadata": {},
   "source": [
    "Dates are consistent with the thursdays and fridays"
   ]
  },
  {
   "cell_type": "markdown",
   "id": "558eb988",
   "metadata": {},
   "source": [
    "### Feature engineering adjustment to have continent"
   ]
  },
  {
   "cell_type": "code",
   "execution_count": null,
   "id": "1d24a4f1",
   "metadata": {},
   "outputs": [],
   "source": [
    "country_df = pd.read_csv(\"country-and-continent-codes-list.csv\")"
   ]
  },
  {
   "cell_type": "code",
   "execution_count": null,
   "id": "89d537a8",
   "metadata": {},
   "outputs": [],
   "source": [
    "country_df.head(1)"
   ]
  },
  {
   "cell_type": "code",
   "execution_count": null,
   "id": "c2e2f649",
   "metadata": {},
   "outputs": [],
   "source": [
    "df = df.join(country_df.set_index('Two_Letter_Country_Code'), on = 'customer_country')\n"
   ]
  },
  {
   "cell_type": "code",
   "execution_count": null,
   "id": "7326bafc",
   "metadata": {},
   "outputs": [],
   "source": [
    "df.head(5)"
   ]
  },
  {
   "cell_type": "markdown",
   "id": "35eb0224",
   "metadata": {},
   "source": [
    "Expanded information about the country and continent"
   ]
  },
  {
   "cell_type": "code",
   "execution_count": null,
   "id": "dfd0dfa2",
   "metadata": {},
   "outputs": [],
   "source": [
    "del df['Three_Letter_Country_Code']"
   ]
  },
  {
   "cell_type": "code",
   "execution_count": null,
   "id": "ffb0a32f",
   "metadata": {},
   "outputs": [],
   "source": [
    "del df['Country_Number']"
   ]
  },
  {
   "cell_type": "code",
   "execution_count": null,
   "id": "f8459b58",
   "metadata": {},
   "outputs": [],
   "source": [
    "df"
   ]
  },
  {
   "cell_type": "markdown",
   "id": "a1ee403f",
   "metadata": {},
   "source": [
    "### Continue with Pandas EDA"
   ]
  },
  {
   "cell_type": "code",
   "execution_count": null,
   "id": "eb2cc1b2",
   "metadata": {},
   "outputs": [],
   "source": [
    "df.info()"
   ]
  },
  {
   "cell_type": "code",
   "execution_count": null,
   "id": "219b7e98",
   "metadata": {},
   "outputs": [],
   "source": [
    "df.dtypes"
   ]
  },
  {
   "cell_type": "markdown",
   "id": "f0f16174",
   "metadata": {},
   "source": [
    "We converted the tx_date_proc column to a pure datetime64 format and added continents"
   ]
  },
  {
   "cell_type": "markdown",
   "id": "237da393",
   "metadata": {},
   "source": []
  },
  {
   "cell_type": "code",
   "execution_count": null,
   "id": "f68fdcb5",
   "metadata": {},
   "outputs": [],
   "source": [
    "df.columns"
   ]
  },
  {
   "cell_type": "code",
   "execution_count": null,
   "id": "d435e7d4",
   "metadata": {
    "scrolled": false
   },
   "outputs": [],
   "source": [
    "report = ProfileReport(df, minimal=False)\n",
    "report"
   ]
  },
  {
   "cell_type": "markdown",
   "id": "fc31ae8b",
   "metadata": {},
   "source": [
    "### Conclusions of Pandas profiling and Actions to be taken before EDA?\n",
    "\n",
    "- Main nationality are Americans followed by French\n",
    "- Created new features form date and time via split\n",
    "- Most of sales go to fashion and shoes followed by restauration sector\n",
    "- Apparently only records for two days, Thursdays and Fridays being the first predominant\n",
    "- Most active hour seems to be around 18.00 and 19.00\n",
    "- Have three redundant columns for time or date:\n",
    "    - daytime\n",
    "    - hour\n",
    "    - tx_date_proc"
   ]
  },
  {
   "cell_type": "markdown",
   "id": "b125ee18",
   "metadata": {},
   "source": [
    "# Start EDA with ggplot2"
   ]
  },
  {
   "cell_type": "code",
   "execution_count": null,
   "id": "4269f353",
   "metadata": {},
   "outputs": [],
   "source": [
    "df.info()"
   ]
  },
  {
   "cell_type": "markdown",
   "id": "e04ec97c",
   "metadata": {},
   "source": [
    "## First chart: Heatmap"
   ]
  },
  {
   "cell_type": "code",
   "execution_count": null,
   "id": "1dc01935",
   "metadata": {},
   "outputs": [],
   "source": [
    "(ggplot(df)\n",
    "     + aes('hour', 'category')\n",
    "     + geom_bin2d(bins=20)\n",
    "     + ggtitle(\"Most bought category and time\")\n",
    ")\n"
   ]
  },
  {
   "cell_type": "markdown",
   "id": "9d967a3f",
   "metadata": {},
   "source": [
    "- Bars and Restaurants have activity within Spanish lunch and dinner customs\n",
    "- Fashion and shoes seem to skyrocket at 3 o clock"
   ]
  },
  {
   "cell_type": "markdown",
   "id": "3dc14398",
   "metadata": {},
   "source": [
    "# Second chart treemap"
   ]
  },
  {
   "cell_type": "code",
   "execution_count": null,
   "id": "f5eb5682",
   "metadata": {},
   "outputs": [],
   "source": [
    "#needs to be finetuned a bit.."
   ]
  },
  {
   "cell_type": "code",
   "execution_count": null,
   "id": "51ee17b0",
   "metadata": {
    "scrolled": true
   },
   "outputs": [],
   "source": [
    "\n",
    "df2 = df.groupby('category').size().reset_index(name='counts')\n",
    "labels = df2.apply(lambda x: str(x[0]) + \"\\n (\" + str(x[1]) + \")\", axis=1)\n",
    "sizes = df2['counts'].values.tolist()\n",
    "colors = [plt.cm.Spectral(i/float(len(labels))) for i in range(len(labels))]\n",
    "\n",
    "# Draw Plot\n",
    "plt.figure(figsize=(30,20), dpi= 80)\n",
    "squarify.plot(sizes=sizes, label=labels, color=colors, alpha=.8,text_kwargs={'fontsize':13})\n",
    "\n",
    "# Decorate\n",
    "plt.title('Category Treemap ')\n",
    "plt.axis('off')\n",
    "plt.show()"
   ]
  },
  {
   "cell_type": "markdown",
   "id": "a17b246e",
   "metadata": {},
   "source": [
    "## Drilled down to understand which sector is more demanded by which nationality"
   ]
  },
  {
   "cell_type": "code",
   "execution_count": null,
   "id": "da491dc2",
   "metadata": {
    "scrolled": false
   },
   "outputs": [],
   "source": [
    "fig = px.treemap(df, path=[px.Constant(\"all\"), 'category', 'customer_country'])\n",
    "fig.update_traces(root_color=\"lightgrey\")\n",
    "fig.update_layout(margin = dict(t=50, l=25, r=25, b=25))\n",
    "fig.show()"
   ]
  },
  {
   "cell_type": "markdown",
   "id": "67519c3f",
   "metadata": {},
   "source": [
    "### And viceversa"
   ]
  },
  {
   "cell_type": "code",
   "execution_count": null,
   "id": "46db73aa",
   "metadata": {},
   "outputs": [],
   "source": [
    "fig = px.treemap(df, path=[px.Constant(\"all\"),'customer_country', 'category'])\n",
    "fig.update_traces(root_color=\"lightgrey\")\n",
    "fig.update_layout(margin = dict(t=50, l=25, r=25, b=25))\n",
    "fig.show()"
   ]
  },
  {
   "cell_type": "markdown",
   "id": "701a5c81",
   "metadata": {},
   "source": [
    "### And viceversa by continent"
   ]
  },
  {
   "cell_type": "code",
   "execution_count": null,
   "id": "6d2d5120",
   "metadata": {},
   "outputs": [],
   "source": [
    "fig = px.treemap(df, path=[px.Constant(\"all\"),'Continent_Name', 'category'])\n",
    "fig.update_traces(root_color=\"lightgrey\")\n",
    "fig.update_layout(margin = dict(t=50, l=25, r=25, b=25))\n",
    "fig.show()"
   ]
  },
  {
   "cell_type": "markdown",
   "id": "a72176e0",
   "metadata": {},
   "source": [
    "# Third chart: Pie Chart using the new continent feature engineered by joining a third party dataset"
   ]
  },
  {
   "cell_type": "code",
   "execution_count": null,
   "id": "f1847c8b",
   "metadata": {},
   "outputs": [],
   "source": [
    "import plotly.graph_objects as go\n",
    "values = df[\"Continent_Name\"].value_counts()\n",
    "labels = df[\"Continent_Name\"].unique().tolist()"
   ]
  },
  {
   "cell_type": "code",
   "execution_count": null,
   "id": "32d96c74",
   "metadata": {},
   "outputs": [],
   "source": [
    "fig = go.Figure(data=[go.Pie(values=values, labels=labels, hole=.2)])\n",
    "\n",
    "fig.show()\n",
    "print(values)"
   ]
  },
  {
   "cell_type": "code",
   "execution_count": null,
   "id": "7288aa96",
   "metadata": {},
   "outputs": [],
   "source": [
    "\n",
    "\n",
    "(p9.ggplot(data=df,\n",
    "           mapping=p9.aes(x='customer_country'))\n",
    "    + p9.geom_bar()\n",
    "    + p9.theme_bw()\n",
    "    + p9.theme(axis_text_x = p9.element_text(angle=90))\n",
    ")\n"
   ]
  },
  {
   "cell_type": "markdown",
   "id": "557208b8",
   "metadata": {},
   "source": [
    "# Fourth chart: Geographical plot"
   ]
  },
  {
   "cell_type": "code",
   "execution_count": null,
   "id": "65df1814",
   "metadata": {},
   "outputs": [],
   "source": [
    "\n",
    "world = gpd.read_file(gpd.datasets.get_path(\"naturalearth_lowres\"))\n",
    "print(\"Geometry Column Name : \", world.geometry.name)\n",
    "print(\"Dataset Size : \", world.shape)\n",
    "world.head()"
   ]
  },
  {
   "cell_type": "code",
   "execution_count": null,
   "id": "2af9e36e",
   "metadata": {},
   "outputs": [],
   "source": [
    "country_code = pd.read_csv (\"all.csv\")"
   ]
  },
  {
   "cell_type": "code",
   "execution_count": null,
   "id": "a2059dbe",
   "metadata": {},
   "outputs": [],
   "source": [
    "country_code.head()"
   ]
  },
  {
   "cell_type": "code",
   "execution_count": null,
   "id": "cef84c0d",
   "metadata": {},
   "outputs": [],
   "source": [
    "countries = world.merge(country_code, left_on=\"iso_a3\", right_on=\"alpha-3\")\n",
    "\n",
    "countries.head()"
   ]
  },
  {
   "cell_type": "code",
   "execution_count": null,
   "id": "d95a1fa7",
   "metadata": {},
   "outputs": [],
   "source": [
    "df3 = df.groupby('customer_country')['amount'].sum()\n",
    "\n"
   ]
  },
  {
   "cell_type": "code",
   "execution_count": null,
   "id": "bad51369",
   "metadata": {},
   "outputs": [],
   "source": [
    "df3"
   ]
  },
  {
   "cell_type": "code",
   "execution_count": null,
   "id": "49f249b4",
   "metadata": {},
   "outputs": [],
   "source": [
    "sales_df = countries.merge(df3, left_on=\"alpha-2\", right_on=\"customer_country\")\n"
   ]
  },
  {
   "cell_type": "code",
   "execution_count": null,
   "id": "44be1ca2",
   "metadata": {},
   "outputs": [],
   "source": [
    "sales_df"
   ]
  },
  {
   "cell_type": "code",
   "execution_count": null,
   "id": "10a008d9",
   "metadata": {},
   "outputs": [],
   "source": [
    "\n",
    "\n",
    "chart = ggplot(data=sales_df, mapping=aes(fill=\"amount\"))\n",
    "map_proj = geom_map()\n",
    "labels = labs(title=\"Amount spend per country\")\n",
    "theme_details = theme(figure_size=(12,6))\n",
    "fill_colormap = scale_fill_cmap(cmap_name=\"RdYlGn\")\n",
    "color_colormap = scale_color_cmap(cmap_name=\"RdYlGn\")\n",
    "\n",
    "world_happiness_choropleth = chart + map_proj + labels + theme_details + fill_colormap + color_colormap\n",
    "\n",
    "world_happiness_choropleth"
   ]
  },
  {
   "cell_type": "markdown",
   "id": "c15f9110",
   "metadata": {},
   "source": [
    "### Seaborn graphics, matrix"
   ]
  },
  {
   "cell_type": "code",
   "execution_count": null,
   "id": "c39f1646",
   "metadata": {},
   "outputs": [],
   "source": [
    "df.info()"
   ]
  },
  {
   "cell_type": "code",
   "execution_count": null,
   "id": "76e8c9d1",
   "metadata": {},
   "outputs": [],
   "source": [
    "table2 = pd.pivot_table(df, values='amount', index='category',columns=['weekday'], aggfunc=np.mean, fill_value=0)"
   ]
  },
  {
   "cell_type": "code",
   "execution_count": null,
   "id": "cb637eaa",
   "metadata": {},
   "outputs": [],
   "source": [
    "table2.info()"
   ]
  },
  {
   "cell_type": "code",
   "execution_count": null,
   "id": "78f94076",
   "metadata": {},
   "outputs": [],
   "source": [
    "table2.reset_index(inplace=True)"
   ]
  },
  {
   "cell_type": "code",
   "execution_count": null,
   "id": "b87e3368",
   "metadata": {},
   "outputs": [],
   "source": [
    "table3 = table2.rename(columns = {'index':'category'})"
   ]
  },
  {
   "cell_type": "code",
   "execution_count": null,
   "id": "747c4f84",
   "metadata": {},
   "outputs": [],
   "source": [
    "table3.columns"
   ]
  },
  {
   "cell_type": "code",
   "execution_count": null,
   "id": "72f2f125",
   "metadata": {},
   "outputs": [],
   "source": [
    "table3.columns = table3.columns.str.replace(' ', '')"
   ]
  },
  {
   "cell_type": "code",
   "execution_count": null,
   "id": "81c70d4d",
   "metadata": {},
   "outputs": [],
   "source": [
    "table3.columns"
   ]
  },
  {
   "cell_type": "code",
   "execution_count": null,
   "id": "b28b7766",
   "metadata": {},
   "outputs": [],
   "source": [
    "df5 = df.groupby(['category', 'weekday']).mean(\"amount\")"
   ]
  },
  {
   "cell_type": "code",
   "execution_count": null,
   "id": "89db89dc",
   "metadata": {},
   "outputs": [],
   "source": [
    "df5.info()"
   ]
  },
  {
   "cell_type": "code",
   "execution_count": null,
   "id": "992abb8f",
   "metadata": {},
   "outputs": [],
   "source": [
    "df10 = df5.reset_index()"
   ]
  },
  {
   "cell_type": "code",
   "execution_count": null,
   "id": "b6ef8133",
   "metadata": {},
   "outputs": [],
   "source": [
    "df10.info()"
   ]
  },
  {
   "cell_type": "code",
   "execution_count": null,
   "id": "207ee2f0",
   "metadata": {},
   "outputs": [],
   "source": [
    "df10.index = list(df10.index)"
   ]
  },
  {
   "cell_type": "code",
   "execution_count": null,
   "id": "9e2faa69",
   "metadata": {},
   "outputs": [],
   "source": [
    "df10.info()"
   ]
  },
  {
   "cell_type": "code",
   "execution_count": null,
   "id": "e1d4f88e",
   "metadata": {},
   "outputs": [],
   "source": [
    "df.info()"
   ]
  },
  {
   "cell_type": "code",
   "execution_count": null,
   "id": "26b92e86",
   "metadata": {},
   "outputs": [],
   "source": [
    "df11 = df10.pivot(index='category',columns='weekday',values='amount')"
   ]
  },
  {
   "cell_type": "code",
   "execution_count": null,
   "id": "49e26a5b",
   "metadata": {},
   "outputs": [],
   "source": [
    "df11.info()"
   ]
  },
  {
   "cell_type": "code",
   "execution_count": null,
   "id": "80401a5f",
   "metadata": {},
   "outputs": [],
   "source": [
    "# Text colors\n",
    "black1 = '#252525'\n",
    "black2 = '#222222'\n",
    "\n",
    "# Gallery Plot\n",
    "\n",
    "(ggplot(table3)\n",
    " # Slight modifications for the original lines,\n",
    " # 1. Nudge the text to either sides of the points\n",
    " # 2. Alter the color and alpha values\n",
    " + geom_text(aes(1, 'thursday', label='category'), nudge_x=-0.05, ha='right', size=6, color=black1)\n",
    " + geom_text(aes(2, 'friday', label='category'), nudge_x=0.05, ha='left', size=6, color=black1)\n",
    " + geom_point(aes(1, 'thursday', color='category'), size=2.5, alpha=.7)\n",
    " + geom_point(aes(2, 'friday', color='category'), size=2.5, alpha=.7)\n",
    " + geom_segment(aes(x=1, y='thursday', xend=2, yend='friday', color='category'), alpha=.7)\n",
    "\n",
    " # Text Annotations\n",
    " + annotate('text', x=1, y=550, label='Thursday', fontweight='bold', ha='right', size=10, color=black2)\n",
    " + annotate('text', x=2, y=550, label='Friday', fontweight='bold', ha='left', size=10, color=black2)\n",
    "\n",
    "\n",
    "\n",
    " # Prevent  names from being chopped off\n",
    " + lims(x=(0.35, 2.65))\n",
    " + labs(color='category')\n",
    " +labs(title=\"Mean amount of money spend per category (Thursday vs. Friday)\",\n",
    "        x =\"Day of the week\", y = \"Mean amoount of money spent\")\n",
    " # Change colors\n",
    " + scale_color_brewer(type='qual', palette=3)\n",
    " # Changing the figure size prevents the country names from squishing up\n",
    " + theme(figure_size=(8, 11))\n",
    ")\n",
    "\n"
   ]
  },
  {
   "cell_type": "code",
   "execution_count": null,
   "id": "15d8f10b",
   "metadata": {},
   "outputs": [],
   "source": []
  }
 ],
 "metadata": {
  "kernelspec": {
   "display_name": "Python 3 (ipykernel)",
   "language": "python",
   "name": "python3"
  },
  "language_info": {
   "codemirror_mode": {
    "name": "ipython",
    "version": 3
   },
   "file_extension": ".py",
   "mimetype": "text/x-python",
   "name": "python",
   "nbconvert_exporter": "python",
   "pygments_lexer": "ipython3",
   "version": "3.9.13"
  }
 },
 "nbformat": 4,
 "nbformat_minor": 5
}
