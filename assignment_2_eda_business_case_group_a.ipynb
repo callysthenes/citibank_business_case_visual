{
 "cells": [
  {
   "cell_type": "markdown",
   "id": "ae3b5f31",
   "metadata": {},
   "source": [
    "# Exercise Synopsys"
   ]
  },
  {
   "cell_type": "markdown",
   "id": "254d7848",
   "metadata": {},
   "source": [
    "Before opening their APIs to the public, CitiBank's Chief Digital Officer is keen in exploring new revenue streams to monetize the larges amount of data they've been historically collecting. He knows other financial institutions are doing business with their data, but he still needs to define specific use cases in which his credit card transaction data can add real value. As Senior Data Scientists, the CDO assigns you with the key task of exploring in depth the data stored in your data centers and make a solid assessment of the real value provided by it. You will present this business case in Citibank's annual convention. "
   ]
  },
  {
   "cell_type": "markdown",
   "id": "735a0c89",
   "metadata": {},
   "source": [
    "# Imports"
   ]
  },
  {
   "cell_type": "code",
   "execution_count": 2,
   "id": "efd92af6",
   "metadata": {},
   "outputs": [],
   "source": [
    "from plotnine import *\n",
    "from plotnine.data import mpg\n",
    "import pandas as pd\n",
    "import numpy as np\n",
    "%matplotlib inline"
   ]
  },
  {
   "cell_type": "markdown",
   "id": "367179cd",
   "metadata": {},
   "source": [
    "# Importing dataframe\n",
    "    "
   ]
  },
  {
   "cell_type": "code",
   "execution_count": 3,
   "id": "525c47c6",
   "metadata": {},
   "outputs": [],
   "source": [
    "df = pd.read_csv (\"madrid_transactions.csv\")"
   ]
  },
  {
   "cell_type": "markdown",
   "id": "654afa95",
   "metadata": {},
   "source": [
    "The dataset provided contains more than 10,000 credit card transactions performed by tourists in the city of Madrid during a month. CitiBank's DBA has already cleaned the file and uploaded it to the Campus Online, so you can solely focus on analyzing the different consumption patterns from tourists. The goal is to discover different insights from the data through data visualization (with GGPlot2) and then transform them into potential business outcomes. "
   ]
  },
  {
   "cell_type": "markdown",
   "id": "673be04c",
   "metadata": {},
   "source": [
    "# Examples of Business Cases"
   ]
  },
  {
   "cell_type": "markdown",
   "id": "4b0dc95b",
   "metadata": {},
   "source": [
    "- Is there a particular time in which tourists are buying?\n",
    "- Which nationality has the highest average ticket and why?\n",
    "- Is there any relationship between day of the week and consumption?\n",
    "- Do high end fashion retailers need to focus more on attracting Australian visitors than on Chinese? Why? "
   ]
  },
  {
   "cell_type": "code",
   "execution_count": 4,
   "id": "f6a2e14c",
   "metadata": {},
   "outputs": [
    {
     "data": {
      "text/html": [
       "<div>\n",
       "<style scoped>\n",
       "    .dataframe tbody tr th:only-of-type {\n",
       "        vertical-align: middle;\n",
       "    }\n",
       "\n",
       "    .dataframe tbody tr th {\n",
       "        vertical-align: top;\n",
       "    }\n",
       "\n",
       "    .dataframe thead th {\n",
       "        text-align: right;\n",
       "    }\n",
       "</style>\n",
       "<table border=\"1\" class=\"dataframe\">\n",
       "  <thead>\n",
       "    <tr style=\"text-align: right;\">\n",
       "      <th></th>\n",
       "      <th>Unnamed: 0</th>\n",
       "      <th>amount</th>\n",
       "      <th>category</th>\n",
       "      <th>customer_country</th>\n",
       "      <th>daytime</th>\n",
       "      <th>hour</th>\n",
       "      <th>tx_date_proc</th>\n",
       "      <th>weekday</th>\n",
       "    </tr>\n",
       "  </thead>\n",
       "  <tbody>\n",
       "    <tr>\n",
       "      <th>0</th>\n",
       "      <td>1</td>\n",
       "      <td>33.46</td>\n",
       "      <td>Fashion &amp; Shoes</td>\n",
       "      <td>GB</td>\n",
       "      <td>Night</td>\n",
       "      <td>21</td>\n",
       "      <td>2012-03-01 21:51:54+00</td>\n",
       "      <td>thursday</td>\n",
       "    </tr>\n",
       "    <tr>\n",
       "      <th>1</th>\n",
       "      <td>2</td>\n",
       "      <td>59.97</td>\n",
       "      <td>Fashion &amp; Shoes</td>\n",
       "      <td>GB</td>\n",
       "      <td>Afternoon</td>\n",
       "      <td>16</td>\n",
       "      <td>2012-03-02 16:12:52+00</td>\n",
       "      <td>friday</td>\n",
       "    </tr>\n",
       "    <tr>\n",
       "      <th>2</th>\n",
       "      <td>3</td>\n",
       "      <td>49.99</td>\n",
       "      <td>Fashion &amp; Shoes</td>\n",
       "      <td>CN</td>\n",
       "      <td>Evening</td>\n",
       "      <td>17</td>\n",
       "      <td>2012-03-02 17:34:01+00</td>\n",
       "      <td>friday</td>\n",
       "    </tr>\n",
       "    <tr>\n",
       "      <th>3</th>\n",
       "      <td>4</td>\n",
       "      <td>5.95</td>\n",
       "      <td>Fashion &amp; Shoes</td>\n",
       "      <td>GB</td>\n",
       "      <td>Evening</td>\n",
       "      <td>17</td>\n",
       "      <td>2012-03-01 17:43:29+00</td>\n",
       "      <td>thursday</td>\n",
       "    </tr>\n",
       "    <tr>\n",
       "      <th>4</th>\n",
       "      <td>5</td>\n",
       "      <td>16.65</td>\n",
       "      <td>Bars &amp; restaurants</td>\n",
       "      <td>DK</td>\n",
       "      <td>Night</td>\n",
       "      <td>22</td>\n",
       "      <td>2012-03-01 22:47:52+00</td>\n",
       "      <td>thursday</td>\n",
       "    </tr>\n",
       "  </tbody>\n",
       "</table>\n",
       "</div>"
      ],
      "text/plain": [
       "   Unnamed: 0  amount            category customer_country    daytime  hour  \\\n",
       "0           1   33.46     Fashion & Shoes               GB      Night    21   \n",
       "1           2   59.97     Fashion & Shoes               GB  Afternoon    16   \n",
       "2           3   49.99     Fashion & Shoes               CN    Evening    17   \n",
       "3           4    5.95     Fashion & Shoes               GB    Evening    17   \n",
       "4           5   16.65  Bars & restaurants               DK      Night    22   \n",
       "\n",
       "             tx_date_proc    weekday  \n",
       "0  2012-03-01 21:51:54+00  thursday   \n",
       "1  2012-03-02 16:12:52+00  friday     \n",
       "2  2012-03-02 17:34:01+00  friday     \n",
       "3  2012-03-01 17:43:29+00  thursday   \n",
       "4  2012-03-01 22:47:52+00  thursday   "
      ]
     },
     "execution_count": 4,
     "metadata": {},
     "output_type": "execute_result"
    }
   ],
   "source": [
    "df.head()"
   ]
  },
  {
   "cell_type": "code",
   "execution_count": 5,
   "id": "32eaf60d",
   "metadata": {},
   "outputs": [
    {
     "data": {
      "text/html": [
       "<div>\n",
       "<style scoped>\n",
       "    .dataframe tbody tr th:only-of-type {\n",
       "        vertical-align: middle;\n",
       "    }\n",
       "\n",
       "    .dataframe tbody tr th {\n",
       "        vertical-align: top;\n",
       "    }\n",
       "\n",
       "    .dataframe thead th {\n",
       "        text-align: right;\n",
       "    }\n",
       "</style>\n",
       "<table border=\"1\" class=\"dataframe\">\n",
       "  <thead>\n",
       "    <tr style=\"text-align: right;\">\n",
       "      <th></th>\n",
       "      <th>Unnamed: 0</th>\n",
       "      <th>amount</th>\n",
       "      <th>category</th>\n",
       "      <th>customer_country</th>\n",
       "      <th>daytime</th>\n",
       "      <th>hour</th>\n",
       "      <th>tx_date_proc</th>\n",
       "      <th>weekday</th>\n",
       "    </tr>\n",
       "  </thead>\n",
       "  <tbody>\n",
       "    <tr>\n",
       "      <th>10788</th>\n",
       "      <td>10789</td>\n",
       "      <td>79.33</td>\n",
       "      <td>Bars &amp; restaurants</td>\n",
       "      <td>IN</td>\n",
       "      <td>Night</td>\n",
       "      <td>21</td>\n",
       "      <td>2012-03-02 21:22:51+00</td>\n",
       "      <td>friday</td>\n",
       "    </tr>\n",
       "    <tr>\n",
       "      <th>10789</th>\n",
       "      <td>10790</td>\n",
       "      <td>77.70</td>\n",
       "      <td>Bars &amp; restaurants</td>\n",
       "      <td>US</td>\n",
       "      <td>Night</td>\n",
       "      <td>22</td>\n",
       "      <td>2012-03-02 22:42:09+00</td>\n",
       "      <td>friday</td>\n",
       "    </tr>\n",
       "    <tr>\n",
       "      <th>10790</th>\n",
       "      <td>10791</td>\n",
       "      <td>48.25</td>\n",
       "      <td>Bars &amp; restaurants</td>\n",
       "      <td>US</td>\n",
       "      <td>Midnight</td>\n",
       "      <td>23</td>\n",
       "      <td>2012-03-02 23:01:19+00</td>\n",
       "      <td>friday</td>\n",
       "    </tr>\n",
       "    <tr>\n",
       "      <th>10791</th>\n",
       "      <td>10792</td>\n",
       "      <td>368.90</td>\n",
       "      <td>Bars &amp; restaurants</td>\n",
       "      <td>MY</td>\n",
       "      <td>Night</td>\n",
       "      <td>22</td>\n",
       "      <td>2012-03-02 22:35:46+00</td>\n",
       "      <td>friday</td>\n",
       "    </tr>\n",
       "    <tr>\n",
       "      <th>10792</th>\n",
       "      <td>10793</td>\n",
       "      <td>452.55</td>\n",
       "      <td>Bars &amp; restaurants</td>\n",
       "      <td>CN</td>\n",
       "      <td>Afternoon</td>\n",
       "      <td>15</td>\n",
       "      <td>2012-03-01 15:27:26+00</td>\n",
       "      <td>thursday</td>\n",
       "    </tr>\n",
       "  </tbody>\n",
       "</table>\n",
       "</div>"
      ],
      "text/plain": [
       "       Unnamed: 0  amount            category customer_country    daytime  \\\n",
       "10788       10789   79.33  Bars & restaurants               IN      Night   \n",
       "10789       10790   77.70  Bars & restaurants               US      Night   \n",
       "10790       10791   48.25  Bars & restaurants               US   Midnight   \n",
       "10791       10792  368.90  Bars & restaurants               MY      Night   \n",
       "10792       10793  452.55  Bars & restaurants               CN  Afternoon   \n",
       "\n",
       "       hour            tx_date_proc    weekday  \n",
       "10788    21  2012-03-02 21:22:51+00  friday     \n",
       "10789    22  2012-03-02 22:42:09+00  friday     \n",
       "10790    23  2012-03-02 23:01:19+00  friday     \n",
       "10791    22  2012-03-02 22:35:46+00  friday     \n",
       "10792    15  2012-03-01 15:27:26+00  thursday   "
      ]
     },
     "execution_count": 5,
     "metadata": {},
     "output_type": "execute_result"
    }
   ],
   "source": [
    "df.tail()"
   ]
  },
  {
   "cell_type": "code",
   "execution_count": null,
   "id": "1d5f959e",
   "metadata": {},
   "outputs": [],
   "source": []
  }
 ],
 "metadata": {
  "kernelspec": {
   "display_name": "Python 3 (ipykernel)",
   "language": "python",
   "name": "python3"
  },
  "language_info": {
   "codemirror_mode": {
    "name": "ipython",
    "version": 3
   },
   "file_extension": ".py",
   "mimetype": "text/x-python",
   "name": "python",
   "nbconvert_exporter": "python",
   "pygments_lexer": "ipython3",
   "version": "3.10.6"
  }
 },
 "nbformat": 4,
 "nbformat_minor": 5
}
