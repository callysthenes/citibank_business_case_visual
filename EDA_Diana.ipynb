{
 "cells": [
  {
   "cell_type": "markdown",
   "id": "ae3b5f31",
   "metadata": {},
   "source": [
    "# Exercise Synopsys"
   ]
  },
  {
   "cell_type": "markdown",
   "id": "254d7848",
   "metadata": {},
   "source": [
    "Before opening their APIs to the public, CitiBank's Chief Digital Officer is keen in exploring new revenue streams to monetize the larges amount of data they've been historically collecting. He knows other financial institutions are doing business with their data, but he still needs to define specific use cases in which his credit card transaction data can add real value. As Senior Data Scientists, the CDO assigns you with the key task of exploring in depth the data stored in your data centers and make a solid assessment of the real value provided by it. You will present this business case in Citibank's annual convention. "
   ]
  },
  {
   "cell_type": "markdown",
   "id": "ac86432f",
   "metadata": {},
   "source": [
    "# Pip Installs"
   ]
  },
  {
   "cell_type": "code",
   "execution_count": 1,
   "id": "9945964b",
   "metadata": {},
   "outputs": [],
   "source": [
    "#!pip install plotly\n",
    "#!pip install squarify\n",
    "#pip install geopandas\n",
    "#pip install dash"
   ]
  },
  {
   "cell_type": "code",
   "execution_count": 2,
   "id": "297bedb2",
   "metadata": {},
   "outputs": [],
   "source": [
    "#pip install plotly"
   ]
  },
  {
   "cell_type": "markdown",
   "id": "735a0c89",
   "metadata": {},
   "source": [
    "# Imports"
   ]
  },
  {
   "cell_type": "code",
   "execution_count": 3,
   "id": "efd92af6",
   "metadata": {},
   "outputs": [],
   "source": [
    "from plotnine import *\n",
    "from plotnine import ggplot, geom_map, aes, scale_fill_cmap, theme, labs\n",
    "from plotnine.data import mpg\n",
    "import pandas as pd\n",
    "import numpy as np\n",
    "import plotnine as p9\n",
    "import squarify\n",
    "%matplotlib inline\n",
    "from pandas_profiling import ProfileReport\n",
    "import plotly.express as px\n",
    "import plotly.io as pio\n",
    "import os\n",
    "import matplotlib\n",
    "import matplotlib.pyplot as plt\n",
    "import geopandas as gpd\n",
    "import seaborn as sns"
   ]
  },
  {
   "cell_type": "markdown",
   "id": "367179cd",
   "metadata": {},
   "source": [
    "# Importing dataframe\n",
    "    "
   ]
  },
  {
   "cell_type": "code",
   "execution_count": 4,
   "id": "525c47c6",
   "metadata": {},
   "outputs": [],
   "source": [
    "df = pd.read_csv (\"madrid_transactions.csv\")"
   ]
  },
  {
   "cell_type": "markdown",
   "id": "654afa95",
   "metadata": {},
   "source": [
    "The dataset provided contains more than 10,000 credit card transactions performed by tourists in the city of Madrid during a month. CitiBank's DBA has already cleaned the file and uploaded it to the Campus Online, so you can solely focus on analyzing the different consumption patterns from tourists. The goal is to discover different insights from the data through data visualization (with GGPlot2) and then transform them into potential business outcomes. "
   ]
  },
  {
   "cell_type": "markdown",
   "id": "673be04c",
   "metadata": {},
   "source": [
    "# Examples of Business Cases"
   ]
  },
  {
   "cell_type": "markdown",
   "id": "4b0dc95b",
   "metadata": {},
   "source": [
    "- Is there a particular time in which tourists are buying?\n",
    "- Which nationality has the highest average ticket and why?\n",
    "- Is there any relationship between day of the week and consumption?\n",
    "- Do high end fashion retailers need to focus more on attracting Australian visitors than on Chinese? Why? "
   ]
  },
  {
   "cell_type": "markdown",
   "id": "30a43273",
   "metadata": {},
   "source": [
    "# Pandas EDA"
   ]
  },
  {
   "cell_type": "markdown",
   "id": "03276480",
   "metadata": {},
   "source": [
    "### Making a backup of original dataframe"
   ]
  },
  {
   "cell_type": "code",
   "execution_count": 5,
   "id": "23827b74",
   "metadata": {},
   "outputs": [],
   "source": [
    "df_original = df.copy()"
   ]
  },
  {
   "cell_type": "markdown",
   "id": "d631c7c4",
   "metadata": {},
   "source": [
    "### Moving on with EDA"
   ]
  },
  {
   "cell_type": "code",
   "execution_count": 6,
   "id": "f6a2e14c",
   "metadata": {},
   "outputs": [
    {
     "data": {
      "text/html": [
       "<div>\n",
       "<style scoped>\n",
       "    .dataframe tbody tr th:only-of-type {\n",
       "        vertical-align: middle;\n",
       "    }\n",
       "\n",
       "    .dataframe tbody tr th {\n",
       "        vertical-align: top;\n",
       "    }\n",
       "\n",
       "    .dataframe thead th {\n",
       "        text-align: right;\n",
       "    }\n",
       "</style>\n",
       "<table border=\"1\" class=\"dataframe\">\n",
       "  <thead>\n",
       "    <tr style=\"text-align: right;\">\n",
       "      <th></th>\n",
       "      <th>Unnamed: 0</th>\n",
       "      <th>amount</th>\n",
       "      <th>category</th>\n",
       "      <th>customer_country</th>\n",
       "      <th>daytime</th>\n",
       "      <th>hour</th>\n",
       "      <th>tx_date_proc</th>\n",
       "      <th>weekday</th>\n",
       "    </tr>\n",
       "  </thead>\n",
       "  <tbody>\n",
       "    <tr>\n",
       "      <th>0</th>\n",
       "      <td>1</td>\n",
       "      <td>33.46</td>\n",
       "      <td>Fashion &amp; Shoes</td>\n",
       "      <td>GB</td>\n",
       "      <td>Night</td>\n",
       "      <td>21</td>\n",
       "      <td>2012-03-01 21:51:54+00</td>\n",
       "      <td>thursday</td>\n",
       "    </tr>\n",
       "    <tr>\n",
       "      <th>1</th>\n",
       "      <td>2</td>\n",
       "      <td>59.97</td>\n",
       "      <td>Fashion &amp; Shoes</td>\n",
       "      <td>GB</td>\n",
       "      <td>Afternoon</td>\n",
       "      <td>16</td>\n",
       "      <td>2012-03-02 16:12:52+00</td>\n",
       "      <td>friday</td>\n",
       "    </tr>\n",
       "    <tr>\n",
       "      <th>2</th>\n",
       "      <td>3</td>\n",
       "      <td>49.99</td>\n",
       "      <td>Fashion &amp; Shoes</td>\n",
       "      <td>CN</td>\n",
       "      <td>Evening</td>\n",
       "      <td>17</td>\n",
       "      <td>2012-03-02 17:34:01+00</td>\n",
       "      <td>friday</td>\n",
       "    </tr>\n",
       "    <tr>\n",
       "      <th>3</th>\n",
       "      <td>4</td>\n",
       "      <td>5.95</td>\n",
       "      <td>Fashion &amp; Shoes</td>\n",
       "      <td>GB</td>\n",
       "      <td>Evening</td>\n",
       "      <td>17</td>\n",
       "      <td>2012-03-01 17:43:29+00</td>\n",
       "      <td>thursday</td>\n",
       "    </tr>\n",
       "    <tr>\n",
       "      <th>4</th>\n",
       "      <td>5</td>\n",
       "      <td>16.65</td>\n",
       "      <td>Bars &amp; restaurants</td>\n",
       "      <td>DK</td>\n",
       "      <td>Night</td>\n",
       "      <td>22</td>\n",
       "      <td>2012-03-01 22:47:52+00</td>\n",
       "      <td>thursday</td>\n",
       "    </tr>\n",
       "  </tbody>\n",
       "</table>\n",
       "</div>"
      ],
      "text/plain": [
       "   Unnamed: 0  amount            category customer_country    daytime  hour  \\\n",
       "0           1   33.46     Fashion & Shoes               GB      Night    21   \n",
       "1           2   59.97     Fashion & Shoes               GB  Afternoon    16   \n",
       "2           3   49.99     Fashion & Shoes               CN    Evening    17   \n",
       "3           4    5.95     Fashion & Shoes               GB    Evening    17   \n",
       "4           5   16.65  Bars & restaurants               DK      Night    22   \n",
       "\n",
       "             tx_date_proc    weekday  \n",
       "0  2012-03-01 21:51:54+00  thursday   \n",
       "1  2012-03-02 16:12:52+00  friday     \n",
       "2  2012-03-02 17:34:01+00  friday     \n",
       "3  2012-03-01 17:43:29+00  thursday   \n",
       "4  2012-03-01 22:47:52+00  thursday   "
      ]
     },
     "execution_count": 6,
     "metadata": {},
     "output_type": "execute_result"
    }
   ],
   "source": [
    "df.head()"
   ]
  },
  {
   "cell_type": "code",
   "execution_count": 7,
   "id": "32eaf60d",
   "metadata": {},
   "outputs": [
    {
     "data": {
      "text/html": [
       "<div>\n",
       "<style scoped>\n",
       "    .dataframe tbody tr th:only-of-type {\n",
       "        vertical-align: middle;\n",
       "    }\n",
       "\n",
       "    .dataframe tbody tr th {\n",
       "        vertical-align: top;\n",
       "    }\n",
       "\n",
       "    .dataframe thead th {\n",
       "        text-align: right;\n",
       "    }\n",
       "</style>\n",
       "<table border=\"1\" class=\"dataframe\">\n",
       "  <thead>\n",
       "    <tr style=\"text-align: right;\">\n",
       "      <th></th>\n",
       "      <th>Unnamed: 0</th>\n",
       "      <th>amount</th>\n",
       "      <th>category</th>\n",
       "      <th>customer_country</th>\n",
       "      <th>daytime</th>\n",
       "      <th>hour</th>\n",
       "      <th>tx_date_proc</th>\n",
       "      <th>weekday</th>\n",
       "    </tr>\n",
       "  </thead>\n",
       "  <tbody>\n",
       "    <tr>\n",
       "      <th>10788</th>\n",
       "      <td>10789</td>\n",
       "      <td>79.33</td>\n",
       "      <td>Bars &amp; restaurants</td>\n",
       "      <td>IN</td>\n",
       "      <td>Night</td>\n",
       "      <td>21</td>\n",
       "      <td>2012-03-02 21:22:51+00</td>\n",
       "      <td>friday</td>\n",
       "    </tr>\n",
       "    <tr>\n",
       "      <th>10789</th>\n",
       "      <td>10790</td>\n",
       "      <td>77.70</td>\n",
       "      <td>Bars &amp; restaurants</td>\n",
       "      <td>US</td>\n",
       "      <td>Night</td>\n",
       "      <td>22</td>\n",
       "      <td>2012-03-02 22:42:09+00</td>\n",
       "      <td>friday</td>\n",
       "    </tr>\n",
       "    <tr>\n",
       "      <th>10790</th>\n",
       "      <td>10791</td>\n",
       "      <td>48.25</td>\n",
       "      <td>Bars &amp; restaurants</td>\n",
       "      <td>US</td>\n",
       "      <td>Midnight</td>\n",
       "      <td>23</td>\n",
       "      <td>2012-03-02 23:01:19+00</td>\n",
       "      <td>friday</td>\n",
       "    </tr>\n",
       "    <tr>\n",
       "      <th>10791</th>\n",
       "      <td>10792</td>\n",
       "      <td>368.90</td>\n",
       "      <td>Bars &amp; restaurants</td>\n",
       "      <td>MY</td>\n",
       "      <td>Night</td>\n",
       "      <td>22</td>\n",
       "      <td>2012-03-02 22:35:46+00</td>\n",
       "      <td>friday</td>\n",
       "    </tr>\n",
       "    <tr>\n",
       "      <th>10792</th>\n",
       "      <td>10793</td>\n",
       "      <td>452.55</td>\n",
       "      <td>Bars &amp; restaurants</td>\n",
       "      <td>CN</td>\n",
       "      <td>Afternoon</td>\n",
       "      <td>15</td>\n",
       "      <td>2012-03-01 15:27:26+00</td>\n",
       "      <td>thursday</td>\n",
       "    </tr>\n",
       "  </tbody>\n",
       "</table>\n",
       "</div>"
      ],
      "text/plain": [
       "       Unnamed: 0  amount            category customer_country    daytime  \\\n",
       "10788       10789   79.33  Bars & restaurants               IN      Night   \n",
       "10789       10790   77.70  Bars & restaurants               US      Night   \n",
       "10790       10791   48.25  Bars & restaurants               US   Midnight   \n",
       "10791       10792  368.90  Bars & restaurants               MY      Night   \n",
       "10792       10793  452.55  Bars & restaurants               CN  Afternoon   \n",
       "\n",
       "       hour            tx_date_proc    weekday  \n",
       "10788    21  2012-03-02 21:22:51+00  friday     \n",
       "10789    22  2012-03-02 22:42:09+00  friday     \n",
       "10790    23  2012-03-02 23:01:19+00  friday     \n",
       "10791    22  2012-03-02 22:35:46+00  friday     \n",
       "10792    15  2012-03-01 15:27:26+00  thursday   "
      ]
     },
     "execution_count": 7,
     "metadata": {},
     "output_type": "execute_result"
    }
   ],
   "source": [
    "df.tail()"
   ]
  },
  {
   "cell_type": "code",
   "execution_count": 8,
   "id": "4ac08a4a",
   "metadata": {},
   "outputs": [
    {
     "data": {
      "text/html": [
       "<div>\n",
       "<style scoped>\n",
       "    .dataframe tbody tr th:only-of-type {\n",
       "        vertical-align: middle;\n",
       "    }\n",
       "\n",
       "    .dataframe tbody tr th {\n",
       "        vertical-align: top;\n",
       "    }\n",
       "\n",
       "    .dataframe thead th {\n",
       "        text-align: right;\n",
       "    }\n",
       "</style>\n",
       "<table border=\"1\" class=\"dataframe\">\n",
       "  <thead>\n",
       "    <tr style=\"text-align: right;\">\n",
       "      <th></th>\n",
       "      <th>Unnamed: 0</th>\n",
       "      <th>amount</th>\n",
       "      <th>hour</th>\n",
       "    </tr>\n",
       "  </thead>\n",
       "  <tbody>\n",
       "    <tr>\n",
       "      <th>count</th>\n",
       "      <td>10793.000000</td>\n",
       "      <td>10793.000000</td>\n",
       "      <td>10793.000000</td>\n",
       "    </tr>\n",
       "    <tr>\n",
       "      <th>mean</th>\n",
       "      <td>5397.000000</td>\n",
       "      <td>108.735644</td>\n",
       "      <td>15.032428</td>\n",
       "    </tr>\n",
       "    <tr>\n",
       "      <th>std</th>\n",
       "      <td>3115.815062</td>\n",
       "      <td>310.303331</td>\n",
       "      <td>4.809074</td>\n",
       "    </tr>\n",
       "    <tr>\n",
       "      <th>min</th>\n",
       "      <td>1.000000</td>\n",
       "      <td>0.040000</td>\n",
       "      <td>0.000000</td>\n",
       "    </tr>\n",
       "    <tr>\n",
       "      <th>25%</th>\n",
       "      <td>2699.000000</td>\n",
       "      <td>19.900000</td>\n",
       "      <td>12.000000</td>\n",
       "    </tr>\n",
       "    <tr>\n",
       "      <th>50%</th>\n",
       "      <td>5397.000000</td>\n",
       "      <td>39.990000</td>\n",
       "      <td>16.000000</td>\n",
       "    </tr>\n",
       "    <tr>\n",
       "      <th>75%</th>\n",
       "      <td>8095.000000</td>\n",
       "      <td>92.680000</td>\n",
       "      <td>18.000000</td>\n",
       "    </tr>\n",
       "    <tr>\n",
       "      <th>max</th>\n",
       "      <td>10793.000000</td>\n",
       "      <td>15000.000000</td>\n",
       "      <td>23.000000</td>\n",
       "    </tr>\n",
       "  </tbody>\n",
       "</table>\n",
       "</div>"
      ],
      "text/plain": [
       "         Unnamed: 0        amount          hour\n",
       "count  10793.000000  10793.000000  10793.000000\n",
       "mean    5397.000000    108.735644     15.032428\n",
       "std     3115.815062    310.303331      4.809074\n",
       "min        1.000000      0.040000      0.000000\n",
       "25%     2699.000000     19.900000     12.000000\n",
       "50%     5397.000000     39.990000     16.000000\n",
       "75%     8095.000000     92.680000     18.000000\n",
       "max    10793.000000  15000.000000     23.000000"
      ]
     },
     "execution_count": 8,
     "metadata": {},
     "output_type": "execute_result"
    }
   ],
   "source": [
    "df.describe()"
   ]
  },
  {
   "cell_type": "markdown",
   "id": "1bf7f201",
   "metadata": {},
   "source": [
    "Column Unnamed: 0 must be removed, it adds no value"
   ]
  },
  {
   "cell_type": "code",
   "execution_count": 9,
   "id": "eea47890",
   "metadata": {},
   "outputs": [],
   "source": [
    "del df['Unnamed: 0']"
   ]
  },
  {
   "cell_type": "code",
   "execution_count": 10,
   "id": "965618b1",
   "metadata": {},
   "outputs": [
    {
     "data": {
      "text/html": [
       "<div>\n",
       "<style scoped>\n",
       "    .dataframe tbody tr th:only-of-type {\n",
       "        vertical-align: middle;\n",
       "    }\n",
       "\n",
       "    .dataframe tbody tr th {\n",
       "        vertical-align: top;\n",
       "    }\n",
       "\n",
       "    .dataframe thead th {\n",
       "        text-align: right;\n",
       "    }\n",
       "</style>\n",
       "<table border=\"1\" class=\"dataframe\">\n",
       "  <thead>\n",
       "    <tr style=\"text-align: right;\">\n",
       "      <th></th>\n",
       "      <th>amount</th>\n",
       "      <th>category</th>\n",
       "      <th>customer_country</th>\n",
       "      <th>daytime</th>\n",
       "      <th>hour</th>\n",
       "      <th>tx_date_proc</th>\n",
       "      <th>weekday</th>\n",
       "    </tr>\n",
       "  </thead>\n",
       "  <tbody>\n",
       "    <tr>\n",
       "      <th>0</th>\n",
       "      <td>33.46</td>\n",
       "      <td>Fashion &amp; Shoes</td>\n",
       "      <td>GB</td>\n",
       "      <td>Night</td>\n",
       "      <td>21</td>\n",
       "      <td>2012-03-01 21:51:54+00</td>\n",
       "      <td>thursday</td>\n",
       "    </tr>\n",
       "  </tbody>\n",
       "</table>\n",
       "</div>"
      ],
      "text/plain": [
       "   amount         category customer_country daytime  hour  \\\n",
       "0   33.46  Fashion & Shoes               GB   Night    21   \n",
       "\n",
       "             tx_date_proc    weekday  \n",
       "0  2012-03-01 21:51:54+00  thursday   "
      ]
     },
     "execution_count": 10,
     "metadata": {},
     "output_type": "execute_result"
    }
   ],
   "source": [
    "#columns are now clean\n",
    "df.head(1)"
   ]
  },
  {
   "cell_type": "code",
   "execution_count": 11,
   "id": "2ec93ab8",
   "metadata": {
    "scrolled": false
   },
   "outputs": [
    {
     "data": {
      "text/html": [
       "<div>\n",
       "<style scoped>\n",
       "    .dataframe tbody tr th:only-of-type {\n",
       "        vertical-align: middle;\n",
       "    }\n",
       "\n",
       "    .dataframe tbody tr th {\n",
       "        vertical-align: top;\n",
       "    }\n",
       "\n",
       "    .dataframe thead th {\n",
       "        text-align: right;\n",
       "    }\n",
       "</style>\n",
       "<table border=\"1\" class=\"dataframe\">\n",
       "  <thead>\n",
       "    <tr style=\"text-align: right;\">\n",
       "      <th></th>\n",
       "      <th>amount</th>\n",
       "      <th>category</th>\n",
       "      <th>customer_country</th>\n",
       "      <th>daytime</th>\n",
       "      <th>hour</th>\n",
       "      <th>tx_date_proc</th>\n",
       "      <th>weekday</th>\n",
       "    </tr>\n",
       "  </thead>\n",
       "  <tbody>\n",
       "    <tr>\n",
       "      <th>5700</th>\n",
       "      <td>24.95</td>\n",
       "      <td>Fashion &amp; Shoes</td>\n",
       "      <td>GB</td>\n",
       "      <td>Mid morning</td>\n",
       "      <td>11</td>\n",
       "      <td>2012-03-02 11:33:21+00</td>\n",
       "      <td>friday</td>\n",
       "    </tr>\n",
       "    <tr>\n",
       "      <th>5701</th>\n",
       "      <td>54.90</td>\n",
       "      <td>Fashion &amp; Shoes</td>\n",
       "      <td>FR</td>\n",
       "      <td>Mid morning</td>\n",
       "      <td>11</td>\n",
       "      <td>2012-03-02 11:47:53+00</td>\n",
       "      <td>friday</td>\n",
       "    </tr>\n",
       "    <tr>\n",
       "      <th>5702</th>\n",
       "      <td>219.60</td>\n",
       "      <td>Fashion &amp; Shoes</td>\n",
       "      <td>BR</td>\n",
       "      <td>Mid morning</td>\n",
       "      <td>11</td>\n",
       "      <td>2012-03-02 11:50:50+00</td>\n",
       "      <td>friday</td>\n",
       "    </tr>\n",
       "    <tr>\n",
       "      <th>5703</th>\n",
       "      <td>52.90</td>\n",
       "      <td>Fashion &amp; Shoes</td>\n",
       "      <td>IT</td>\n",
       "      <td>Mid morning</td>\n",
       "      <td>11</td>\n",
       "      <td>2012-03-02 11:51:50+00</td>\n",
       "      <td>friday</td>\n",
       "    </tr>\n",
       "    <tr>\n",
       "      <th>5704</th>\n",
       "      <td>29.90</td>\n",
       "      <td>Fashion &amp; Shoes</td>\n",
       "      <td>TW</td>\n",
       "      <td>Afternoon</td>\n",
       "      <td>12</td>\n",
       "      <td>2012-03-02 12:00:04+00</td>\n",
       "      <td>friday</td>\n",
       "    </tr>\n",
       "    <tr>\n",
       "      <th>...</th>\n",
       "      <td>...</td>\n",
       "      <td>...</td>\n",
       "      <td>...</td>\n",
       "      <td>...</td>\n",
       "      <td>...</td>\n",
       "      <td>...</td>\n",
       "      <td>...</td>\n",
       "    </tr>\n",
       "    <tr>\n",
       "      <th>5795</th>\n",
       "      <td>25.98</td>\n",
       "      <td>Fashion &amp; Shoes</td>\n",
       "      <td>FI</td>\n",
       "      <td>Afternoon</td>\n",
       "      <td>16</td>\n",
       "      <td>2012-03-02 16:06:40+00</td>\n",
       "      <td>friday</td>\n",
       "    </tr>\n",
       "    <tr>\n",
       "      <th>5796</th>\n",
       "      <td>97.75</td>\n",
       "      <td>Fashion &amp; Shoes</td>\n",
       "      <td>FR</td>\n",
       "      <td>Afternoon</td>\n",
       "      <td>16</td>\n",
       "      <td>2012-03-02 16:08:00+00</td>\n",
       "      <td>friday</td>\n",
       "    </tr>\n",
       "    <tr>\n",
       "      <th>5797</th>\n",
       "      <td>18.85</td>\n",
       "      <td>Fashion &amp; Shoes</td>\n",
       "      <td>SE</td>\n",
       "      <td>Afternoon</td>\n",
       "      <td>16</td>\n",
       "      <td>2012-03-02 16:09:14+00</td>\n",
       "      <td>friday</td>\n",
       "    </tr>\n",
       "    <tr>\n",
       "      <th>5798</th>\n",
       "      <td>67.00</td>\n",
       "      <td>Fashion &amp; Shoes</td>\n",
       "      <td>US</td>\n",
       "      <td>Afternoon</td>\n",
       "      <td>16</td>\n",
       "      <td>2012-03-02 16:10:02+00</td>\n",
       "      <td>friday</td>\n",
       "    </tr>\n",
       "    <tr>\n",
       "      <th>5799</th>\n",
       "      <td>77.88</td>\n",
       "      <td>Fashion &amp; Shoes</td>\n",
       "      <td>PH</td>\n",
       "      <td>Afternoon</td>\n",
       "      <td>16</td>\n",
       "      <td>2012-03-02 16:10:37+00</td>\n",
       "      <td>friday</td>\n",
       "    </tr>\n",
       "  </tbody>\n",
       "</table>\n",
       "<p>100 rows × 7 columns</p>\n",
       "</div>"
      ],
      "text/plain": [
       "      amount         category customer_country      daytime  hour  \\\n",
       "5700   24.95  Fashion & Shoes               GB  Mid morning    11   \n",
       "5701   54.90  Fashion & Shoes               FR  Mid morning    11   \n",
       "5702  219.60  Fashion & Shoes               BR  Mid morning    11   \n",
       "5703   52.90  Fashion & Shoes               IT  Mid morning    11   \n",
       "5704   29.90  Fashion & Shoes               TW    Afternoon    12   \n",
       "...      ...              ...              ...          ...   ...   \n",
       "5795   25.98  Fashion & Shoes               FI    Afternoon    16   \n",
       "5796   97.75  Fashion & Shoes               FR    Afternoon    16   \n",
       "5797   18.85  Fashion & Shoes               SE    Afternoon    16   \n",
       "5798   67.00  Fashion & Shoes               US    Afternoon    16   \n",
       "5799   77.88  Fashion & Shoes               PH    Afternoon    16   \n",
       "\n",
       "                tx_date_proc    weekday  \n",
       "5700  2012-03-02 11:33:21+00  friday     \n",
       "5701  2012-03-02 11:47:53+00  friday     \n",
       "5702  2012-03-02 11:50:50+00  friday     \n",
       "5703  2012-03-02 11:51:50+00  friday     \n",
       "5704  2012-03-02 12:00:04+00  friday     \n",
       "...                      ...        ...  \n",
       "5795  2012-03-02 16:06:40+00  friday     \n",
       "5796  2012-03-02 16:08:00+00  friday     \n",
       "5797  2012-03-02 16:09:14+00  friday     \n",
       "5798  2012-03-02 16:10:02+00  friday     \n",
       "5799  2012-03-02 16:10:37+00  friday     \n",
       "\n",
       "[100 rows x 7 columns]"
      ]
     },
     "execution_count": 11,
     "metadata": {},
     "output_type": "execute_result"
    }
   ],
   "source": [
    "#making sure we got thurdays and fridays consistent with column tx_date_proc\n",
    "df.iloc[5700:5800,:]"
   ]
  },
  {
   "cell_type": "markdown",
   "id": "af9ce350",
   "metadata": {},
   "source": [
    "### Feature engineering adjustment to have date and time separated"
   ]
  },
  {
   "cell_type": "code",
   "execution_count": 12,
   "id": "81ac4071",
   "metadata": {},
   "outputs": [],
   "source": [
    "df.tx_date_proc = df.tx_date_proc.apply(pd.to_datetime)"
   ]
  },
  {
   "cell_type": "code",
   "execution_count": 13,
   "id": "44e26f1f",
   "metadata": {},
   "outputs": [
    {
     "data": {
      "text/html": [
       "<div>\n",
       "<style scoped>\n",
       "    .dataframe tbody tr th:only-of-type {\n",
       "        vertical-align: middle;\n",
       "    }\n",
       "\n",
       "    .dataframe tbody tr th {\n",
       "        vertical-align: top;\n",
       "    }\n",
       "\n",
       "    .dataframe thead th {\n",
       "        text-align: right;\n",
       "    }\n",
       "</style>\n",
       "<table border=\"1\" class=\"dataframe\">\n",
       "  <thead>\n",
       "    <tr style=\"text-align: right;\">\n",
       "      <th></th>\n",
       "      <th>amount</th>\n",
       "      <th>category</th>\n",
       "      <th>customer_country</th>\n",
       "      <th>daytime</th>\n",
       "      <th>hour</th>\n",
       "      <th>tx_date_proc</th>\n",
       "      <th>weekday</th>\n",
       "      <th>Day</th>\n",
       "      <th>Time</th>\n",
       "    </tr>\n",
       "  </thead>\n",
       "  <tbody>\n",
       "    <tr>\n",
       "      <th>10763</th>\n",
       "      <td>17.15</td>\n",
       "      <td>Food</td>\n",
       "      <td>US</td>\n",
       "      <td>Night</td>\n",
       "      <td>22</td>\n",
       "      <td>2012-03-01 22:12:02+00:00</td>\n",
       "      <td>thursday</td>\n",
       "      <td>2012-03-01</td>\n",
       "      <td>22:12:02</td>\n",
       "    </tr>\n",
       "    <tr>\n",
       "      <th>10764</th>\n",
       "      <td>192.65</td>\n",
       "      <td>Other goods and services</td>\n",
       "      <td>NL</td>\n",
       "      <td>Midnight</td>\n",
       "      <td>23</td>\n",
       "      <td>2012-03-01 23:23:01+00:00</td>\n",
       "      <td>thursday</td>\n",
       "      <td>2012-03-01</td>\n",
       "      <td>23:23:01</td>\n",
       "    </tr>\n",
       "    <tr>\n",
       "      <th>10765</th>\n",
       "      <td>200.00</td>\n",
       "      <td>Bars &amp; restaurants</td>\n",
       "      <td>IT</td>\n",
       "      <td>Midnight</td>\n",
       "      <td>23</td>\n",
       "      <td>2012-03-01 23:48:00+00:00</td>\n",
       "      <td>thursday</td>\n",
       "      <td>2012-03-01</td>\n",
       "      <td>23:48:00</td>\n",
       "    </tr>\n",
       "    <tr>\n",
       "      <th>10766</th>\n",
       "      <td>1172.22</td>\n",
       "      <td>Accommodation</td>\n",
       "      <td>US</td>\n",
       "      <td>Morning</td>\n",
       "      <td>6</td>\n",
       "      <td>2012-03-02 06:50:17+00:00</td>\n",
       "      <td>friday</td>\n",
       "      <td>2012-03-02</td>\n",
       "      <td>06:50:17</td>\n",
       "    </tr>\n",
       "    <tr>\n",
       "      <th>10767</th>\n",
       "      <td>69.95</td>\n",
       "      <td>Accommodation</td>\n",
       "      <td>US</td>\n",
       "      <td>Morning</td>\n",
       "      <td>7</td>\n",
       "      <td>2012-03-02 07:23:41+00:00</td>\n",
       "      <td>friday</td>\n",
       "      <td>2012-03-02</td>\n",
       "      <td>07:23:41</td>\n",
       "    </tr>\n",
       "    <tr>\n",
       "      <th>10768</th>\n",
       "      <td>90.15</td>\n",
       "      <td>Accommodation</td>\n",
       "      <td>CN</td>\n",
       "      <td>Mid morning</td>\n",
       "      <td>9</td>\n",
       "      <td>2012-03-02 09:57:36+00:00</td>\n",
       "      <td>friday</td>\n",
       "      <td>2012-03-02</td>\n",
       "      <td>09:57:36</td>\n",
       "    </tr>\n",
       "    <tr>\n",
       "      <th>10769</th>\n",
       "      <td>455.00</td>\n",
       "      <td>Accommodation</td>\n",
       "      <td>RU</td>\n",
       "      <td>Mid morning</td>\n",
       "      <td>10</td>\n",
       "      <td>2012-03-02 10:29:35+00:00</td>\n",
       "      <td>friday</td>\n",
       "      <td>2012-03-02</td>\n",
       "      <td>10:29:35</td>\n",
       "    </tr>\n",
       "    <tr>\n",
       "      <th>10770</th>\n",
       "      <td>394.00</td>\n",
       "      <td>Fashion &amp; Shoes</td>\n",
       "      <td>CL</td>\n",
       "      <td>Mid morning</td>\n",
       "      <td>11</td>\n",
       "      <td>2012-03-02 11:15:57+00:00</td>\n",
       "      <td>friday</td>\n",
       "      <td>2012-03-02</td>\n",
       "      <td>11:15:57</td>\n",
       "    </tr>\n",
       "    <tr>\n",
       "      <th>10771</th>\n",
       "      <td>244.00</td>\n",
       "      <td>Fashion &amp; Shoes</td>\n",
       "      <td>IL</td>\n",
       "      <td>Mid morning</td>\n",
       "      <td>11</td>\n",
       "      <td>2012-03-02 11:34:59+00:00</td>\n",
       "      <td>friday</td>\n",
       "      <td>2012-03-02</td>\n",
       "      <td>11:34:59</td>\n",
       "    </tr>\n",
       "    <tr>\n",
       "      <th>10772</th>\n",
       "      <td>21.60</td>\n",
       "      <td>Health</td>\n",
       "      <td>SE</td>\n",
       "      <td>Mid morning</td>\n",
       "      <td>11</td>\n",
       "      <td>2012-03-02 11:38:59+00:00</td>\n",
       "      <td>friday</td>\n",
       "      <td>2012-03-02</td>\n",
       "      <td>11:38:59</td>\n",
       "    </tr>\n",
       "    <tr>\n",
       "      <th>10773</th>\n",
       "      <td>15.50</td>\n",
       "      <td>Personal products</td>\n",
       "      <td>US</td>\n",
       "      <td>Afternoon</td>\n",
       "      <td>12</td>\n",
       "      <td>2012-03-02 12:41:39+00:00</td>\n",
       "      <td>friday</td>\n",
       "      <td>2012-03-02</td>\n",
       "      <td>12:41:39</td>\n",
       "    </tr>\n",
       "    <tr>\n",
       "      <th>10774</th>\n",
       "      <td>45.26</td>\n",
       "      <td>Food</td>\n",
       "      <td>SE</td>\n",
       "      <td>Afternoon</td>\n",
       "      <td>13</td>\n",
       "      <td>2012-03-02 13:38:49+00:00</td>\n",
       "      <td>friday</td>\n",
       "      <td>2012-03-02</td>\n",
       "      <td>13:38:49</td>\n",
       "    </tr>\n",
       "    <tr>\n",
       "      <th>10775</th>\n",
       "      <td>17.15</td>\n",
       "      <td>Bars &amp; restaurants</td>\n",
       "      <td>FR</td>\n",
       "      <td>Afternoon</td>\n",
       "      <td>14</td>\n",
       "      <td>2012-03-02 14:23:04+00:00</td>\n",
       "      <td>friday</td>\n",
       "      <td>2012-03-02</td>\n",
       "      <td>14:23:04</td>\n",
       "    </tr>\n",
       "    <tr>\n",
       "      <th>10776</th>\n",
       "      <td>90.30</td>\n",
       "      <td>Health</td>\n",
       "      <td>DK</td>\n",
       "      <td>Afternoon</td>\n",
       "      <td>15</td>\n",
       "      <td>2012-03-02 15:33:36+00:00</td>\n",
       "      <td>friday</td>\n",
       "      <td>2012-03-02</td>\n",
       "      <td>15:33:36</td>\n",
       "    </tr>\n",
       "    <tr>\n",
       "      <th>10777</th>\n",
       "      <td>59.00</td>\n",
       "      <td>Accommodation</td>\n",
       "      <td>IT</td>\n",
       "      <td>Afternoon</td>\n",
       "      <td>15</td>\n",
       "      <td>2012-03-02 15:55:53+00:00</td>\n",
       "      <td>friday</td>\n",
       "      <td>2012-03-02</td>\n",
       "      <td>15:55:53</td>\n",
       "    </tr>\n",
       "    <tr>\n",
       "      <th>10778</th>\n",
       "      <td>152.81</td>\n",
       "      <td>Hogar y reformas</td>\n",
       "      <td>DK</td>\n",
       "      <td>Afternoon</td>\n",
       "      <td>16</td>\n",
       "      <td>2012-03-02 16:26:59+00:00</td>\n",
       "      <td>friday</td>\n",
       "      <td>2012-03-02</td>\n",
       "      <td>16:26:59</td>\n",
       "    </tr>\n",
       "    <tr>\n",
       "      <th>10779</th>\n",
       "      <td>5.60</td>\n",
       "      <td>Bars &amp; restaurants</td>\n",
       "      <td>CN</td>\n",
       "      <td>Evening</td>\n",
       "      <td>18</td>\n",
       "      <td>2012-03-02 18:47:36+00:00</td>\n",
       "      <td>friday</td>\n",
       "      <td>2012-03-02</td>\n",
       "      <td>18:47:36</td>\n",
       "    </tr>\n",
       "    <tr>\n",
       "      <th>10780</th>\n",
       "      <td>39.00</td>\n",
       "      <td>Personal products</td>\n",
       "      <td>FR</td>\n",
       "      <td>Afternoon</td>\n",
       "      <td>16</td>\n",
       "      <td>2012-03-02 16:51:41+00:00</td>\n",
       "      <td>friday</td>\n",
       "      <td>2012-03-02</td>\n",
       "      <td>16:51:41</td>\n",
       "    </tr>\n",
       "    <tr>\n",
       "      <th>10781</th>\n",
       "      <td>7.95</td>\n",
       "      <td>Fashion &amp; Shoes</td>\n",
       "      <td>FR</td>\n",
       "      <td>Evening</td>\n",
       "      <td>17</td>\n",
       "      <td>2012-03-02 17:35:46+00:00</td>\n",
       "      <td>friday</td>\n",
       "      <td>2012-03-02</td>\n",
       "      <td>17:35:46</td>\n",
       "    </tr>\n",
       "    <tr>\n",
       "      <th>10782</th>\n",
       "      <td>146.00</td>\n",
       "      <td>Health</td>\n",
       "      <td>BR</td>\n",
       "      <td>Evening</td>\n",
       "      <td>17</td>\n",
       "      <td>2012-03-02 17:47:51+00:00</td>\n",
       "      <td>friday</td>\n",
       "      <td>2012-03-02</td>\n",
       "      <td>17:47:51</td>\n",
       "    </tr>\n",
       "    <tr>\n",
       "      <th>10783</th>\n",
       "      <td>13.99</td>\n",
       "      <td>Fashion &amp; Shoes</td>\n",
       "      <td>SE</td>\n",
       "      <td>Evening</td>\n",
       "      <td>18</td>\n",
       "      <td>2012-03-02 18:14:40+00:00</td>\n",
       "      <td>friday</td>\n",
       "      <td>2012-03-02</td>\n",
       "      <td>18:14:40</td>\n",
       "    </tr>\n",
       "    <tr>\n",
       "      <th>10784</th>\n",
       "      <td>9.99</td>\n",
       "      <td>Fashion &amp; Shoes</td>\n",
       "      <td>IT</td>\n",
       "      <td>Evening</td>\n",
       "      <td>18</td>\n",
       "      <td>2012-03-02 18:35:20+00:00</td>\n",
       "      <td>friday</td>\n",
       "      <td>2012-03-02</td>\n",
       "      <td>18:35:20</td>\n",
       "    </tr>\n",
       "    <tr>\n",
       "      <th>10785</th>\n",
       "      <td>100.00</td>\n",
       "      <td>Other goods and services</td>\n",
       "      <td>GB</td>\n",
       "      <td>Evening</td>\n",
       "      <td>19</td>\n",
       "      <td>2012-03-02 19:12:49+00:00</td>\n",
       "      <td>friday</td>\n",
       "      <td>2012-03-02</td>\n",
       "      <td>19:12:49</td>\n",
       "    </tr>\n",
       "    <tr>\n",
       "      <th>10786</th>\n",
       "      <td>19.10</td>\n",
       "      <td>Bars &amp; restaurants</td>\n",
       "      <td>FR</td>\n",
       "      <td>Evening</td>\n",
       "      <td>19</td>\n",
       "      <td>2012-03-02 19:22:27+00:00</td>\n",
       "      <td>friday</td>\n",
       "      <td>2012-03-02</td>\n",
       "      <td>19:22:27</td>\n",
       "    </tr>\n",
       "    <tr>\n",
       "      <th>10787</th>\n",
       "      <td>211.06</td>\n",
       "      <td>Health</td>\n",
       "      <td>RU</td>\n",
       "      <td>Evening</td>\n",
       "      <td>20</td>\n",
       "      <td>2012-03-02 20:12:42+00:00</td>\n",
       "      <td>friday</td>\n",
       "      <td>2012-03-02</td>\n",
       "      <td>20:12:42</td>\n",
       "    </tr>\n",
       "    <tr>\n",
       "      <th>10788</th>\n",
       "      <td>79.33</td>\n",
       "      <td>Bars &amp; restaurants</td>\n",
       "      <td>IN</td>\n",
       "      <td>Night</td>\n",
       "      <td>21</td>\n",
       "      <td>2012-03-02 21:22:51+00:00</td>\n",
       "      <td>friday</td>\n",
       "      <td>2012-03-02</td>\n",
       "      <td>21:22:51</td>\n",
       "    </tr>\n",
       "    <tr>\n",
       "      <th>10789</th>\n",
       "      <td>77.70</td>\n",
       "      <td>Bars &amp; restaurants</td>\n",
       "      <td>US</td>\n",
       "      <td>Night</td>\n",
       "      <td>22</td>\n",
       "      <td>2012-03-02 22:42:09+00:00</td>\n",
       "      <td>friday</td>\n",
       "      <td>2012-03-02</td>\n",
       "      <td>22:42:09</td>\n",
       "    </tr>\n",
       "    <tr>\n",
       "      <th>10790</th>\n",
       "      <td>48.25</td>\n",
       "      <td>Bars &amp; restaurants</td>\n",
       "      <td>US</td>\n",
       "      <td>Midnight</td>\n",
       "      <td>23</td>\n",
       "      <td>2012-03-02 23:01:19+00:00</td>\n",
       "      <td>friday</td>\n",
       "      <td>2012-03-02</td>\n",
       "      <td>23:01:19</td>\n",
       "    </tr>\n",
       "    <tr>\n",
       "      <th>10791</th>\n",
       "      <td>368.90</td>\n",
       "      <td>Bars &amp; restaurants</td>\n",
       "      <td>MY</td>\n",
       "      <td>Night</td>\n",
       "      <td>22</td>\n",
       "      <td>2012-03-02 22:35:46+00:00</td>\n",
       "      <td>friday</td>\n",
       "      <td>2012-03-02</td>\n",
       "      <td>22:35:46</td>\n",
       "    </tr>\n",
       "    <tr>\n",
       "      <th>10792</th>\n",
       "      <td>452.55</td>\n",
       "      <td>Bars &amp; restaurants</td>\n",
       "      <td>CN</td>\n",
       "      <td>Afternoon</td>\n",
       "      <td>15</td>\n",
       "      <td>2012-03-01 15:27:26+00:00</td>\n",
       "      <td>thursday</td>\n",
       "      <td>2012-03-01</td>\n",
       "      <td>15:27:26</td>\n",
       "    </tr>\n",
       "  </tbody>\n",
       "</table>\n",
       "</div>"
      ],
      "text/plain": [
       "        amount                  category customer_country      daytime  hour  \\\n",
       "10763    17.15                      Food               US        Night    22   \n",
       "10764   192.65  Other goods and services               NL     Midnight    23   \n",
       "10765   200.00        Bars & restaurants               IT     Midnight    23   \n",
       "10766  1172.22             Accommodation               US      Morning     6   \n",
       "10767    69.95             Accommodation               US      Morning     7   \n",
       "10768    90.15             Accommodation               CN  Mid morning     9   \n",
       "10769   455.00             Accommodation               RU  Mid morning    10   \n",
       "10770   394.00           Fashion & Shoes               CL  Mid morning    11   \n",
       "10771   244.00           Fashion & Shoes               IL  Mid morning    11   \n",
       "10772    21.60                    Health               SE  Mid morning    11   \n",
       "10773    15.50         Personal products               US    Afternoon    12   \n",
       "10774    45.26                      Food               SE    Afternoon    13   \n",
       "10775    17.15        Bars & restaurants               FR    Afternoon    14   \n",
       "10776    90.30                    Health               DK    Afternoon    15   \n",
       "10777    59.00             Accommodation               IT    Afternoon    15   \n",
       "10778   152.81          Hogar y reformas               DK    Afternoon    16   \n",
       "10779     5.60        Bars & restaurants               CN      Evening    18   \n",
       "10780    39.00         Personal products               FR    Afternoon    16   \n",
       "10781     7.95           Fashion & Shoes               FR      Evening    17   \n",
       "10782   146.00                    Health               BR      Evening    17   \n",
       "10783    13.99           Fashion & Shoes               SE      Evening    18   \n",
       "10784     9.99           Fashion & Shoes               IT      Evening    18   \n",
       "10785   100.00  Other goods and services               GB      Evening    19   \n",
       "10786    19.10        Bars & restaurants               FR      Evening    19   \n",
       "10787   211.06                    Health               RU      Evening    20   \n",
       "10788    79.33        Bars & restaurants               IN        Night    21   \n",
       "10789    77.70        Bars & restaurants               US        Night    22   \n",
       "10790    48.25        Bars & restaurants               US     Midnight    23   \n",
       "10791   368.90        Bars & restaurants               MY        Night    22   \n",
       "10792   452.55        Bars & restaurants               CN    Afternoon    15   \n",
       "\n",
       "                   tx_date_proc    weekday         Day      Time  \n",
       "10763 2012-03-01 22:12:02+00:00  thursday   2012-03-01  22:12:02  \n",
       "10764 2012-03-01 23:23:01+00:00  thursday   2012-03-01  23:23:01  \n",
       "10765 2012-03-01 23:48:00+00:00  thursday   2012-03-01  23:48:00  \n",
       "10766 2012-03-02 06:50:17+00:00  friday     2012-03-02  06:50:17  \n",
       "10767 2012-03-02 07:23:41+00:00  friday     2012-03-02  07:23:41  \n",
       "10768 2012-03-02 09:57:36+00:00  friday     2012-03-02  09:57:36  \n",
       "10769 2012-03-02 10:29:35+00:00  friday     2012-03-02  10:29:35  \n",
       "10770 2012-03-02 11:15:57+00:00  friday     2012-03-02  11:15:57  \n",
       "10771 2012-03-02 11:34:59+00:00  friday     2012-03-02  11:34:59  \n",
       "10772 2012-03-02 11:38:59+00:00  friday     2012-03-02  11:38:59  \n",
       "10773 2012-03-02 12:41:39+00:00  friday     2012-03-02  12:41:39  \n",
       "10774 2012-03-02 13:38:49+00:00  friday     2012-03-02  13:38:49  \n",
       "10775 2012-03-02 14:23:04+00:00  friday     2012-03-02  14:23:04  \n",
       "10776 2012-03-02 15:33:36+00:00  friday     2012-03-02  15:33:36  \n",
       "10777 2012-03-02 15:55:53+00:00  friday     2012-03-02  15:55:53  \n",
       "10778 2012-03-02 16:26:59+00:00  friday     2012-03-02  16:26:59  \n",
       "10779 2012-03-02 18:47:36+00:00  friday     2012-03-02  18:47:36  \n",
       "10780 2012-03-02 16:51:41+00:00  friday     2012-03-02  16:51:41  \n",
       "10781 2012-03-02 17:35:46+00:00  friday     2012-03-02  17:35:46  \n",
       "10782 2012-03-02 17:47:51+00:00  friday     2012-03-02  17:47:51  \n",
       "10783 2012-03-02 18:14:40+00:00  friday     2012-03-02  18:14:40  \n",
       "10784 2012-03-02 18:35:20+00:00  friday     2012-03-02  18:35:20  \n",
       "10785 2012-03-02 19:12:49+00:00  friday     2012-03-02  19:12:49  \n",
       "10786 2012-03-02 19:22:27+00:00  friday     2012-03-02  19:22:27  \n",
       "10787 2012-03-02 20:12:42+00:00  friday     2012-03-02  20:12:42  \n",
       "10788 2012-03-02 21:22:51+00:00  friday     2012-03-02  21:22:51  \n",
       "10789 2012-03-02 22:42:09+00:00  friday     2012-03-02  22:42:09  \n",
       "10790 2012-03-02 23:01:19+00:00  friday     2012-03-02  23:01:19  \n",
       "10791 2012-03-02 22:35:46+00:00  friday     2012-03-02  22:35:46  \n",
       "10792 2012-03-01 15:27:26+00:00  thursday   2012-03-01  15:27:26  "
      ]
     },
     "execution_count": 13,
     "metadata": {},
     "output_type": "execute_result"
    }
   ],
   "source": [
    "df['Day'] = [d.date() for d in df['tx_date_proc']]\n",
    "df['Time'] = [d.time() for d in df['tx_date_proc']]\n",
    "df.tail(30)"
   ]
  },
  {
   "cell_type": "markdown",
   "id": "b506f1f5",
   "metadata": {},
   "source": [
    "Dates are consistent with the thursdays and fridays"
   ]
  },
  {
   "cell_type": "markdown",
   "id": "558eb988",
   "metadata": {},
   "source": [
    "### Feature engineering adjustment to have continent"
   ]
  },
  {
   "cell_type": "code",
   "execution_count": 14,
   "id": "1d24a4f1",
   "metadata": {},
   "outputs": [],
   "source": [
    "country_df = pd.read_csv(\"country-and-continent-codes-list.csv\")"
   ]
  },
  {
   "cell_type": "code",
   "execution_count": 15,
   "id": "89d537a8",
   "metadata": {},
   "outputs": [
    {
     "data": {
      "text/html": [
       "<div>\n",
       "<style scoped>\n",
       "    .dataframe tbody tr th:only-of-type {\n",
       "        vertical-align: middle;\n",
       "    }\n",
       "\n",
       "    .dataframe tbody tr th {\n",
       "        vertical-align: top;\n",
       "    }\n",
       "\n",
       "    .dataframe thead th {\n",
       "        text-align: right;\n",
       "    }\n",
       "</style>\n",
       "<table border=\"1\" class=\"dataframe\">\n",
       "  <thead>\n",
       "    <tr style=\"text-align: right;\">\n",
       "      <th></th>\n",
       "      <th>Continent_Name</th>\n",
       "      <th>Continent_Code</th>\n",
       "      <th>Country_Name</th>\n",
       "      <th>Two_Letter_Country_Code</th>\n",
       "      <th>Three_Letter_Country_Code</th>\n",
       "      <th>Country_Number</th>\n",
       "    </tr>\n",
       "  </thead>\n",
       "  <tbody>\n",
       "    <tr>\n",
       "      <th>0</th>\n",
       "      <td>Asia</td>\n",
       "      <td>AS</td>\n",
       "      <td>Afghanistan, Islamic Republic of</td>\n",
       "      <td>AF</td>\n",
       "      <td>AFG</td>\n",
       "      <td>4.0</td>\n",
       "    </tr>\n",
       "  </tbody>\n",
       "</table>\n",
       "</div>"
      ],
      "text/plain": [
       "  Continent_Name Continent_Code                      Country_Name  \\\n",
       "0           Asia             AS  Afghanistan, Islamic Republic of   \n",
       "\n",
       "  Two_Letter_Country_Code Three_Letter_Country_Code  Country_Number  \n",
       "0                      AF                       AFG             4.0  "
      ]
     },
     "execution_count": 15,
     "metadata": {},
     "output_type": "execute_result"
    }
   ],
   "source": [
    "country_df.head(1)"
   ]
  },
  {
   "cell_type": "code",
   "execution_count": 16,
   "id": "c2e2f649",
   "metadata": {},
   "outputs": [],
   "source": [
    "df = df.join(country_df.set_index('Two_Letter_Country_Code'), on = 'customer_country')\n"
   ]
  },
  {
   "cell_type": "code",
   "execution_count": 17,
   "id": "7326bafc",
   "metadata": {},
   "outputs": [
    {
     "data": {
      "text/html": [
       "<div>\n",
       "<style scoped>\n",
       "    .dataframe tbody tr th:only-of-type {\n",
       "        vertical-align: middle;\n",
       "    }\n",
       "\n",
       "    .dataframe tbody tr th {\n",
       "        vertical-align: top;\n",
       "    }\n",
       "\n",
       "    .dataframe thead th {\n",
       "        text-align: right;\n",
       "    }\n",
       "</style>\n",
       "<table border=\"1\" class=\"dataframe\">\n",
       "  <thead>\n",
       "    <tr style=\"text-align: right;\">\n",
       "      <th></th>\n",
       "      <th>amount</th>\n",
       "      <th>category</th>\n",
       "      <th>customer_country</th>\n",
       "      <th>daytime</th>\n",
       "      <th>hour</th>\n",
       "      <th>tx_date_proc</th>\n",
       "      <th>weekday</th>\n",
       "      <th>Day</th>\n",
       "      <th>Time</th>\n",
       "      <th>Continent_Name</th>\n",
       "      <th>Continent_Code</th>\n",
       "      <th>Country_Name</th>\n",
       "      <th>Three_Letter_Country_Code</th>\n",
       "      <th>Country_Number</th>\n",
       "    </tr>\n",
       "  </thead>\n",
       "  <tbody>\n",
       "    <tr>\n",
       "      <th>0</th>\n",
       "      <td>33.46</td>\n",
       "      <td>Fashion &amp; Shoes</td>\n",
       "      <td>GB</td>\n",
       "      <td>Night</td>\n",
       "      <td>21</td>\n",
       "      <td>2012-03-01 21:51:54+00:00</td>\n",
       "      <td>thursday</td>\n",
       "      <td>2012-03-01</td>\n",
       "      <td>21:51:54</td>\n",
       "      <td>Europe</td>\n",
       "      <td>EU</td>\n",
       "      <td>United Kingdom of Great Britain &amp; Northern Ire...</td>\n",
       "      <td>GBR</td>\n",
       "      <td>826.0</td>\n",
       "    </tr>\n",
       "    <tr>\n",
       "      <th>1</th>\n",
       "      <td>59.97</td>\n",
       "      <td>Fashion &amp; Shoes</td>\n",
       "      <td>GB</td>\n",
       "      <td>Afternoon</td>\n",
       "      <td>16</td>\n",
       "      <td>2012-03-02 16:12:52+00:00</td>\n",
       "      <td>friday</td>\n",
       "      <td>2012-03-02</td>\n",
       "      <td>16:12:52</td>\n",
       "      <td>Europe</td>\n",
       "      <td>EU</td>\n",
       "      <td>United Kingdom of Great Britain &amp; Northern Ire...</td>\n",
       "      <td>GBR</td>\n",
       "      <td>826.0</td>\n",
       "    </tr>\n",
       "    <tr>\n",
       "      <th>2</th>\n",
       "      <td>49.99</td>\n",
       "      <td>Fashion &amp; Shoes</td>\n",
       "      <td>CN</td>\n",
       "      <td>Evening</td>\n",
       "      <td>17</td>\n",
       "      <td>2012-03-02 17:34:01+00:00</td>\n",
       "      <td>friday</td>\n",
       "      <td>2012-03-02</td>\n",
       "      <td>17:34:01</td>\n",
       "      <td>Asia</td>\n",
       "      <td>AS</td>\n",
       "      <td>China, People's Republic of</td>\n",
       "      <td>CHN</td>\n",
       "      <td>156.0</td>\n",
       "    </tr>\n",
       "    <tr>\n",
       "      <th>3</th>\n",
       "      <td>5.95</td>\n",
       "      <td>Fashion &amp; Shoes</td>\n",
       "      <td>GB</td>\n",
       "      <td>Evening</td>\n",
       "      <td>17</td>\n",
       "      <td>2012-03-01 17:43:29+00:00</td>\n",
       "      <td>thursday</td>\n",
       "      <td>2012-03-01</td>\n",
       "      <td>17:43:29</td>\n",
       "      <td>Europe</td>\n",
       "      <td>EU</td>\n",
       "      <td>United Kingdom of Great Britain &amp; Northern Ire...</td>\n",
       "      <td>GBR</td>\n",
       "      <td>826.0</td>\n",
       "    </tr>\n",
       "    <tr>\n",
       "      <th>4</th>\n",
       "      <td>16.65</td>\n",
       "      <td>Bars &amp; restaurants</td>\n",
       "      <td>DK</td>\n",
       "      <td>Night</td>\n",
       "      <td>22</td>\n",
       "      <td>2012-03-01 22:47:52+00:00</td>\n",
       "      <td>thursday</td>\n",
       "      <td>2012-03-01</td>\n",
       "      <td>22:47:52</td>\n",
       "      <td>Europe</td>\n",
       "      <td>EU</td>\n",
       "      <td>Denmark, Kingdom of</td>\n",
       "      <td>DNK</td>\n",
       "      <td>208.0</td>\n",
       "    </tr>\n",
       "  </tbody>\n",
       "</table>\n",
       "</div>"
      ],
      "text/plain": [
       "   amount            category customer_country    daytime  hour  \\\n",
       "0   33.46     Fashion & Shoes               GB      Night    21   \n",
       "1   59.97     Fashion & Shoes               GB  Afternoon    16   \n",
       "2   49.99     Fashion & Shoes               CN    Evening    17   \n",
       "3    5.95     Fashion & Shoes               GB    Evening    17   \n",
       "4   16.65  Bars & restaurants               DK      Night    22   \n",
       "\n",
       "               tx_date_proc    weekday         Day      Time Continent_Name  \\\n",
       "0 2012-03-01 21:51:54+00:00  thursday   2012-03-01  21:51:54         Europe   \n",
       "1 2012-03-02 16:12:52+00:00  friday     2012-03-02  16:12:52         Europe   \n",
       "2 2012-03-02 17:34:01+00:00  friday     2012-03-02  17:34:01           Asia   \n",
       "3 2012-03-01 17:43:29+00:00  thursday   2012-03-01  17:43:29         Europe   \n",
       "4 2012-03-01 22:47:52+00:00  thursday   2012-03-01  22:47:52         Europe   \n",
       "\n",
       "  Continent_Code                                       Country_Name  \\\n",
       "0             EU  United Kingdom of Great Britain & Northern Ire...   \n",
       "1             EU  United Kingdom of Great Britain & Northern Ire...   \n",
       "2             AS                        China, People's Republic of   \n",
       "3             EU  United Kingdom of Great Britain & Northern Ire...   \n",
       "4             EU                                Denmark, Kingdom of   \n",
       "\n",
       "  Three_Letter_Country_Code  Country_Number  \n",
       "0                       GBR           826.0  \n",
       "1                       GBR           826.0  \n",
       "2                       CHN           156.0  \n",
       "3                       GBR           826.0  \n",
       "4                       DNK           208.0  "
      ]
     },
     "execution_count": 17,
     "metadata": {},
     "output_type": "execute_result"
    }
   ],
   "source": [
    "df.head(5)"
   ]
  },
  {
   "cell_type": "markdown",
   "id": "35eb0224",
   "metadata": {},
   "source": [
    "Expanded information about the country and continent"
   ]
  },
  {
   "cell_type": "code",
   "execution_count": 18,
   "id": "dfd0dfa2",
   "metadata": {},
   "outputs": [],
   "source": [
    "del df['Three_Letter_Country_Code']"
   ]
  },
  {
   "cell_type": "code",
   "execution_count": 19,
   "id": "ffb0a32f",
   "metadata": {},
   "outputs": [],
   "source": [
    "del df['Country_Number']"
   ]
  },
  {
   "cell_type": "markdown",
   "id": "a1ee403f",
   "metadata": {},
   "source": [
    "### Continue with Pandas EDA"
   ]
  },
  {
   "cell_type": "code",
   "execution_count": 20,
   "id": "eb2cc1b2",
   "metadata": {},
   "outputs": [
    {
     "name": "stdout",
     "output_type": "stream",
     "text": [
      "<class 'pandas.core.frame.DataFrame'>\n",
      "Int64Index: 11324 entries, 0 to 10792\n",
      "Data columns (total 12 columns):\n",
      " #   Column            Non-Null Count  Dtype              \n",
      "---  ------            --------------  -----              \n",
      " 0   amount            11324 non-null  float64            \n",
      " 1   category          11324 non-null  object             \n",
      " 2   customer_country  11324 non-null  object             \n",
      " 3   daytime           11324 non-null  object             \n",
      " 4   hour              11324 non-null  int64              \n",
      " 5   tx_date_proc      11324 non-null  datetime64[ns, UTC]\n",
      " 6   weekday           11324 non-null  object             \n",
      " 7   Day               11324 non-null  object             \n",
      " 8   Time              11324 non-null  object             \n",
      " 9   Continent_Name    11324 non-null  object             \n",
      " 10  Continent_Code    9083 non-null   object             \n",
      " 11  Country_Name      11324 non-null  object             \n",
      "dtypes: datetime64[ns, UTC](1), float64(1), int64(1), object(9)\n",
      "memory usage: 1.1+ MB\n"
     ]
    }
   ],
   "source": [
    "df.info()"
   ]
  },
  {
   "cell_type": "markdown",
   "id": "f0f16174",
   "metadata": {},
   "source": [
    "We converted the tx_date_proc column to a pure datetime64 format and added continents"
   ]
  },
  {
   "cell_type": "markdown",
   "id": "237da393",
   "metadata": {},
   "source": []
  },
  {
   "cell_type": "markdown",
   "id": "b125ee18",
   "metadata": {},
   "source": [
    "# Start EDA with ggplot2"
   ]
  },
  {
   "cell_type": "markdown",
   "id": "e04ec97c",
   "metadata": {},
   "source": [
    "## First chart: Heatmap"
   ]
  },
  {
   "cell_type": "code",
   "execution_count": 21,
   "id": "1dc01935",
   "metadata": {},
   "outputs": [
    {
     "data": {
      "image/png": "[encoded data removed]",
      "text/plain": [
       "<Figure size 640x480 with 1 Axes>"
      ]
     },
     "metadata": {},
     "output_type": "display_data"
    },
    {
     "data": {
      "text/plain": [
       "<ggplot: (189099838576)>"
      ]
     },
     "execution_count": 21,
     "metadata": {},
     "output_type": "execute_result"
    }
   ],
   "source": [
    "(ggplot(df)\n",
    "     + aes('hour', 'category')\n",
    "     + geom_bin2d(bins=20)\n",
    "     + ggtitle(\"Most bought category and time\")\n",
    ")\n"
   ]
  },
  {
   "cell_type": "markdown",
   "id": "9d967a3f",
   "metadata": {},
   "source": [
    "- Bars and Restaurants have activity within Spanish lunch and dinner customs\n",
    "- Fashion and shoes seem to skyrocket at 3 o clock"
   ]
  },
  {
   "cell_type": "markdown",
   "id": "3dc14398",
   "metadata": {},
   "source": [
    "# Second chart treemap"
   ]
  },
  {
   "cell_type": "code",
   "execution_count": 22,
   "id": "f5eb5682",
   "metadata": {},
   "outputs": [],
   "source": [
    "#needs to be finetuned a bit.."
   ]
  },
  {
   "cell_type": "code",
   "execution_count": 23,
   "id": "51ee17b0",
   "metadata": {
    "scrolled": true
   },
   "outputs": [
    {
     "data": {
      "image/png": "[encoded data removed]",
      "text/plain": [
       "<Figure size 2400x1600 with 1 Axes>"
      ]
     },
     "metadata": {},
     "output_type": "display_data"
    }
   ],
   "source": [
    "\n",
    "df2 = df.groupby('category').size().reset_index(name='counts')\n",
    "labels = df2.apply(lambda x: str(x[0]) + \"\\n (\" + str(x[1]) + \")\", axis=1)\n",
    "sizes = df2['counts'].values.tolist()\n",
    "colors = [plt.cm.Spectral(i/float(len(labels))) for i in range(len(labels))]\n",
    "\n",
    "# Draw Plot\n",
    "plt.figure(figsize=(30,20), dpi= 80)\n",
    "squarify.plot(sizes=sizes, label=labels, color=colors, alpha=.8,text_kwargs={'fontsize':13})\n",
    "\n",
    "# Decorate\n",
    "plt.title('Category Treemap ')\n",
    "plt.axis('off')\n",
    "plt.show()"
   ]
  },
  {
   "cell_type": "markdown",
   "id": "a17b246e",
   "metadata": {},
   "source": [
    "## Drilled down to understand which sector is more demanded by which nationality"
   ]
  },
  {
   "cell_type": "code",
   "execution_count": 24,
   "id": "da491dc2",
   "metadata": {
    "scrolled": false
   },
   "outputs": [
    {
     "data": {
      "application/vnd.plotly.v1+json": {
       "config": {
        "plotlyServerURL": "https://plot.ly"
       },
       "data": [
        {
         "branchvalues": "total",
         "domain": {
          "x": [
           0,
           1
          ],
          "y": [
           0,
           1
          ]
         },
         "hovertemplate": "labels=%{label}<br>count=%{value}<br>parent=%{parent}<br>id=%{id}<extra></extra>",
         "ids": [
          "all/Accommodation/AD",
          "all/Automoción/AD",
          "all/Bars & restaurants/AD",
          "all/Culture & Leisure/AD",
          "all/Fashion & Shoes/AD",
          "all/Food/AD",
          "all/Health/AD",
          "all/Hogar y reformas/AD",
          "all/Other goods and services/AD",
          "all/Personal products/AD",
          "all/Transportation/AD",
          "all/Accommodation/AE",
          "all/Bars & restaurants/AE",
          "all/Books & Music/AE",
          "all/Fashion & Shoes/AE",
          "all/Other goods and services/AE",
          "all/Accommodation/AM",
          "all/Bars & restaurants/AN",
          "all/Fashion & Shoes/AN",
          "all/Bars & restaurants/AO",
          "all/Fashion & Shoes/AO",
          "all/Accommodation/AR",
          "all/Bars & restaurants/AR",
          "all/Books & Music/AR",
          "all/Culture & Leisure/AR",
          "all/Electronics & computing/AR",
          "all/Fashion & Shoes/AR",
          "all/Food/AR",
          "all/Health/AR",
          "all/Hogar y reformas/AR",
          "all/Other goods and services/AR",
          "all/Personal products/AR",
          "all/Sports & Games/AR",
          "all/Transportation/AR",
          "all/Accommodation/AT",
          "all/Bars & restaurants/AT",
          "all/Culture & Leisure/AT",
          "all/Electronics & computing/AT",
          "all/Fashion & Shoes/AT",
          "all/Food/AT",
          "all/Health/AT",
          "all/Hogar y reformas/AT",
          "all/Other goods and services/AT",
          "all/Personal products/AT",
          "all/Transportation/AT",
          "all/Accommodation/AU",
          "all/Bars & restaurants/AU",
          "all/Electronics & computing/AU",
          "all/Fashion & Shoes/AU",
          "all/Food/AU",
          "all/Hogar y reformas/AU",
          "all/Other goods and services/AU",
          "all/Personal products/AU",
          "all/Sports & Games/AU",
          "all/Transportation/AU",
          "all/Fashion & Shoes/AZ",
          "all/Fashion & Shoes/BA",
          "all/Health/BA",
          "all/Accommodation/BE",
          "all/Automoción/BE",
          "all/Bars & restaurants/BE",
          "all/Fashion & Shoes/BE",
          "all/Food/BE",
          "all/Health/BE",
          "all/Hogar y reformas/BE",
          "all/Other goods and services/BE",
          "all/Sports & Games/BE",
          "all/Transportation/BE",
          "all/Accommodation/BG",
          "all/Fashion & Shoes/BG",
          "all/Other goods and services/BG",
          "all/Personal products/BG",
          "all/Sports & Games/BG",
          "all/Accommodation/BH",
          "all/Automoción/BH",
          "all/Fashion & Shoes/BH",
          "all/Other goods and services/BH",
          "all/Bars & restaurants/BO",
          "all/Food/BO",
          "all/Accommodation/BR",
          "all/Bars & restaurants/BR",
          "all/Books & Music/BR",
          "all/Culture & Leisure/BR",
          "all/Electronics & computing/BR",
          "all/Fashion & Shoes/BR",
          "all/Food/BR",
          "all/Health/BR",
          "all/Hogar y reformas/BR",
          "all/Other goods and services/BR",
          "all/Personal products/BR",
          "all/Sports & Games/BR",
          "all/Transportation/BR",
          "all/Accommodation/BW",
          "all/Fashion & Shoes/BW",
          "all/Bars & restaurants/BY",
          "all/Fashion & Shoes/BY",
          "all/Food/BY",
          "all/Hogar y reformas/BZ",
          "all/Other goods and services/BZ",
          "all/Accommodation/CA",
          "all/Agencias de viajes/CA",
          "all/Bars & restaurants/CA",
          "all/Books & Music/CA",
          "all/Culture & Leisure/CA",
          "all/Fashion & Shoes/CA",
          "all/Food/CA",
          "all/Health/CA",
          "all/Other goods and services/CA",
          "all/Transportation/CA",
          "all/Accommodation/CH",
          "all/Bars & restaurants/CH",
          "all/Books & Music/CH",
          "all/Culture & Leisure/CH",
          "all/Electronics & computing/CH",
          "all/Fashion & Shoes/CH",
          "all/Health/CH",
          "all/Hogar y reformas/CH",
          "all/Other goods and services/CH",
          "all/Personal products/CH",
          "all/Sports & Games/CH",
          "all/Transportation/CH",
          "all/Bars & restaurants/CI",
          "all/Fashion & Shoes/CI",
          "all/Accommodation/CL",
          "all/Bars & restaurants/CL",
          "all/Books & Music/CL",
          "all/Culture & Leisure/CL",
          "all/Fashion & Shoes/CL",
          "all/Health/CL",
          "all/Other goods and services/CL",
          "all/Sports & Games/CL",
          "all/Transportation/CL",
          "all/Accommodation/CN",
          "all/Bars & restaurants/CN",
          "all/Culture & Leisure/CN",
          "all/Fashion & Shoes/CN",
          "all/Food/CN",
          "all/Health/CN",
          "all/Hogar y reformas/CN",
          "all/Other goods and services/CN",
          "all/Personal products/CN",
          "all/Sports & Games/CN",
          "all/Transportation/CN",
          "all/Accommodation/CO",
          "all/Bars & restaurants/CO",
          "all/Books & Music/CO",
          "all/Electronics & computing/CO",
          "all/Fashion & Shoes/CO",
          "all/Food/CO",
          "all/Health/CO",
          "all/Hogar y reformas/CO",
          "all/Other goods and services/CO",
          "all/Personal products/CO",
          "all/Sports & Games/CO",
          "all/Accommodation/CR",
          "all/Bars & restaurants/CR",
          "all/Books & Music/CR",
          "all/Fashion & Shoes/CR",
          "all/Health/CR",
          "all/Personal products/CR",
          "all/Accommodation/CY",
          "all/Bars & restaurants/CY",
          "all/Fashion & Shoes/CY",
          "all/Hogar y reformas/CY",
          "all/Sports & Games/CY",
          "all/Bars & restaurants/CZ",
          "all/Fashion & Shoes/CZ",
          "all/Food/CZ",
          "all/Other goods and services/CZ",
          "all/Transportation/CZ",
          "all/Accommodation/DK",
          "all/Bars & restaurants/DK",
          "all/Electronics & computing/DK",
          "all/Fashion & Shoes/DK",
          "all/Food/DK",
          "all/Health/DK",
          "all/Hogar y reformas/DK",
          "all/Other goods and services/DK",
          "all/Transportation/DK",
          "all/Bars & restaurants/DO",
          "all/Books & Music/DO",
          "all/Electronics & computing/DO",
          "all/Fashion & Shoes/DO",
          "all/Health/DO",
          "all/Hogar y reformas/DO",
          "all/Other goods and services/DO",
          "all/Fashion & Shoes/DZ",
          "all/Health/DZ",
          "all/Bars & restaurants/EC",
          "all/Books & Music/EC",
          "all/Fashion & Shoes/EC",
          "all/Health/EC",
          "all/Personal products/EC",
          "all/Bars & restaurants/EE",
          "all/Fashion & Shoes/EE",
          "all/Food/EE",
          "all/Accommodation/EG",
          "all/Bars & restaurants/EG",
          "all/Culture & Leisure/EG",
          "all/Fashion & Shoes/EG",
          "all/Health/EG",
          "all/Personal products/EG",
          "all/Accommodation/FI",
          "all/Bars & restaurants/FI",
          "all/Culture & Leisure/FI",
          "all/Electronics & computing/FI",
          "all/Fashion & Shoes/FI",
          "all/Food/FI",
          "all/Health/FI",
          "all/Hogar y reformas/FI",
          "all/Other goods and services/FI",
          "all/Personal products/FI",
          "all/Sports & Games/FI",
          "all/Transportation/FI",
          "all/Accommodation/FR",
          "all/Agencias de viajes/FR",
          "all/Bars & restaurants/FR",
          "all/Books & Music/FR",
          "all/Culture & Leisure/FR",
          "all/Electronics & computing/FR",
          "all/Fashion & Shoes/FR",
          "all/Food/FR",
          "all/Health/FR",
          "all/Hogar y reformas/FR",
          "all/Other goods and services/FR",
          "all/Personal products/FR",
          "all/Sports & Games/FR",
          "all/Transportation/FR",
          "all/Accommodation/GB",
          "all/Automoción/GB",
          "all/Bars & restaurants/GB",
          "all/Books & Music/GB",
          "all/Culture & Leisure/GB",
          "all/Electronics & computing/GB",
          "all/Fashion & Shoes/GB",
          "all/Food/GB",
          "all/Health/GB",
          "all/Hogar y reformas/GB",
          "all/Other goods and services/GB",
          "all/Personal products/GB",
          "all/Sports & Games/GB",
          "all/Transportation/GB",
          "all/Bars & restaurants/GE",
          "all/Fashion & Shoes/GE",
          "all/Personal products/GE",
          "all/Accommodation/GR",
          "all/Fashion & Shoes/GR",
          "all/Health/GR",
          "all/Personal products/GR",
          "all/Accommodation/GT",
          "all/Bars & restaurants/GT",
          "all/Books & Music/GT",
          "all/Fashion & Shoes/GT",
          "all/Food/GT",
          "all/Health/GT",
          "all/Personal products/GT",
          "all/Transportation/GT",
          "all/Accommodation/HK",
          "all/Bars & restaurants/HK",
          "all/Fashion & Shoes/HK",
          "all/Accommodation/HN",
          "all/Bars & restaurants/HN",
          "all/Electronics & computing/HN",
          "all/Fashion & Shoes/HN",
          "all/Bars & restaurants/HR",
          "all/Fashion & Shoes/HR",
          "all/Food/HR",
          "all/Bars & restaurants/HU",
          "all/Fashion & Shoes/HU",
          "all/Accommodation/ID",
          "all/Bars & restaurants/ID",
          "all/Fashion & Shoes/ID",
          "all/Sports & Games/ID",
          "all/Accommodation/IE",
          "all/Bars & restaurants/IE",
          "all/Fashion & Shoes/IE",
          "all/Food/IE",
          "all/Health/IE",
          "all/Other goods and services/IE",
          "all/Personal products/IE",
          "all/Transportation/IE",
          "all/Accommodation/IL",
          "all/Bars & restaurants/IL",
          "all/Culture & Leisure/IL",
          "all/Fashion & Shoes/IL",
          "all/Food/IL",
          "all/Health/IL",
          "all/Other goods and services/IL",
          "all/Personal products/IL",
          "all/Sports & Games/IL",
          "all/Transportation/IL",
          "all/Accommodation/IN",
          "all/Automoción/IN",
          "all/Bars & restaurants/IN",
          "all/Fashion & Shoes/IN",
          "all/Health/IN",
          "all/Sports & Games/IN",
          "all/Transportation/IN",
          "all/Fashion & Shoes/IQ",
          "all/Accommodation/IS",
          "all/Bars & restaurants/IS",
          "all/Fashion & Shoes/IS",
          "all/Health/IS",
          "all/Accommodation/IT",
          "all/Agencias de viajes/IT",
          "all/Bars & restaurants/IT",
          "all/Books & Music/IT",
          "all/Culture & Leisure/IT",
          "all/Electronics & computing/IT",
          "all/Fashion & Shoes/IT",
          "all/Food/IT",
          "all/Health/IT",
          "all/Hogar y reformas/IT",
          "all/Other goods and services/IT",
          "all/Personal products/IT",
          "all/Sports & Games/IT",
          "all/Transportation/IT",
          "all/Fashion & Shoes/JM",
          "all/Accommodation/JO",
          "all/Bars & restaurants/JO",
          "all/Fashion & Shoes/JO",
          "all/Health/JO",
          "all/Transportation/JO",
          "all/Accommodation/JP",
          "all/Bars & restaurants/JP",
          "all/Culture & Leisure/JP",
          "all/Fashion & Shoes/JP",
          "all/Food/JP",
          "all/Health/JP",
          "all/Hogar y reformas/JP",
          "all/Other goods and services/JP",
          "all/Personal products/JP",
          "all/Transportation/JP",
          "all/Accommodation/KE",
          "all/Bars & restaurants/KE",
          "all/Accommodation/KR",
          "all/Bars & restaurants/KR",
          "all/Books & Music/KR",
          "all/Culture & Leisure/KR",
          "all/Fashion & Shoes/KR",
          "all/Health/KR",
          "all/Other goods and services/KR",
          "all/Sports & Games/KR",
          "all/Transportation/KR",
          "all/Accommodation/KW",
          "all/Bars & restaurants/KW",
          "all/Culture & Leisure/KW",
          "all/Fashion & Shoes/KW",
          "all/Health/KW",
          "all/Bars & restaurants/KY",
          "all/Culture & Leisure/KY",
          "all/Fashion & Shoes/KY",
          "all/Accommodation/KZ",
          "all/Bars & restaurants/KZ",
          "all/Culture & Leisure/KZ",
          "all/Fashion & Shoes/KZ",
          "all/Health/KZ",
          "all/Accommodation/LB",
          "all/Bars & restaurants/LB",
          "all/Fashion & Shoes/LB",
          "all/Health/LB",
          "all/Transportation/LB",
          "all/Accommodation/LK",
          "all/Electronics & computing/LK",
          "all/Fashion & Shoes/LK",
          "all/Accommodation/LT",
          "all/Bars & restaurants/LT",
          "all/Fashion & Shoes/LT",
          "all/Health/LT",
          "all/Hogar y reformas/LT",
          "all/Bars & restaurants/LU",
          "all/Fashion & Shoes/LU",
          "all/Health/LU",
          "all/Transportation/LU",
          "all/Bars & restaurants/LV",
          "all/Fashion & Shoes/LV",
          "all/Bars & restaurants/MA",
          "all/Culture & Leisure/MA",
          "all/Fashion & Shoes/MA",
          "all/Bars & restaurants/MD",
          "all/Fashion & Shoes/MD",
          "all/Bars & restaurants/MK",
          "all/Culture & Leisure/MK",
          "all/Fashion & Shoes/MK",
          "all/Fashion & Shoes/MN",
          "all/Accommodation/MT",
          "all/Bars & restaurants/MT",
          "all/Fashion & Shoes/MW",
          "all/Accommodation/MX",
          "all/Bars & restaurants/MX",
          "all/Books & Music/MX",
          "all/Electronics & computing/MX",
          "all/Fashion & Shoes/MX",
          "all/Food/MX",
          "all/Health/MX",
          "all/Hogar y reformas/MX",
          "all/Other goods and services/MX",
          "all/Personal products/MX",
          "all/Sports & Games/MX",
          "all/Transportation/MX",
          "all/Accommodation/MY",
          "all/Bars & restaurants/MY",
          "all/Culture & Leisure/MY",
          "all/Fashion & Shoes/MY",
          "all/Other goods and services/MY",
          "all/Fashion & Shoes/MZ",
          "all/Health/MZ",
          "all/Sports & Games/MZ",
          "all/Accommodation/NG",
          "all/Bars & restaurants/NG",
          "all/Fashion & Shoes/NG",
          "all/Sports & Games/NG",
          "all/Transportation/NI",
          "all/Accommodation/NL",
          "all/Bars & restaurants/NL",
          "all/Electronics & computing/NL",
          "all/Fashion & Shoes/NL",
          "all/Food/NL",
          "all/Health/NL",
          "all/Hogar y reformas/NL",
          "all/Other goods and services/NL",
          "all/Personal products/NL",
          "all/Sports & Games/NL",
          "all/Transportation/NL",
          "all/Accommodation/NO",
          "all/Agencias de viajes/NO",
          "all/Bars & restaurants/NO",
          "all/Culture & Leisure/NO",
          "all/Fashion & Shoes/NO",
          "all/Food/NO",
          "all/Health/NO",
          "all/Hogar y reformas/NO",
          "all/Other goods and services/NO",
          "all/Personal products/NO",
          "all/Sports & Games/NO",
          "all/Transportation/NO",
          "all/Fashion & Shoes/NZ",
          "all/Transportation/NZ",
          "all/Bars & restaurants/OM",
          "all/Sports & Games/OM",
          "all/Accommodation/PA",
          "all/Bars & restaurants/PA",
          "all/Fashion & Shoes/PA",
          "all/Health/PA",
          "all/Other goods and services/PA",
          "all/Transportation/PA",
          "all/Bars & restaurants/PE",
          "all/Books & Music/PE",
          "all/Fashion & Shoes/PE",
          "all/Health/PE",
          "all/Hogar y reformas/PE",
          "all/Other goods and services/PE",
          "all/Accommodation/PH",
          "all/Bars & restaurants/PH",
          "all/Fashion & Shoes/PH",
          "all/Food/PH",
          "all/Health/PH",
          "all/Other goods and services/PH",
          "all/Accommodation/PK",
          "all/Fashion & Shoes/PK",
          "all/Accommodation/PL",
          "all/Bars & restaurants/PL",
          "all/Fashion & Shoes/PL",
          "all/Food/PL",
          "all/Health/PL",
          "all/Hogar y reformas/PL",
          "all/Other goods and services/PL",
          "all/Transportation/PL",
          "all/Bars & restaurants/PR",
          "all/Books & Music/PR",
          "all/Fashion & Shoes/PR",
          "all/Health/PR",
          "all/Accommodation/PT",
          "all/Bars & restaurants/PT",
          "all/Books & Music/PT",
          "all/Culture & Leisure/PT",
          "all/Electronics & computing/PT",
          "all/Fashion & Shoes/PT",
          "all/Health/PT",
          "all/Hogar y reformas/PT",
          "all/Other goods and services/PT",
          "all/Personal products/PT",
          "all/Sports & Games/PT",
          "all/Bars & restaurants/PY",
          "all/Culture & Leisure/PY",
          "all/Fashion & Shoes/PY",
          "all/Accommodation/QA",
          "all/Bars & restaurants/QA",
          "all/Fashion & Shoes/QA",
          "all/Health/QA",
          "all/Accommodation/RO",
          "all/Bars & restaurants/RO",
          "all/Culture & Leisure/RO",
          "all/Fashion & Shoes/RO",
          "all/Health/RO",
          "all/Transportation/RO",
          "all/Accommodation/RU",
          "all/Bars & restaurants/RU",
          "all/Culture & Leisure/RU",
          "all/Electronics & computing/RU",
          "all/Fashion & Shoes/RU",
          "all/Food/RU",
          "all/Health/RU",
          "all/Hogar y reformas/RU",
          "all/Other goods and services/RU",
          "all/Personal products/RU",
          "all/Sports & Games/RU",
          "all/Transportation/RU",
          "all/Accommodation/SA",
          "all/Bars & restaurants/SA",
          "all/Culture & Leisure/SA",
          "all/Fashion & Shoes/SA",
          "all/Other goods and services/SA",
          "all/Sports & Games/SA",
          "all/Accommodation/SE",
          "all/Bars & restaurants/SE",
          "all/Culture & Leisure/SE",
          "all/Electronics & computing/SE",
          "all/Fashion & Shoes/SE",
          "all/Food/SE",
          "all/Health/SE",
          "all/Hogar y reformas/SE",
          "all/Other goods and services/SE",
          "all/Personal products/SE",
          "all/Sports & Games/SE",
          "all/Transportation/SE",
          "all/Accommodation/SG",
          "all/Bars & restaurants/SG",
          "all/Fashion & Shoes/SG",
          "all/Health/SG",
          "all/Hogar y reformas/SG",
          "all/Personal products/SG",
          "all/Accommodation/SI",
          "all/Fashion & Shoes/SI",
          "all/Food/SI",
          "all/Health/SI",
          "all/Other goods and services/SI",
          "all/Bars & restaurants/SK",
          "all/Fashion & Shoes/SK",
          "all/Sports & Games/SK",
          "all/Accommodation/SN",
          "all/Fashion & Shoes/SN",
          "all/Fashion & Shoes/SV",
          "all/Food/SV",
          "all/Health/SV",
          "all/Bars & restaurants/TH",
          "all/Fashion & Shoes/TH",
          "all/Transportation/TH",
          "all/Accommodation/TR",
          "all/Bars & restaurants/TR",
          "all/Electronics & computing/TR",
          "all/Fashion & Shoes/TR",
          "all/Health/TR",
          "all/Hogar y reformas/TR",
          "all/Other goods and services/TR",
          "all/Personal products/TR",
          "all/Sports & Games/TR",
          "all/Accommodation/TT",
          "all/Fashion & Shoes/TT",
          "all/Accommodation/TW",
          "all/Bars & restaurants/TW",
          "all/Culture & Leisure/TW",
          "all/Fashion & Shoes/TW",
          "all/Health/TW",
          "all/Personal products/TW",
          "all/Transportation/TW",
          "all/Accommodation/UA",
          "all/Bars & restaurants/UA",
          "all/Fashion & Shoes/UA",
          "all/Food/UA",
          "all/Health/UA",
          "all/Sports & Games/UA",
          "all/Transportation/UA",
          "all/Fashion & Shoes/UG",
          "all/Accommodation/US",
          "all/Bars & restaurants/US",
          "all/Books & Music/US",
          "all/Culture & Leisure/US",
          "all/Electronics & computing/US",
          "all/Fashion & Shoes/US",
          "all/Food/US",
          "all/Health/US",
          "all/Hogar y reformas/US",
          "all/Other goods and services/US",
          "all/Personal products/US",
          "all/Sports & Games/US",
          "all/Transportation/US",
          "all/Bars & restaurants/UY",
          "all/Books & Music/UY",
          "all/Fashion & Shoes/UY",
          "all/Health/UY",
          "all/Bars & restaurants/UZ",
          "all/Fashion & Shoes/UZ",
          "all/Health/UZ",
          "all/Accommodation/VE",
          "all/Bars & restaurants/VE",
          "all/Books & Music/VE",
          "all/Culture & Leisure/VE",
          "all/Electronics & computing/VE",
          "all/Fashion & Shoes/VE",
          "all/Health/VE",
          "all/Other goods and services/VE",
          "all/Personal products/VE",
          "all/Sports & Games/VE",
          "all/Fashion & Shoes/VN",
          "all/Health/VN",
          "all/Accommodation/WS",
          "all/Accommodation/ZA",
          "all/Bars & restaurants/ZA",
          "all/Books & Music/ZA",
          "all/Electronics & computing/ZA",
          "all/Fashion & Shoes/ZA",
          "all/Health/ZA",
          "all/Hogar y reformas/ZA",
          "all/Other goods and services/ZA",
          "all/Personal products/ZA",
          "all/Fashion & Shoes/ZW",
          "all/Accommodation",
          "all/Agencias de viajes",
          "all/Automoción",
          "all/Bars & restaurants",
          "all/Books & Music",
          "all/Culture & Leisure",
          "all/Electronics & computing",
          "all/Fashion & Shoes",
          "all/Food",
          "all/Health",
          "all/Hogar y reformas",
          "all/Other goods and services",
          "all/Personal products",
          "all/Sports & Games",
          "all/Transportation",
          "all"
         ],
         "labels": [
          "AD",
          "AD",
          "AD",
          "AD",
          "AD",
          "AD",
          "AD",
          "AD",
          "AD",
          "AD",
          "AD",
          "AE",
          "AE",
          "AE",
          "AE",
          "AE",
          "AM",
          "AN",
          "AN",
          "AO",
          "AO",
          "AR",
          "AR",
          "AR",
          "AR",
          "AR",
          "AR",
          "AR",
          "AR",
          "AR",
          "AR",
          "AR",
          "AR",
          "AR",
          "AT",
          "AT",
          "AT",
          "AT",
          "AT",
          "AT",
          "AT",
          "AT",
          "AT",
          "AT",
          "AT",
          "AU",
          "AU",
          "AU",
          "AU",
          "AU",
          "AU",
          "AU",
          "AU",
          "AU",
          "AU",
          "AZ",
          "BA",
          "BA",
          "BE",
          "BE",
          "BE",
          "BE",
          "BE",
          "BE",
          "BE",
          "BE",
          "BE",
          "BE",
          "BG",
          "BG",
          "BG",
          "BG",
          "BG",
          "BH",
          "BH",
          "BH",
          "BH",
          "BO",
          "BO",
          "BR",
          "BR",
          "BR",
          "BR",
          "BR",
          "BR",
          "BR",
          "BR",
          "BR",
          "BR",
          "BR",
          "BR",
          "BR",
          "BW",
          "BW",
          "BY",
          "BY",
          "BY",
          "BZ",
          "BZ",
          "CA",
          "CA",
          "CA",
          "CA",
          "CA",
          "CA",
          "CA",
          "CA",
          "CA",
          "CA",
          "CH",
          "CH",
          "CH",
          "CH",
          "CH",
          "CH",
          "CH",
          "CH",
          "CH",
          "CH",
          "CH",
          "CH",
          "CI",
          "CI",
          "CL",
          "CL",
          "CL",
          "CL",
          "CL",
          "CL",
          "CL",
          "CL",
          "CL",
          "CN",
          "CN",
          "CN",
          "CN",
          "CN",
          "CN",
          "CN",
          "CN",
          "CN",
          "CN",
          "CN",
          "CO",
          "CO",
          "CO",
          "CO",
          "CO",
          "CO",
          "CO",
          "CO",
          "CO",
          "CO",
          "CO",
          "CR",
          "CR",
          "CR",
          "CR",
          "CR",
          "CR",
          "CY",
          "CY",
          "CY",
          "CY",
          "CY",
          "CZ",
          "CZ",
          "CZ",
          "CZ",
          "CZ",
          "DK",
          "DK",
          "DK",
          "DK",
          "DK",
          "DK",
          "DK",
          "DK",
          "DK",
          "DO",
          "DO",
          "DO",
          "DO",
          "DO",
          "DO",
          "DO",
          "DZ",
          "DZ",
          "EC",
          "EC",
          "EC",
          "EC",
          "EC",
          "EE",
          "EE",
          "EE",
          "EG",
          "EG",
          "EG",
          "EG",
          "EG",
          "EG",
          "FI",
          "FI",
          "FI",
          "FI",
          "FI",
          "FI",
          "FI",
          "FI",
          "FI",
          "FI",
          "FI",
          "FI",
          "FR",
          "FR",
          "FR",
          "FR",
          "FR",
          "FR",
          "FR",
          "FR",
          "FR",
          "FR",
          "FR",
          "FR",
          "FR",
          "FR",
          "GB",
          "GB",
          "GB",
          "GB",
          "GB",
          "GB",
          "GB",
          "GB",
          "GB",
          "GB",
          "GB",
          "GB",
          "GB",
          "GB",
          "GE",
          "GE",
          "GE",
          "GR",
          "GR",
          "GR",
          "GR",
          "GT",
          "GT",
          "GT",
          "GT",
          "GT",
          "GT",
          "GT",
          "GT",
          "HK",
          "HK",
          "HK",
          "HN",
          "HN",
          "HN",
          "HN",
          "HR",
          "HR",
          "HR",
          "HU",
          "HU",
          "ID",
          "ID",
          "ID",
          "ID",
          "IE",
          "IE",
          "IE",
          "IE",
          "IE",
          "IE",
          "IE",
          "IE",
          "IL",
          "IL",
          "IL",
          "IL",
          "IL",
          "IL",
          "IL",
          "IL",
          "IL",
          "IL",
          "IN",
          "IN",
          "IN",
          "IN",
          "IN",
          "IN",
          "IN",
          "IQ",
          "IS",
          "IS",
          "IS",
          "IS",
          "IT",
          "IT",
          "IT",
          "IT",
          "IT",
          "IT",
          "IT",
          "IT",
          "IT",
          "IT",
          "IT",
          "IT",
          "IT",
          "IT",
          "JM",
          "JO",
          "JO",
          "JO",
          "JO",
          "JO",
          "JP",
          "JP",
          "JP",
          "JP",
          "JP",
          "JP",
          "JP",
          "JP",
          "JP",
          "JP",
          "KE",
          "KE",
          "KR",
          "KR",
          "KR",
          "KR",
          "KR",
          "KR",
          "KR",
          "KR",
          "KR",
          "KW",
          "KW",
          "KW",
          "KW",
          "KW",
          "KY",
          "KY",
          "KY",
          "KZ",
          "KZ",
          "KZ",
          "KZ",
          "KZ",
          "LB",
          "LB",
          "LB",
          "LB",
          "LB",
          "LK",
          "LK",
          "LK",
          "LT",
          "LT",
          "LT",
          "LT",
          "LT",
          "LU",
          "LU",
          "LU",
          "LU",
          "LV",
          "LV",
          "MA",
          "MA",
          "MA",
          "MD",
          "MD",
          "MK",
          "MK",
          "MK",
          "MN",
          "MT",
          "MT",
          "MW",
          "MX",
          "MX",
          "MX",
          "MX",
          "MX",
          "MX",
          "MX",
          "MX",
          "MX",
          "MX",
          "MX",
          "MX",
          "MY",
          "MY",
          "MY",
          "MY",
          "MY",
          "MZ",
          "MZ",
          "MZ",
          "NG",
          "NG",
          "NG",
          "NG",
          "NI",
          "NL",
          "NL",
          "NL",
          "NL",
          "NL",
          "NL",
          "NL",
          "NL",
          "NL",
          "NL",
          "NL",
          "NO",
          "NO",
          "NO",
          "NO",
          "NO",
          "NO",
          "NO",
          "NO",
          "NO",
          "NO",
          "NO",
          "NO",
          "NZ",
          "NZ",
          "OM",
          "OM",
          "PA",
          "PA",
          "PA",
          "PA",
          "PA",
          "PA",
          "PE",
          "PE",
          "PE",
          "PE",
          "PE",
          "PE",
          "PH",
          "PH",
          "PH",
          "PH",
          "PH",
          "PH",
          "PK",
          "PK",
          "PL",
          "PL",
          "PL",
          "PL",
          "PL",
          "PL",
          "PL",
          "PL",
          "PR",
          "PR",
          "PR",
          "PR",
          "PT",
          "PT",
          "PT",
          "PT",
          "PT",
          "PT",
          "PT",
          "PT",
          "PT",
          "PT",
          "PT",
          "PY",
          "PY",
          "PY",
          "QA",
          "QA",
          "QA",
          "QA",
          "RO",
          "RO",
          "RO",
          "RO",
          "RO",
          "RO",
          "RU",
          "RU",
          "RU",
          "RU",
          "RU",
          "RU",
          "RU",
          "RU",
          "RU",
          "RU",
          "RU",
          "RU",
          "SA",
          "SA",
          "SA",
          "SA",
          "SA",
          "SA",
          "SE",
          "SE",
          "SE",
          "SE",
          "SE",
          "SE",
          "SE",
          "SE",
          "SE",
          "SE",
          "SE",
          "SE",
          "SG",
          "SG",
          "SG",
          "SG",
          "SG",
          "SG",
          "SI",
          "SI",
          "SI",
          "SI",
          "SI",
          "SK",
          "SK",
          "SK",
          "SN",
          "SN",
          "SV",
          "SV",
          "SV",
          "TH",
          "TH",
          "TH",
          "TR",
          "TR",
          "TR",
          "TR",
          "TR",
          "TR",
          "TR",
          "TR",
          "TR",
          "TT",
          "TT",
          "TW",
          "TW",
          "TW",
          "TW",
          "TW",
          "TW",
          "TW",
          "UA",
          "UA",
          "UA",
          "UA",
          "UA",
          "UA",
          "UA",
          "UG",
          "US",
          "US",
          "US",
          "US",
          "US",
          "US",
          "US",
          "US",
          "US",
          "US",
          "US",
          "US",
          "US",
          "UY",
          "UY",
          "UY",
          "UY",
          "UZ",
          "UZ",
          "UZ",
          "VE",
          "VE",
          "VE",
          "VE",
          "VE",
          "VE",
          "VE",
          "VE",
          "VE",
          "VE",
          "VN",
          "VN",
          "WS",
          "ZA",
          "ZA",
          "ZA",
          "ZA",
          "ZA",
          "ZA",
          "ZA",
          "ZA",
          "ZA",
          "ZW",
          "Accommodation",
          "Agencias de viajes",
          "Automoción",
          "Bars & restaurants",
          "Books & Music",
          "Culture & Leisure",
          "Electronics & computing",
          "Fashion & Shoes",
          "Food",
          "Health",
          "Hogar y reformas",
          "Other goods and services",
          "Personal products",
          "Sports & Games",
          "Transportation",
          "all"
         ],
         "name": "",
         "parents": [
          "all/Accommodation",
          "all/Automoción",
          "all/Bars & restaurants",
          "all/Culture & Leisure",
          "all/Fashion & Shoes",
          "all/Food",
          "all/Health",
          "all/Hogar y reformas",
          "all/Other goods and services",
          "all/Personal products",
          "all/Transportation",
          "all/Accommodation",
          "all/Bars & restaurants",
          "all/Books & Music",
          "all/Fashion & Shoes",
          "all/Other goods and services",
          "all/Accommodation",
          "all/Bars & restaurants",
          "all/Fashion & Shoes",
          "all/Bars & restaurants",
          "all/Fashion & Shoes",
          "all/Accommodation",
          "all/Bars & restaurants",
          "all/Books & Music",
          "all/Culture & Leisure",
          "all/Electronics & computing",
          "all/Fashion & Shoes",
          "all/Food",
          "all/Health",
          "all/Hogar y reformas",
          "all/Other goods and services",
          "all/Personal products",
          "all/Sports & Games",
          "all/Transportation",
          "all/Accommodation",
          "all/Bars & restaurants",
          "all/Culture & Leisure",
          "all/Electronics & computing",
          "all/Fashion & Shoes",
          "all/Food",
          "all/Health",
          "all/Hogar y reformas",
          "all/Other goods and services",
          "all/Personal products",
          "all/Transportation",
          "all/Accommodation",
          "all/Bars & restaurants",
          "all/Electronics & computing",
          "all/Fashion & Shoes",
          "all/Food",
          "all/Hogar y reformas",
          "all/Other goods and services",
          "all/Personal products",
          "all/Sports & Games",
          "all/Transportation",
          "all/Fashion & Shoes",
          "all/Fashion & Shoes",
          "all/Health",
          "all/Accommodation",
          "all/Automoción",
          "all/Bars & restaurants",
          "all/Fashion & Shoes",
          "all/Food",
          "all/Health",
          "all/Hogar y reformas",
          "all/Other goods and services",
          "all/Sports & Games",
          "all/Transportation",
          "all/Accommodation",
          "all/Fashion & Shoes",
          "all/Other goods and services",
          "all/Personal products",
          "all/Sports & Games",
          "all/Accommodation",
          "all/Automoción",
          "all/Fashion & Shoes",
          "all/Other goods and services",
          "all/Bars & restaurants",
          "all/Food",
          "all/Accommodation",
          "all/Bars & restaurants",
          "all/Books & Music",
          "all/Culture & Leisure",
          "all/Electronics & computing",
          "all/Fashion & Shoes",
          "all/Food",
          "all/Health",
          "all/Hogar y reformas",
          "all/Other goods and services",
          "all/Personal products",
          "all/Sports & Games",
          "all/Transportation",
          "all/Accommodation",
          "all/Fashion & Shoes",
          "all/Bars & restaurants",
          "all/Fashion & Shoes",
          "all/Food",
          "all/Hogar y reformas",
          "all/Other goods and services",
          "all/Accommodation",
          "all/Agencias de viajes",
          "all/Bars & restaurants",
          "all/Books & Music",
          "all/Culture & Leisure",
          "all/Fashion & Shoes",
          "all/Food",
          "all/Health",
          "all/Other goods and services",
          "all/Transportation",
          "all/Accommodation",
          "all/Bars & restaurants",
          "all/Books & Music",
          "all/Culture & Leisure",
          "all/Electronics & computing",
          "all/Fashion & Shoes",
          "all/Health",
          "all/Hogar y reformas",
          "all/Other goods and services",
          "all/Personal products",
          "all/Sports & Games",
          "all/Transportation",
          "all/Bars & restaurants",
          "all/Fashion & Shoes",
          "all/Accommodation",
          "all/Bars & restaurants",
          "all/Books & Music",
          "all/Culture & Leisure",
          "all/Fashion & Shoes",
          "all/Health",
          "all/Other goods and services",
          "all/Sports & Games",
          "all/Transportation",
          "all/Accommodation",
          "all/Bars & restaurants",
          "all/Culture & Leisure",
          "all/Fashion & Shoes",
          "all/Food",
          "all/Health",
          "all/Hogar y reformas",
          "all/Other goods and services",
          "all/Personal products",
          "all/Sports & Games",
          "all/Transportation",
          "all/Accommodation",
          "all/Bars & restaurants",
          "all/Books & Music",
          "all/Electronics & computing",
          "all/Fashion & Shoes",
          "all/Food",
          "all/Health",
          "all/Hogar y reformas",
          "all/Other goods and services",
          "all/Personal products",
          "all/Sports & Games",
          "all/Accommodation",
          "all/Bars & restaurants",
          "all/Books & Music",
          "all/Fashion & Shoes",
          "all/Health",
          "all/Personal products",
          "all/Accommodation",
          "all/Bars & restaurants",
          "all/Fashion & Shoes",
          "all/Hogar y reformas",
          "all/Sports & Games",
          "all/Bars & restaurants",
          "all/Fashion & Shoes",
          "all/Food",
          "all/Other goods and services",
          "all/Transportation",
          "all/Accommodation",
          "all/Bars & restaurants",
          "all/Electronics & computing",
          "all/Fashion & Shoes",
          "all/Food",
          "all/Health",
          "all/Hogar y reformas",
          "all/Other goods and services",
          "all/Transportation",
          "all/Bars & restaurants",
          "all/Books & Music",
          "all/Electronics & computing",
          "all/Fashion & Shoes",
          "all/Health",
          "all/Hogar y reformas",
          "all/Other goods and services",
          "all/Fashion & Shoes",
          "all/Health",
          "all/Bars & restaurants",
          "all/Books & Music",
          "all/Fashion & Shoes",
          "all/Health",
          "all/Personal products",
          "all/Bars & restaurants",
          "all/Fashion & Shoes",
          "all/Food",
          "all/Accommodation",
          "all/Bars & restaurants",
          "all/Culture & Leisure",
          "all/Fashion & Shoes",
          "all/Health",
          "all/Personal products",
          "all/Accommodation",
          "all/Bars & restaurants",
          "all/Culture & Leisure",
          "all/Electronics & computing",
          "all/Fashion & Shoes",
          "all/Food",
          "all/Health",
          "all/Hogar y reformas",
          "all/Other goods and services",
          "all/Personal products",
          "all/Sports & Games",
          "all/Transportation",
          "all/Accommodation",
          "all/Agencias de viajes",
          "all/Bars & restaurants",
          "all/Books & Music",
          "all/Culture & Leisure",
          "all/Electronics & computing",
          "all/Fashion & Shoes",
          "all/Food",
          "all/Health",
          "all/Hogar y reformas",
          "all/Other goods and services",
          "all/Personal products",
          "all/Sports & Games",
          "all/Transportation",
          "all/Accommodation",
          "all/Automoción",
          "all/Bars & restaurants",
          "all/Books & Music",
          "all/Culture & Leisure",
          "all/Electronics & computing",
          "all/Fashion & Shoes",
          "all/Food",
          "all/Health",
          "all/Hogar y reformas",
          "all/Other goods and services",
          "all/Personal products",
          "all/Sports & Games",
          "all/Transportation",
          "all/Bars & restaurants",
          "all/Fashion & Shoes",
          "all/Personal products",
          "all/Accommodation",
          "all/Fashion & Shoes",
          "all/Health",
          "all/Personal products",
          "all/Accommodation",
          "all/Bars & restaurants",
          "all/Books & Music",
          "all/Fashion & Shoes",
          "all/Food",
          "all/Health",
          "all/Personal products",
          "all/Transportation",
          "all/Accommodation",
          "all/Bars & restaurants",
          "all/Fashion & Shoes",
          "all/Accommodation",
          "all/Bars & restaurants",
          "all/Electronics & computing",
          "all/Fashion & Shoes",
          "all/Bars & restaurants",
          "all/Fashion & Shoes",
          "all/Food",
          "all/Bars & restaurants",
          "all/Fashion & Shoes",
          "all/Accommodation",
          "all/Bars & restaurants",
          "all/Fashion & Shoes",
          "all/Sports & Games",
          "all/Accommodation",
          "all/Bars & restaurants",
          "all/Fashion & Shoes",
          "all/Food",
          "all/Health",
          "all/Other goods and services",
          "all/Personal products",
          "all/Transportation",
          "all/Accommodation",
          "all/Bars & restaurants",
          "all/Culture & Leisure",
          "all/Fashion & Shoes",
          "all/Food",
          "all/Health",
          "all/Other goods and services",
          "all/Personal products",
          "all/Sports & Games",
          "all/Transportation",
          "all/Accommodation",
          "all/Automoción",
          "all/Bars & restaurants",
          "all/Fashion & Shoes",
          "all/Health",
          "all/Sports & Games",
          "all/Transportation",
          "all/Fashion & Shoes",
          "all/Accommodation",
          "all/Bars & restaurants",
          "all/Fashion & Shoes",
          "all/Health",
          "all/Accommodation",
          "all/Agencias de viajes",
          "all/Bars & restaurants",
          "all/Books & Music",
          "all/Culture & Leisure",
          "all/Electronics & computing",
          "all/Fashion & Shoes",
          "all/Food",
          "all/Health",
          "all/Hogar y reformas",
          "all/Other goods and services",
          "all/Personal products",
          "all/Sports & Games",
          "all/Transportation",
          "all/Fashion & Shoes",
          "all/Accommodation",
          "all/Bars & restaurants",
          "all/Fashion & Shoes",
          "all/Health",
          "all/Transportation",
          "all/Accommodation",
          "all/Bars & restaurants",
          "all/Culture & Leisure",
          "all/Fashion & Shoes",
          "all/Food",
          "all/Health",
          "all/Hogar y reformas",
          "all/Other goods and services",
          "all/Personal products",
          "all/Transportation",
          "all/Accommodation",
          "all/Bars & restaurants",
          "all/Accommodation",
          "all/Bars & restaurants",
          "all/Books & Music",
          "all/Culture & Leisure",
          "all/Fashion & Shoes",
          "all/Health",
          "all/Other goods and services",
          "all/Sports & Games",
          "all/Transportation",
          "all/Accommodation",
          "all/Bars & restaurants",
          "all/Culture & Leisure",
          "all/Fashion & Shoes",
          "all/Health",
          "all/Bars & restaurants",
          "all/Culture & Leisure",
          "all/Fashion & Shoes",
          "all/Accommodation",
          "all/Bars & restaurants",
          "all/Culture & Leisure",
          "all/Fashion & Shoes",
          "all/Health",
          "all/Accommodation",
          "all/Bars & restaurants",
          "all/Fashion & Shoes",
          "all/Health",
          "all/Transportation",
          "all/Accommodation",
          "all/Electronics & computing",
          "all/Fashion & Shoes",
          "all/Accommodation",
          "all/Bars & restaurants",
          "all/Fashion & Shoes",
          "all/Health",
          "all/Hogar y reformas",
          "all/Bars & restaurants",
          "all/Fashion & Shoes",
          "all/Health",
          "all/Transportation",
          "all/Bars & restaurants",
          "all/Fashion & Shoes",
          "all/Bars & restaurants",
          "all/Culture & Leisure",
          "all/Fashion & Shoes",
          "all/Bars & restaurants",
          "all/Fashion & Shoes",
          "all/Bars & restaurants",
          "all/Culture & Leisure",
          "all/Fashion & Shoes",
          "all/Fashion & Shoes",
          "all/Accommodation",
          "all/Bars & restaurants",
          "all/Fashion & Shoes",
          "all/Accommodation",
          "all/Bars & restaurants",
          "all/Books & Music",
          "all/Electronics & computing",
          "all/Fashion & Shoes",
          "all/Food",
          "all/Health",
          "all/Hogar y reformas",
          "all/Other goods and services",
          "all/Personal products",
          "all/Sports & Games",
          "all/Transportation",
          "all/Accommodation",
          "all/Bars & restaurants",
          "all/Culture & Leisure",
          "all/Fashion & Shoes",
          "all/Other goods and services",
          "all/Fashion & Shoes",
          "all/Health",
          "all/Sports & Games",
          "all/Accommodation",
          "all/Bars & restaurants",
          "all/Fashion & Shoes",
          "all/Sports & Games",
          "all/Transportation",
          "all/Accommodation",
          "all/Bars & restaurants",
          "all/Electronics & computing",
          "all/Fashion & Shoes",
          "all/Food",
          "all/Health",
          "all/Hogar y reformas",
          "all/Other goods and services",
          "all/Personal products",
          "all/Sports & Games",
          "all/Transportation",
          "all/Accommodation",
          "all/Agencias de viajes",
          "all/Bars & restaurants",
          "all/Culture & Leisure",
          "all/Fashion & Shoes",
          "all/Food",
          "all/Health",
          "all/Hogar y reformas",
          "all/Other goods and services",
          "all/Personal products",
          "all/Sports & Games",
          "all/Transportation",
          "all/Fashion & Shoes",
          "all/Transportation",
          "all/Bars & restaurants",
          "all/Sports & Games",
          "all/Accommodation",
          "all/Bars & restaurants",
          "all/Fashion & Shoes",
          "all/Health",
          "all/Other goods and services",
          "all/Transportation",
          "all/Bars & restaurants",
          "all/Books & Music",
          "all/Fashion & Shoes",
          "all/Health",
          "all/Hogar y reformas",
          "all/Other goods and services",
          "all/Accommodation",
          "all/Bars & restaurants",
          "all/Fashion & Shoes",
          "all/Food",
          "all/Health",
          "all/Other goods and services",
          "all/Accommodation",
          "all/Fashion & Shoes",
          "all/Accommodation",
          "all/Bars & restaurants",
          "all/Fashion & Shoes",
          "all/Food",
          "all/Health",
          "all/Hogar y reformas",
          "all/Other goods and services",
          "all/Transportation",
          "all/Bars & restaurants",
          "all/Books & Music",
          "all/Fashion & Shoes",
          "all/Health",
          "all/Accommodation",
          "all/Bars & restaurants",
          "all/Books & Music",
          "all/Culture & Leisure",
          "all/Electronics & computing",
          "all/Fashion & Shoes",
          "all/Health",
          "all/Hogar y reformas",
          "all/Other goods and services",
          "all/Personal products",
          "all/Sports & Games",
          "all/Bars & restaurants",
          "all/Culture & Leisure",
          "all/Fashion & Shoes",
          "all/Accommodation",
          "all/Bars & restaurants",
          "all/Fashion & Shoes",
          "all/Health",
          "all/Accommodation",
          "all/Bars & restaurants",
          "all/Culture & Leisure",
          "all/Fashion & Shoes",
          "all/Health",
          "all/Transportation",
          "all/Accommodation",
          "all/Bars & restaurants",
          "all/Culture & Leisure",
          "all/Electronics & computing",
          "all/Fashion & Shoes",
          "all/Food",
          "all/Health",
          "all/Hogar y reformas",
          "all/Other goods and services",
          "all/Personal products",
          "all/Sports & Games",
          "all/Transportation",
          "all/Accommodation",
          "all/Bars & restaurants",
          "all/Culture & Leisure",
          "all/Fashion & Shoes",
          "all/Other goods and services",
          "all/Sports & Games",
          "all/Accommodation",
          "all/Bars & restaurants",
          "all/Culture & Leisure",
          "all/Electronics & computing",
          "all/Fashion & Shoes",
          "all/Food",
          "all/Health",
          "all/Hogar y reformas",
          "all/Other goods and services",
          "all/Personal products",
          "all/Sports & Games",
          "all/Transportation",
          "all/Accommodation",
          "all/Bars & restaurants",
          "all/Fashion & Shoes",
          "all/Health",
          "all/Hogar y reformas",
          "all/Personal products",
          "all/Accommodation",
          "all/Fashion & Shoes",
          "all/Food",
          "all/Health",
          "all/Other goods and services",
          "all/Bars & restaurants",
          "all/Fashion & Shoes",
          "all/Sports & Games",
          "all/Accommodation",
          "all/Fashion & Shoes",
          "all/Fashion & Shoes",
          "all/Food",
          "all/Health",
          "all/Bars & restaurants",
          "all/Fashion & Shoes",
          "all/Transportation",
          "all/Accommodation",
          "all/Bars & restaurants",
          "all/Electronics & computing",
          "all/Fashion & Shoes",
          "all/Health",
          "all/Hogar y reformas",
          "all/Other goods and services",
          "all/Personal products",
          "all/Sports & Games",
          "all/Accommodation",
          "all/Fashion & Shoes",
          "all/Accommodation",
          "all/Bars & restaurants",
          "all/Culture & Leisure",
          "all/Fashion & Shoes",
          "all/Health",
          "all/Personal products",
          "all/Transportation",
          "all/Accommodation",
          "all/Bars & restaurants",
          "all/Fashion & Shoes",
          "all/Food",
          "all/Health",
          "all/Sports & Games",
          "all/Transportation",
          "all/Fashion & Shoes",
          "all/Accommodation",
          "all/Bars & restaurants",
          "all/Books & Music",
          "all/Culture & Leisure",
          "all/Electronics & computing",
          "all/Fashion & Shoes",
          "all/Food",
          "all/Health",
          "all/Hogar y reformas",
          "all/Other goods and services",
          "all/Personal products",
          "all/Sports & Games",
          "all/Transportation",
          "all/Bars & restaurants",
          "all/Books & Music",
          "all/Fashion & Shoes",
          "all/Health",
          "all/Bars & restaurants",
          "all/Fashion & Shoes",
          "all/Health",
          "all/Accommodation",
          "all/Bars & restaurants",
          "all/Books & Music",
          "all/Culture & Leisure",
          "all/Electronics & computing",
          "all/Fashion & Shoes",
          "all/Health",
          "all/Other goods and services",
          "all/Personal products",
          "all/Sports & Games",
          "all/Fashion & Shoes",
          "all/Health",
          "all/Accommodation",
          "all/Accommodation",
          "all/Bars & restaurants",
          "all/Books & Music",
          "all/Electronics & computing",
          "all/Fashion & Shoes",
          "all/Health",
          "all/Hogar y reformas",
          "all/Other goods and services",
          "all/Personal products",
          "all/Fashion & Shoes",
          "all",
          "all",
          "all",
          "all",
          "all",
          "all",
          "all",
          "all",
          "all",
          "all",
          "all",
          "all",
          "all",
          "all",
          "all",
          ""
         ],
         "root": {
          "color": "lightgrey"
         },
         "type": "treemap",
         "values": [
          4,
          1,
          38,
          1,
          60,
          2,
          19,
          3,
          13,
          9,
          3,
          17,
          7,
          1,
          23,
          3,
          2,
          2,
          1,
          2,
          5,
          14,
          35,
          9,
          2,
          3,
          194,
          1,
          17,
          1,
          7,
          1,
          2,
          11,
          9,
          13,
          1,
          2,
          46,
          2,
          6,
          1,
          1,
          1,
          1,
          10,
          7,
          3,
          37,
          2,
          1,
          2,
          1,
          2,
          1,
          6,
          6,
          1,
          13,
          1,
          29,
          30,
          1,
          5,
          1,
          7,
          1,
          2,
          1,
          12,
          1,
          1,
          1,
          1,
          1,
          5,
          1,
          1,
          1,
          11,
          77,
          8,
          11,
          2,
          262,
          5,
          28,
          2,
          8,
          6,
          1,
          7,
          1,
          4,
          1,
          7,
          1,
          1,
          1,
          28,
          1,
          89,
          4,
          5,
          93,
          4,
          12,
          3,
          3,
          23,
          38,
          2,
          3,
          1,
          131,
          15,
          4,
          2,
          6,
          3,
          3,
          1,
          2,
          5,
          6,
          6,
          2,
          104,
          8,
          1,
          1,
          3,
          31,
          61,
          1,
          242,
          3,
          10,
          1,
          4,
          7,
          1,
          8,
          4,
          12,
          13,
          1,
          34,
          1,
          3,
          1,
          2,
          4,
          3,
          1,
          7,
          3,
          10,
          2,
          1,
          4,
          8,
          70,
          2,
          2,
          2,
          13,
          1,
          1,
          2,
          20,
          43,
          1,
          64,
          7,
          6,
          1,
          3,
          1,
          3,
          1,
          1,
          10,
          5,
          1,
          1,
          6,
          1,
          4,
          8,
          24,
          2,
          1,
          6,
          14,
          1,
          2,
          9,
          1,
          55,
          4,
          2,
          48,
          41,
          1,
          1,
          107,
          3,
          6,
          2,
          2,
          1,
          1,
          5,
          88,
          2,
          304,
          6,
          12,
          5,
          640,
          16,
          60,
          14,
          44,
          20,
          4,
          24,
          180,
          2,
          266,
          1,
          2,
          4,
          284,
          11,
          38,
          3,
          25,
          6,
          7,
          19,
          10,
          42,
          2,
          10,
          7,
          2,
          1,
          2,
          3,
          1,
          11,
          1,
          1,
          2,
          1,
          5,
          17,
          13,
          1,
          1,
          1,
          1,
          4,
          2,
          1,
          1,
          6,
          3,
          3,
          32,
          1,
          5,
          17,
          25,
          1,
          8,
          1,
          1,
          1,
          26,
          52,
          2,
          155,
          3,
          4,
          2,
          2,
          3,
          3,
          8,
          1,
          26,
          26,
          1,
          1,
          6,
          1,
          1,
          1,
          10,
          1,
          58,
          1,
          95,
          1,
          1,
          1,
          216,
          4,
          22,
          4,
          10,
          9,
          2,
          10,
          2,
          3,
          3,
          2,
          2,
          1,
          21,
          67,
          4,
          131,
          6,
          5,
          9,
          3,
          6,
          7,
          2,
          3,
          13,
          79,
          1,
          2,
          158,
          6,
          3,
          3,
          2,
          1,
          2,
          1,
          9,
          1,
          3,
          1,
          1,
          8,
          10,
          2,
          58,
          2,
          2,
          7,
          10,
          1,
          1,
          4,
          1,
          3,
          3,
          4,
          12,
          2,
          1,
          4,
          5,
          4,
          1,
          8,
          11,
          2,
          1,
          1,
          1,
          2,
          3,
          1,
          4,
          4,
          4,
          1,
          1,
          4,
          27,
          7,
          4,
          100,
          3,
          18,
          1,
          5,
          4,
          3,
          3,
          2,
          3,
          1,
          17,
          2,
          6,
          1,
          1,
          2,
          2,
          3,
          1,
          1,
          12,
          70,
          2,
          184,
          6,
          16,
          2,
          7,
          2,
          10,
          3,
          10,
          1,
          36,
          3,
          150,
          2,
          11,
          3,
          4,
          4,
          3,
          2,
          2,
          2,
          1,
          1,
          1,
          10,
          9,
          3,
          1,
          1,
          7,
          1,
          11,
          2,
          1,
          1,
          1,
          4,
          23,
          1,
          3,
          1,
          1,
          9,
          4,
          20,
          47,
          2,
          7,
          2,
          2,
          2,
          4,
          4,
          2,
          2,
          7,
          30,
          1,
          1,
          1,
          58,
          11,
          1,
          7,
          3,
          3,
          1,
          1,
          3,
          4,
          1,
          9,
          1,
          3,
          11,
          4,
          41,
          2,
          1,
          64,
          178,
          8,
          2,
          306,
          12,
          56,
          4,
          10,
          4,
          8,
          18,
          4,
          7,
          5,
          2,
          1,
          2,
          52,
          83,
          3,
          1,
          196,
          8,
          20,
          1,
          6,
          5,
          4,
          6,
          5,
          7,
          55,
          1,
          1,
          1,
          1,
          3,
          2,
          1,
          1,
          2,
          4,
          1,
          1,
          2,
          5,
          1,
          1,
          4,
          20,
          1,
          4,
          54,
          2,
          86,
          6,
          2,
          4,
          4,
          2,
          3,
          2,
          4,
          12,
          1,
          36,
          1,
          1,
          1,
          2,
          8,
          24,
          1,
          4,
          1,
          2,
          2,
          242,
          616,
          12,
          12,
          10,
          551,
          35,
          87,
          12,
          21,
          20,
          12,
          56,
          3,
          1,
          12,
          1,
          2,
          9,
          2,
          2,
          17,
          1,
          1,
          2,
          46,
          12,
          3,
          2,
          1,
          2,
          1,
          1,
          10,
          9,
          1,
          2,
          56,
          1,
          1,
          1,
          2,
          1,
          1143,
          5,
          6,
          2768,
          93,
          97,
          53,
          5656,
          151,
          581,
          84,
          228,
          142,
          92,
          225,
          11324
         ]
        }
       ],
       "layout": {
        "legend": {
         "tracegroupgap": 0
        },
        "margin": {
         "b": 25,
         "l": 25,
         "r": 25,
         "t": 50
        },
        "template": {
         "data": {
          "bar": [
           {
            "error_x": {
             "color": "#2a3f5f"
            },
            "error_y": {
             "color": "#2a3f5f"
            },
            "marker": {
             "line": {
              "color": "#E5ECF6",
              "width": 0.5
             },
             "pattern": {
              "fillmode": "overlay",
              "size": 10,
              "solidity": 0.2
             }
            },
            "type": "bar"
           }
          ],
          "barpolar": [
           {
            "marker": {
             "line": {
              "color": "#E5ECF6",
              "width": 0.5
             },
             "pattern": {
              "fillmode": "overlay",
              "size": 10,
              "solidity": 0.2
             }
            },
            "type": "barpolar"
           }
          ],
          "carpet": [
           {
            "aaxis": {
             "endlinecolor": "#2a3f5f",
             "gridcolor": "white",
             "linecolor": "white",
             "minorgridcolor": "white",
             "startlinecolor": "#2a3f5f"
            },
            "baxis": {
             "endlinecolor": "#2a3f5f",
             "gridcolor": "white",
             "linecolor": "white",
             "minorgridcolor": "white",
             "startlinecolor": "#2a3f5f"
            },
            "type": "carpet"
           }
          ],
          "choropleth": [
           {
            "colorbar": {
             "outlinewidth": 0,
             "ticks": ""
            },
            "type": "choropleth"
           }
          ],
          "contour": [
           {
            "colorbar": {
             "outlinewidth": 0,
             "ticks": ""
            },
            "colorscale": [
             [
              0,
              "#0d0887"
             ],
             [
              0.1111111111111111,
              "#46039f"
             ],
             [
              0.2222222222222222,
              "#7201a8"
             ],
             [
              0.3333333333333333,
              "#9c179e"
             ],
             [
              0.4444444444444444,
              "#bd3786"
             ],
             [
              0.5555555555555556,
              "#d8576b"
             ],
             [
              0.6666666666666666,
              "#ed7953"
             ],
             [
              0.7777777777777778,
              "#fb9f3a"
             ],
             [
              0.8888888888888888,
              "#fdca26"
             ],
             [
              1,
              "#f0f921"
             ]
            ],
            "type": "contour"
           }
          ],
          "contourcarpet": [
           {
            "colorbar": {
             "outlinewidth": 0,
             "ticks": ""
            },
            "type": "contourcarpet"
           }
          ],
          "heatmap": [
           {
            "colorbar": {
             "outlinewidth": 0,
             "ticks": ""
            },
            "colorscale": [
             [
              0,
              "#0d0887"
             ],
             [
              0.1111111111111111,
              "#46039f"
             ],
             [
              0.2222222222222222,
              "#7201a8"
             ],
             [
              0.3333333333333333,
              "#9c179e"
             ],
             [
              0.4444444444444444,
              "#bd3786"
             ],
             [
              0.5555555555555556,
              "#d8576b"
             ],
             [
              0.6666666666666666,
              "#ed7953"
             ],
             [
              0.7777777777777778,
              "#fb9f3a"
             ],
             [
              0.8888888888888888,
              "#fdca26"
             ],
             [
              1,
              "#f0f921"
             ]
            ],
            "type": "heatmap"
           }
          ],
          "heatmapgl": [
           {
            "colorbar": {
             "outlinewidth": 0,
             "ticks": ""
            },
            "colorscale": [
             [
              0,
              "#0d0887"
             ],
             [
              0.1111111111111111,
              "#46039f"
             ],
             [
              0.2222222222222222,
              "#7201a8"
             ],
             [
              0.3333333333333333,
              "#9c179e"
             ],
             [
              0.4444444444444444,
              "#bd3786"
             ],
             [
              0.5555555555555556,
              "#d8576b"
             ],
             [
              0.6666666666666666,
              "#ed7953"
             ],
             [
              0.7777777777777778,
              "#fb9f3a"
             ],
             [
              0.8888888888888888,
              "#fdca26"
             ],
             [
              1,
              "#f0f921"
             ]
            ],
            "type": "heatmapgl"
           }
          ],
          "histogram": [
           {
            "marker": {
             "pattern": {
              "fillmode": "overlay",
              "size": 10,
              "solidity": 0.2
             }
            },
            "type": "histogram"
           }
          ],
          "histogram2d": [
           {
            "colorbar": {
             "outlinewidth": 0,
             "ticks": ""
            },
            "colorscale": [
             [
              0,
              "#0d0887"
             ],
             [
              0.1111111111111111,
              "#46039f"
             ],
             [
              0.2222222222222222,
              "#7201a8"
             ],
             [
              0.3333333333333333,
              "#9c179e"
             ],
             [
              0.4444444444444444,
              "#bd3786"
             ],
             [
              0.5555555555555556,
              "#d8576b"
             ],
             [
              0.6666666666666666,
              "#ed7953"
             ],
             [
              0.7777777777777778,
              "#fb9f3a"
             ],
             [
              0.8888888888888888,
              "#fdca26"
             ],
             [
              1,
              "#f0f921"
             ]
            ],
            "type": "histogram2d"
           }
          ],
          "histogram2dcontour": [
           {
            "colorbar": {
             "outlinewidth": 0,
             "ticks": ""
            },
            "colorscale": [
             [
              0,
              "#0d0887"
             ],
             [
              0.1111111111111111,
              "#46039f"
             ],
             [
              0.2222222222222222,
              "#7201a8"
             ],
             [
              0.3333333333333333,
              "#9c179e"
             ],
             [
              0.4444444444444444,
              "#bd3786"
             ],
             [
              0.5555555555555556,
              "#d8576b"
             ],
             [
              0.6666666666666666,
              "#ed7953"
             ],
             [
              0.7777777777777778,
              "#fb9f3a"
             ],
             [
              0.8888888888888888,
              "#fdca26"
             ],
             [
              1,
              "#f0f921"
             ]
            ],
            "type": "histogram2dcontour"
           }
          ],
          "mesh3d": [
           {
            "colorbar": {
             "outlinewidth": 0,
             "ticks": ""
            },
            "type": "mesh3d"
           }
          ],
          "parcoords": [
           {
            "line": {
             "colorbar": {
              "outlinewidth": 0,
              "ticks": ""
             }
            },
            "type": "parcoords"
           }
          ],
          "pie": [
           {
            "automargin": true,
            "type": "pie"
           }
          ],
          "scatter": [
           {
            "fillpattern": {
             "fillmode": "overlay",
             "size": 10,
             "solidity": 0.2
            },
            "type": "scatter"
           }
          ],
          "scatter3d": [
           {
            "line": {
             "colorbar": {
              "outlinewidth": 0,
              "ticks": ""
             }
            },
            "marker": {
             "colorbar": {
              "outlinewidth": 0,
              "ticks": ""
             }
            },
            "type": "scatter3d"
           }
          ],
          "scattercarpet": [
           {
            "marker": {
             "colorbar": {
              "outlinewidth": 0,
              "ticks": ""
             }
            },
            "type": "scattercarpet"
           }
          ],
          "scattergeo": [
           {
            "marker": {
             "colorbar": {
              "outlinewidth": 0,
              "ticks": ""
             }
            },
            "type": "scattergeo"
           }
          ],
          "scattergl": [
           {
            "marker": {
             "colorbar": {
              "outlinewidth": 0,
              "ticks": ""
             }
            },
            "type": "scattergl"
           }
          ],
          "scattermapbox": [
           {
            "marker": {
             "colorbar": {
              "outlinewidth": 0,
              "ticks": ""
             }
            },
            "type": "scattermapbox"
           }
          ],
          "scatterpolar": [
           {
            "marker": {
             "colorbar": {
              "outlinewidth": 0,
              "ticks": ""
             }
            },
            "type": "scatterpolar"
           }
          ],
          "scatterpolargl": [
           {
            "marker": {
             "colorbar": {
              "outlinewidth": 0,
              "ticks": ""
             }
            },
            "type": "scatterpolargl"
           }
          ],
          "scatterternary": [
           {
            "marker": {
             "colorbar": {
              "outlinewidth": 0,
              "ticks": ""
             }
            },
            "type": "scatterternary"
           }
          ],
          "surface": [
           {
            "colorbar": {
             "outlinewidth": 0,
             "ticks": ""
            },
            "colorscale": [
             [
              0,
              "#0d0887"
             ],
             [
              0.1111111111111111,
              "#46039f"
             ],
             [
              0.2222222222222222,
              "#7201a8"
             ],
             [
              0.3333333333333333,
              "#9c179e"
             ],
             [
              0.4444444444444444,
              "#bd3786"
             ],
             [
              0.5555555555555556,
              "#d8576b"
             ],
             [
              0.6666666666666666,
              "#ed7953"
             ],
             [
              0.7777777777777778,
              "#fb9f3a"
             ],
             [
              0.8888888888888888,
              "#fdca26"
             ],
             [
              1,
              "#f0f921"
             ]
            ],
            "type": "surface"
           }
          ],
          "table": [
           {
            "cells": {
             "fill": {
              "color": "#EBF0F8"
             },
             "line": {
              "color": "white"
             }
            },
            "header": {
             "fill": {
              "color": "#C8D4E3"
             },
             "line": {
              "color": "white"
             }
            },
            "type": "table"
           }
          ]
         },
         "layout": {
          "annotationdefaults": {
           "arrowcolor": "#2a3f5f",
           "arrowhead": 0,
           "arrowwidth": 1
          },
          "autotypenumbers": "strict",
          "coloraxis": {
           "colorbar": {
            "outlinewidth": 0,
            "ticks": ""
           }
          },
          "colorscale": {
           "diverging": [
            [
             0,
             "#8e0152"
            ],
            [
             0.1,
             "#c51b7d"
            ],
            [
             0.2,
             "#de77ae"
            ],
            [
             0.3,
             "#f1b6da"
            ],
            [
             0.4,
             "#fde0ef"
            ],
            [
             0.5,
             "#f7f7f7"
            ],
            [
             0.6,
             "#e6f5d0"
            ],
            [
             0.7,
             "#b8e186"
            ],
            [
             0.8,
             "#7fbc41"
            ],
            [
             0.9,
             "#4d9221"
            ],
            [
             1,
             "#276419"
            ]
           ],
           "sequential": [
            [
             0,
             "#0d0887"
            ],
            [
             0.1111111111111111,
             "#46039f"
            ],
            [
             0.2222222222222222,
             "#7201a8"
            ],
            [
             0.3333333333333333,
             "#9c179e"
            ],
            [
             0.4444444444444444,
             "#bd3786"
            ],
            [
             0.5555555555555556,
             "#d8576b"
            ],
            [
             0.6666666666666666,
             "#ed7953"
            ],
            [
             0.7777777777777778,
             "#fb9f3a"
            ],
            [
             0.8888888888888888,
             "#fdca26"
            ],
            [
             1,
             "#f0f921"
            ]
           ],
           "sequentialminus": [
            [
             0,
             "#0d0887"
            ],
            [
             0.1111111111111111,
             "#46039f"
            ],
            [
             0.2222222222222222,
             "#7201a8"
            ],
            [
             0.3333333333333333,
             "#9c179e"
            ],
            [
             0.4444444444444444,
             "#bd3786"
            ],
            [
             0.5555555555555556,
             "#d8576b"
            ],
            [
             0.6666666666666666,
             "#ed7953"
            ],
            [
             0.7777777777777778,
             "#fb9f3a"
            ],
            [
             0.8888888888888888,
             "#fdca26"
            ],
            [
             1,
             "#f0f921"
            ]
           ]
          },
          "colorway": [
           "#636efa",
           "#EF553B",
           "#00cc96",
           "#ab63fa",
           "#FFA15A",
           "#19d3f3",
           "#FF6692",
           "#B6E880",
           "#FF97FF",
           "#FECB52"
          ],
          "font": {
           "color": "#2a3f5f"
          },
          "geo": {
           "bgcolor": "white",
           "lakecolor": "white",
           "landcolor": "#E5ECF6",
           "showlakes": true,
           "showland": true,
           "subunitcolor": "white"
          },
          "hoverlabel": {
           "align": "left"
          },
          "hovermode": "closest",
          "mapbox": {
           "style": "light"
          },
          "paper_bgcolor": "white",
          "plot_bgcolor": "#E5ECF6",
          "polar": {
           "angularaxis": {
            "gridcolor": "white",
            "linecolor": "white",
            "ticks": ""
           },
           "bgcolor": "#E5ECF6",
           "radialaxis": {
            "gridcolor": "white",
            "linecolor": "white",
            "ticks": ""
           }
          },
          "scene": {
           "xaxis": {
            "backgroundcolor": "#E5ECF6",
            "gridcolor": "white",
            "gridwidth": 2,
            "linecolor": "white",
            "showbackground": true,
            "ticks": "",
            "zerolinecolor": "white"
           },
           "yaxis": {
            "backgroundcolor": "#E5ECF6",
            "gridcolor": "white",
            "gridwidth": 2,
            "linecolor": "white",
            "showbackground": true,
            "ticks": "",
            "zerolinecolor": "white"
           },
           "zaxis": {
            "backgroundcolor": "#E5ECF6",
            "gridcolor": "white",
            "gridwidth": 2,
            "linecolor": "white",
            "showbackground": true,
            "ticks": "",
            "zerolinecolor": "white"
           }
          },
          "shapedefaults": {
           "line": {
            "color": "#2a3f5f"
           }
          },
          "ternary": {
           "aaxis": {
            "gridcolor": "white",
            "linecolor": "white",
            "ticks": ""
           },
           "baxis": {
            "gridcolor": "white",
            "linecolor": "white",
            "ticks": ""
           },
           "bgcolor": "#E5ECF6",
           "caxis": {
            "gridcolor": "white",
            "linecolor": "white",
            "ticks": ""
           }
          },
          "title": {
           "x": 0.05
          },
          "xaxis": {
           "automargin": true,
           "gridcolor": "white",
           "linecolor": "white",
           "ticks": "",
           "title": {
            "standoff": 15
           },
           "zerolinecolor": "white",
           "zerolinewidth": 2
          },
          "yaxis": {
           "automargin": true,
           "gridcolor": "white",
           "linecolor": "white",
           "ticks": "",
           "title": {
            "standoff": 15
           },
           "zerolinecolor": "white",
           "zerolinewidth": 2
          }
         }
        }
       }
      }
     },
     "metadata": {},
     "output_type": "display_data"
    }
   ],
   "source": [
    "fig = px.treemap(df, path=[px.Constant(\"all\"), 'category', 'customer_country'])\n",
    "fig.update_traces(root_color=\"lightgrey\")\n",
    "fig.update_layout(margin = dict(t=50, l=25, r=25, b=25))\n",
    "fig.show()"
   ]
  },
  {
   "cell_type": "markdown",
   "id": "67519c3f",
   "metadata": {},
   "source": [
    "### And viceversa"
   ]
  },
  {
   "cell_type": "code",
   "execution_count": 25,
   "id": "46db73aa",
   "metadata": {},
   "outputs": [
    {
     "data": {
      "application/vnd.plotly.v1+json": {
       "config": {
        "plotlyServerURL": "https://plot.ly"
       },
       "data": [
        {
         "branchvalues": "total",
         "domain": {
          "x": [
           0,
           1
          ],
          "y": [
           0,
           1
          ]
         },
         "hovertemplate": "labels=%{label}<br>count=%{value}<br>parent=%{parent}<br>id=%{id}<extra></extra>",
         "ids": [
          "all/AD/Accommodation",
          "all/AE/Accommodation",
          "all/AM/Accommodation",
          "all/AR/Accommodation",
          "all/AT/Accommodation",
          "all/AU/Accommodation",
          "all/BE/Accommodation",
          "all/BG/Accommodation",
          "all/BH/Accommodation",
          "all/BR/Accommodation",
          "all/BW/Accommodation",
          "all/CA/Accommodation",
          "all/CH/Accommodation",
          "all/CL/Accommodation",
          "all/CN/Accommodation",
          "all/CO/Accommodation",
          "all/CR/Accommodation",
          "all/CY/Accommodation",
          "all/DK/Accommodation",
          "all/EG/Accommodation",
          "all/FI/Accommodation",
          "all/FR/Accommodation",
          "all/GB/Accommodation",
          "all/GR/Accommodation",
          "all/GT/Accommodation",
          "all/HK/Accommodation",
          "all/HN/Accommodation",
          "all/ID/Accommodation",
          "all/IE/Accommodation",
          "all/IL/Accommodation",
          "all/IN/Accommodation",
          "all/IS/Accommodation",
          "all/IT/Accommodation",
          "all/JO/Accommodation",
          "all/JP/Accommodation",
          "all/KE/Accommodation",
          "all/KR/Accommodation",
          "all/KW/Accommodation",
          "all/KZ/Accommodation",
          "all/LB/Accommodation",
          "all/LK/Accommodation",
          "all/LT/Accommodation",
          "all/MT/Accommodation",
          "all/MX/Accommodation",
          "all/MY/Accommodation",
          "all/NG/Accommodation",
          "all/NL/Accommodation",
          "all/NO/Accommodation",
          "all/PA/Accommodation",
          "all/PH/Accommodation",
          "all/PK/Accommodation",
          "all/PL/Accommodation",
          "all/PT/Accommodation",
          "all/QA/Accommodation",
          "all/RO/Accommodation",
          "all/RU/Accommodation",
          "all/SA/Accommodation",
          "all/SE/Accommodation",
          "all/SG/Accommodation",
          "all/SI/Accommodation",
          "all/SN/Accommodation",
          "all/TR/Accommodation",
          "all/TT/Accommodation",
          "all/TW/Accommodation",
          "all/UA/Accommodation",
          "all/US/Accommodation",
          "all/VE/Accommodation",
          "all/WS/Accommodation",
          "all/ZA/Accommodation",
          "all/CA/Agencias de viajes",
          "all/FR/Agencias de viajes",
          "all/IT/Agencias de viajes",
          "all/NO/Agencias de viajes",
          "all/AD/Automoción",
          "all/BE/Automoción",
          "all/BH/Automoción",
          "all/GB/Automoción",
          "all/IN/Automoción",
          "all/AD/Bars & restaurants",
          "all/AE/Bars & restaurants",
          "all/AN/Bars & restaurants",
          "all/AO/Bars & restaurants",
          "all/AR/Bars & restaurants",
          "all/AT/Bars & restaurants",
          "all/AU/Bars & restaurants",
          "all/BE/Bars & restaurants",
          "all/BO/Bars & restaurants",
          "all/BR/Bars & restaurants",
          "all/BY/Bars & restaurants",
          "all/CA/Bars & restaurants",
          "all/CH/Bars & restaurants",
          "all/CI/Bars & restaurants",
          "all/CL/Bars & restaurants",
          "all/CN/Bars & restaurants",
          "all/CO/Bars & restaurants",
          "all/CR/Bars & restaurants",
          "all/CY/Bars & restaurants",
          "all/CZ/Bars & restaurants",
          "all/DK/Bars & restaurants",
          "all/DO/Bars & restaurants",
          "all/EC/Bars & restaurants",
          "all/EE/Bars & restaurants",
          "all/EG/Bars & restaurants",
          "all/FI/Bars & restaurants",
          "all/FR/Bars & restaurants",
          "all/GB/Bars & restaurants",
          "all/GE/Bars & restaurants",
          "all/GT/Bars & restaurants",
          "all/HK/Bars & restaurants",
          "all/HN/Bars & restaurants",
          "all/HR/Bars & restaurants",
          "all/HU/Bars & restaurants",
          "all/ID/Bars & restaurants",
          "all/IE/Bars & restaurants",
          "all/IL/Bars & restaurants",
          "all/IN/Bars & restaurants",
          "all/IS/Bars & restaurants",
          "all/IT/Bars & restaurants",
          "all/JO/Bars & restaurants",
          "all/JP/Bars & restaurants",
          "all/KE/Bars & restaurants",
          "all/KR/Bars & restaurants",
          "all/KW/Bars & restaurants",
          "all/KY/Bars & restaurants",
          "all/KZ/Bars & restaurants",
          "all/LB/Bars & restaurants",
          "all/LT/Bars & restaurants",
          "all/LU/Bars & restaurants",
          "all/LV/Bars & restaurants",
          "all/MA/Bars & restaurants",
          "all/MD/Bars & restaurants",
          "all/MK/Bars & restaurants",
          "all/MT/Bars & restaurants",
          "all/MX/Bars & restaurants",
          "all/MY/Bars & restaurants",
          "all/NG/Bars & restaurants",
          "all/NL/Bars & restaurants",
          "all/NO/Bars & restaurants",
          "all/OM/Bars & restaurants",
          "all/PA/Bars & restaurants",
          "all/PE/Bars & restaurants",
          "all/PH/Bars & restaurants",
          "all/PL/Bars & restaurants",
          "all/PR/Bars & restaurants",
          "all/PT/Bars & restaurants",
          "all/PY/Bars & restaurants",
          "all/QA/Bars & restaurants",
          "all/RO/Bars & restaurants",
          "all/RU/Bars & restaurants",
          "all/SA/Bars & restaurants",
          "all/SE/Bars & restaurants",
          "all/SG/Bars & restaurants",
          "all/SK/Bars & restaurants",
          "all/TH/Bars & restaurants",
          "all/TR/Bars & restaurants",
          "all/TW/Bars & restaurants",
          "all/UA/Bars & restaurants",
          "all/US/Bars & restaurants",
          "all/UY/Bars & restaurants",
          "all/UZ/Bars & restaurants",
          "all/VE/Bars & restaurants",
          "all/ZA/Bars & restaurants",
          "all/AE/Books & Music",
          "all/AR/Books & Music",
          "all/BR/Books & Music",
          "all/CA/Books & Music",
          "all/CH/Books & Music",
          "all/CL/Books & Music",
          "all/CO/Books & Music",
          "all/CR/Books & Music",
          "all/DO/Books & Music",
          "all/EC/Books & Music",
          "all/FR/Books & Music",
          "all/GB/Books & Music",
          "all/GT/Books & Music",
          "all/IT/Books & Music",
          "all/KR/Books & Music",
          "all/MX/Books & Music",
          "all/PE/Books & Music",
          "all/PR/Books & Music",
          "all/PT/Books & Music",
          "all/US/Books & Music",
          "all/UY/Books & Music",
          "all/VE/Books & Music",
          "all/ZA/Books & Music",
          "all/AD/Culture & Leisure",
          "all/AR/Culture & Leisure",
          "all/AT/Culture & Leisure",
          "all/BR/Culture & Leisure",
          "all/CA/Culture & Leisure",
          "all/CH/Culture & Leisure",
          "all/CL/Culture & Leisure",
          "all/CN/Culture & Leisure",
          "all/EG/Culture & Leisure",
          "all/FI/Culture & Leisure",
          "all/FR/Culture & Leisure",
          "all/GB/Culture & Leisure",
          "all/IL/Culture & Leisure",
          "all/IT/Culture & Leisure",
          "all/JP/Culture & Leisure",
          "all/KR/Culture & Leisure",
          "all/KW/Culture & Leisure",
          "all/KY/Culture & Leisure",
          "all/KZ/Culture & Leisure",
          "all/MA/Culture & Leisure",
          "all/MK/Culture & Leisure",
          "all/MY/Culture & Leisure",
          "all/NO/Culture & Leisure",
          "all/PT/Culture & Leisure",
          "all/PY/Culture & Leisure",
          "all/RO/Culture & Leisure",
          "all/RU/Culture & Leisure",
          "all/SA/Culture & Leisure",
          "all/SE/Culture & Leisure",
          "all/TW/Culture & Leisure",
          "all/US/Culture & Leisure",
          "all/VE/Culture & Leisure",
          "all/AR/Electronics & computing",
          "all/AT/Electronics & computing",
          "all/AU/Electronics & computing",
          "all/BR/Electronics & computing",
          "all/CH/Electronics & computing",
          "all/CO/Electronics & computing",
          "all/DK/Electronics & computing",
          "all/DO/Electronics & computing",
          "all/FI/Electronics & computing",
          "all/FR/Electronics & computing",
          "all/GB/Electronics & computing",
          "all/HN/Electronics & computing",
          "all/IT/Electronics & computing",
          "all/LK/Electronics & computing",
          "all/MX/Electronics & computing",
          "all/NL/Electronics & computing",
          "all/PT/Electronics & computing",
          "all/RU/Electronics & computing",
          "all/SE/Electronics & computing",
          "all/TR/Electronics & computing",
          "all/US/Electronics & computing",
          "all/VE/Electronics & computing",
          "all/ZA/Electronics & computing",
          "all/AD/Fashion & Shoes",
          "all/AE/Fashion & Shoes",
          "all/AN/Fashion & Shoes",
          "all/AO/Fashion & Shoes",
          "all/AR/Fashion & Shoes",
          "all/AT/Fashion & Shoes",
          "all/AU/Fashion & Shoes",
          "all/AZ/Fashion & Shoes",
          "all/BA/Fashion & Shoes",
          "all/BE/Fashion & Shoes",
          "all/BG/Fashion & Shoes",
          "all/BH/Fashion & Shoes",
          "all/BR/Fashion & Shoes",
          "all/BW/Fashion & Shoes",
          "all/BY/Fashion & Shoes",
          "all/CA/Fashion & Shoes",
          "all/CH/Fashion & Shoes",
          "all/CI/Fashion & Shoes",
          "all/CL/Fashion & Shoes",
          "all/CN/Fashion & Shoes",
          "all/CO/Fashion & Shoes",
          "all/CR/Fashion & Shoes",
          "all/CY/Fashion & Shoes",
          "all/CZ/Fashion & Shoes",
          "all/DK/Fashion & Shoes",
          "all/DO/Fashion & Shoes",
          "all/DZ/Fashion & Shoes",
          "all/EC/Fashion & Shoes",
          "all/EE/Fashion & Shoes",
          "all/EG/Fashion & Shoes",
          "all/FI/Fashion & Shoes",
          "all/FR/Fashion & Shoes",
          "all/GB/Fashion & Shoes",
          "all/GE/Fashion & Shoes",
          "all/GR/Fashion & Shoes",
          "all/GT/Fashion & Shoes",
          "all/HK/Fashion & Shoes",
          "all/HN/Fashion & Shoes",
          "all/HR/Fashion & Shoes",
          "all/HU/Fashion & Shoes",
          "all/ID/Fashion & Shoes",
          "all/IE/Fashion & Shoes",
          "all/IL/Fashion & Shoes",
          "all/IN/Fashion & Shoes",
          "all/IQ/Fashion & Shoes",
          "all/IS/Fashion & Shoes",
          "all/IT/Fashion & Shoes",
          "all/JM/Fashion & Shoes",
          "all/JO/Fashion & Shoes",
          "all/JP/Fashion & Shoes",
          "all/KR/Fashion & Shoes",
          "all/KW/Fashion & Shoes",
          "all/KY/Fashion & Shoes",
          "all/KZ/Fashion & Shoes",
          "all/LB/Fashion & Shoes",
          "all/LK/Fashion & Shoes",
          "all/LT/Fashion & Shoes",
          "all/LU/Fashion & Shoes",
          "all/LV/Fashion & Shoes",
          "all/MA/Fashion & Shoes",
          "all/MD/Fashion & Shoes",
          "all/MK/Fashion & Shoes",
          "all/MN/Fashion & Shoes",
          "all/MW/Fashion & Shoes",
          "all/MX/Fashion & Shoes",
          "all/MY/Fashion & Shoes",
          "all/MZ/Fashion & Shoes",
          "all/NG/Fashion & Shoes",
          "all/NL/Fashion & Shoes",
          "all/NO/Fashion & Shoes",
          "all/NZ/Fashion & Shoes",
          "all/PA/Fashion & Shoes",
          "all/PE/Fashion & Shoes",
          "all/PH/Fashion & Shoes",
          "all/PK/Fashion & Shoes",
          "all/PL/Fashion & Shoes",
          "all/PR/Fashion & Shoes",
          "all/PT/Fashion & Shoes",
          "all/PY/Fashion & Shoes",
          "all/QA/Fashion & Shoes",
          "all/RO/Fashion & Shoes",
          "all/RU/Fashion & Shoes",
          "all/SA/Fashion & Shoes",
          "all/SE/Fashion & Shoes",
          "all/SG/Fashion & Shoes",
          "all/SI/Fashion & Shoes",
          "all/SK/Fashion & Shoes",
          "all/SN/Fashion & Shoes",
          "all/SV/Fashion & Shoes",
          "all/TH/Fashion & Shoes",
          "all/TR/Fashion & Shoes",
          "all/TT/Fashion & Shoes",
          "all/TW/Fashion & Shoes",
          "all/UA/Fashion & Shoes",
          "all/UG/Fashion & Shoes",
          "all/US/Fashion & Shoes",
          "all/UY/Fashion & Shoes",
          "all/UZ/Fashion & Shoes",
          "all/VE/Fashion & Shoes",
          "all/VN/Fashion & Shoes",
          "all/ZA/Fashion & Shoes",
          "all/ZW/Fashion & Shoes",
          "all/AD/Food",
          "all/AR/Food",
          "all/AT/Food",
          "all/AU/Food",
          "all/BE/Food",
          "all/BO/Food",
          "all/BR/Food",
          "all/BY/Food",
          "all/CA/Food",
          "all/CN/Food",
          "all/CO/Food",
          "all/CZ/Food",
          "all/DK/Food",
          "all/EE/Food",
          "all/FI/Food",
          "all/FR/Food",
          "all/GB/Food",
          "all/GT/Food",
          "all/HR/Food",
          "all/IE/Food",
          "all/IL/Food",
          "all/IT/Food",
          "all/JP/Food",
          "all/MX/Food",
          "all/NL/Food",
          "all/NO/Food",
          "all/PH/Food",
          "all/PL/Food",
          "all/RU/Food",
          "all/SE/Food",
          "all/SI/Food",
          "all/SV/Food",
          "all/UA/Food",
          "all/US/Food",
          "all/AD/Health",
          "all/AR/Health",
          "all/AT/Health",
          "all/BA/Health",
          "all/BE/Health",
          "all/BR/Health",
          "all/CA/Health",
          "all/CH/Health",
          "all/CL/Health",
          "all/CN/Health",
          "all/CO/Health",
          "all/CR/Health",
          "all/DK/Health",
          "all/DO/Health",
          "all/DZ/Health",
          "all/EC/Health",
          "all/EG/Health",
          "all/FI/Health",
          "all/FR/Health",
          "all/GB/Health",
          "all/GR/Health",
          "all/GT/Health",
          "all/IE/Health",
          "all/IL/Health",
          "all/IN/Health",
          "all/IS/Health",
          "all/IT/Health",
          "all/JO/Health",
          "all/JP/Health",
          "all/KR/Health",
          "all/KW/Health",
          "all/KZ/Health",
          "all/LB/Health",
          "all/LT/Health",
          "all/LU/Health",
          "all/MX/Health",
          "all/MZ/Health",
          "all/NL/Health",
          "all/NO/Health",
          "all/PA/Health",
          "all/PE/Health",
          "all/PH/Health",
          "all/PL/Health",
          "all/PR/Health",
          "all/PT/Health",
          "all/QA/Health",
          "all/RO/Health",
          "all/RU/Health",
          "all/SE/Health",
          "all/SG/Health",
          "all/SI/Health",
          "all/SV/Health",
          "all/TR/Health",
          "all/TW/Health",
          "all/UA/Health",
          "all/US/Health",
          "all/UY/Health",
          "all/UZ/Health",
          "all/VE/Health",
          "all/VN/Health",
          "all/ZA/Health",
          "all/AD/Hogar y reformas",
          "all/AR/Hogar y reformas",
          "all/AT/Hogar y reformas",
          "all/AU/Hogar y reformas",
          "all/BE/Hogar y reformas",
          "all/BR/Hogar y reformas",
          "all/BZ/Hogar y reformas",
          "all/CH/Hogar y reformas",
          "all/CN/Hogar y reformas",
          "all/CO/Hogar y reformas",
          "all/CY/Hogar y reformas",
          "all/DK/Hogar y reformas",
          "all/DO/Hogar y reformas",
          "all/FI/Hogar y reformas",
          "all/FR/Hogar y reformas",
          "all/GB/Hogar y reformas",
          "all/IT/Hogar y reformas",
          "all/JP/Hogar y reformas",
          "all/LT/Hogar y reformas",
          "all/MX/Hogar y reformas",
          "all/NL/Hogar y reformas",
          "all/NO/Hogar y reformas",
          "all/PE/Hogar y reformas",
          "all/PL/Hogar y reformas",
          "all/PT/Hogar y reformas",
          "all/RU/Hogar y reformas",
          "all/SE/Hogar y reformas",
          "all/SG/Hogar y reformas",
          "all/TR/Hogar y reformas",
          "all/US/Hogar y reformas",
          "all/ZA/Hogar y reformas",
          "all/AD/Other goods and services",
          "all/AE/Other goods and services",
          "all/AR/Other goods and services",
          "all/AT/Other goods and services",
          "all/AU/Other goods and services",
          "all/BE/Other goods and services",
          "all/BG/Other goods and services",
          "all/BH/Other goods and services",
          "all/BR/Other goods and services",
          "all/BZ/Other goods and services",
          "all/CA/Other goods and services",
          "all/CH/Other goods and services",
          "all/CL/Other goods and services",
          "all/CN/Other goods and services",
          "all/CO/Other goods and services",
          "all/CZ/Other goods and services",
          "all/DK/Other goods and services",
          "all/DO/Other goods and services",
          "all/FI/Other goods and services",
          "all/FR/Other goods and services",
          "all/GB/Other goods and services",
          "all/IE/Other goods and services",
          "all/IL/Other goods and services",
          "all/IT/Other goods and services",
          "all/JP/Other goods and services",
          "all/KR/Other goods and services",
          "all/MX/Other goods and services",
          "all/MY/Other goods and services",
          "all/NL/Other goods and services",
          "all/NO/Other goods and services",
          "all/PA/Other goods and services",
          "all/PE/Other goods and services",
          "all/PH/Other goods and services",
          "all/PL/Other goods and services",
          "all/PT/Other goods and services",
          "all/RU/Other goods and services",
          "all/SA/Other goods and services",
          "all/SE/Other goods and services",
          "all/SI/Other goods and services",
          "all/TR/Other goods and services",
          "all/US/Other goods and services",
          "all/VE/Other goods and services",
          "all/ZA/Other goods and services",
          "all/AD/Personal products",
          "all/AR/Personal products",
          "all/AT/Personal products",
          "all/AU/Personal products",
          "all/BG/Personal products",
          "all/BR/Personal products",
          "all/CH/Personal products",
          "all/CN/Personal products",
          "all/CO/Personal products",
          "all/CR/Personal products",
          "all/EC/Personal products",
          "all/EG/Personal products",
          "all/FI/Personal products",
          "all/FR/Personal products",
          "all/GB/Personal products",
          "all/GE/Personal products",
          "all/GR/Personal products",
          "all/GT/Personal products",
          "all/IE/Personal products",
          "all/IL/Personal products",
          "all/IT/Personal products",
          "all/JP/Personal products",
          "all/MX/Personal products",
          "all/NL/Personal products",
          "all/NO/Personal products",
          "all/PT/Personal products",
          "all/RU/Personal products",
          "all/SE/Personal products",
          "all/SG/Personal products",
          "all/TR/Personal products",
          "all/TW/Personal products",
          "all/US/Personal products",
          "all/VE/Personal products",
          "all/ZA/Personal products",
          "all/AR/Sports & Games",
          "all/AU/Sports & Games",
          "all/BE/Sports & Games",
          "all/BG/Sports & Games",
          "all/BR/Sports & Games",
          "all/CH/Sports & Games",
          "all/CL/Sports & Games",
          "all/CN/Sports & Games",
          "all/CO/Sports & Games",
          "all/CY/Sports & Games",
          "all/FI/Sports & Games",
          "all/FR/Sports & Games",
          "all/GB/Sports & Games",
          "all/ID/Sports & Games",
          "all/IL/Sports & Games",
          "all/IN/Sports & Games",
          "all/IT/Sports & Games",
          "all/KR/Sports & Games",
          "all/MX/Sports & Games",
          "all/MZ/Sports & Games",
          "all/NG/Sports & Games",
          "all/NL/Sports & Games",
          "all/NO/Sports & Games",
          "all/OM/Sports & Games",
          "all/PT/Sports & Games",
          "all/RU/Sports & Games",
          "all/SA/Sports & Games",
          "all/SE/Sports & Games",
          "all/SK/Sports & Games",
          "all/TR/Sports & Games",
          "all/UA/Sports & Games",
          "all/US/Sports & Games",
          "all/VE/Sports & Games",
          "all/AD/Transportation",
          "all/AR/Transportation",
          "all/AT/Transportation",
          "all/AU/Transportation",
          "all/BE/Transportation",
          "all/BR/Transportation",
          "all/CA/Transportation",
          "all/CH/Transportation",
          "all/CL/Transportation",
          "all/CN/Transportation",
          "all/CZ/Transportation",
          "all/DK/Transportation",
          "all/FI/Transportation",
          "all/FR/Transportation",
          "all/GB/Transportation",
          "all/GT/Transportation",
          "all/IE/Transportation",
          "all/IL/Transportation",
          "all/IN/Transportation",
          "all/IT/Transportation",
          "all/JO/Transportation",
          "all/JP/Transportation",
          "all/KR/Transportation",
          "all/LB/Transportation",
          "all/LU/Transportation",
          "all/MX/Transportation",
          "all/NI/Transportation",
          "all/NL/Transportation",
          "all/NO/Transportation",
          "all/NZ/Transportation",
          "all/PA/Transportation",
          "all/PL/Transportation",
          "all/RO/Transportation",
          "all/RU/Transportation",
          "all/SE/Transportation",
          "all/TH/Transportation",
          "all/TW/Transportation",
          "all/UA/Transportation",
          "all/US/Transportation",
          "all/AD",
          "all/AE",
          "all/AM",
          "all/AN",
          "all/AO",
          "all/AR",
          "all/AT",
          "all/AU",
          "all/AZ",
          "all/BA",
          "all/BE",
          "all/BG",
          "all/BH",
          "all/BO",
          "all/BR",
          "all/BW",
          "all/BY",
          "all/BZ",
          "all/CA",
          "all/CH",
          "all/CI",
          "all/CL",
          "all/CN",
          "all/CO",
          "all/CR",
          "all/CY",
          "all/CZ",
          "all/DK",
          "all/DO",
          "all/DZ",
          "all/EC",
          "all/EE",
          "all/EG",
          "all/FI",
          "all/FR",
          "all/GB",
          "all/GE",
          "all/GR",
          "all/GT",
          "all/HK",
          "all/HN",
          "all/HR",
          "all/HU",
          "all/ID",
          "all/IE",
          "all/IL",
          "all/IN",
          "all/IQ",
          "all/IS",
          "all/IT",
          "all/JM",
          "all/JO",
          "all/JP",
          "all/KE",
          "all/KR",
          "all/KW",
          "all/KY",
          "all/KZ",
          "all/LB",
          "all/LK",
          "all/LT",
          "all/LU",
          "all/LV",
          "all/MA",
          "all/MD",
          "all/MK",
          "all/MN",
          "all/MT",
          "all/MW",
          "all/MX",
          "all/MY",
          "all/MZ",
          "all/NG",
          "all/NI",
          "all/NL",
          "all/NO",
          "all/NZ",
          "all/OM",
          "all/PA",
          "all/PE",
          "all/PH",
          "all/PK",
          "all/PL",
          "all/PR",
          "all/PT",
          "all/PY",
          "all/QA",
          "all/RO",
          "all/RU",
          "all/SA",
          "all/SE",
          "all/SG",
          "all/SI",
          "all/SK",
          "all/SN",
          "all/SV",
          "all/TH",
          "all/TR",
          "all/TT",
          "all/TW",
          "all/UA",
          "all/UG",
          "all/US",
          "all/UY",
          "all/UZ",
          "all/VE",
          "all/VN",
          "all/WS",
          "all/ZA",
          "all/ZW",
          "all"
         ],
         "labels": [
          "Accommodation",
          "Accommodation",
          "Accommodation",
          "Accommodation",
          "Accommodation",
          "Accommodation",
          "Accommodation",
          "Accommodation",
          "Accommodation",
          "Accommodation",
          "Accommodation",
          "Accommodation",
          "Accommodation",
          "Accommodation",
          "Accommodation",
          "Accommodation",
          "Accommodation",
          "Accommodation",
          "Accommodation",
          "Accommodation",
          "Accommodation",
          "Accommodation",
          "Accommodation",
          "Accommodation",
          "Accommodation",
          "Accommodation",
          "Accommodation",
          "Accommodation",
          "Accommodation",
          "Accommodation",
          "Accommodation",
          "Accommodation",
          "Accommodation",
          "Accommodation",
          "Accommodation",
          "Accommodation",
          "Accommodation",
          "Accommodation",
          "Accommodation",
          "Accommodation",
          "Accommodation",
          "Accommodation",
          "Accommodation",
          "Accommodation",
          "Accommodation",
          "Accommodation",
          "Accommodation",
          "Accommodation",
          "Accommodation",
          "Accommodation",
          "Accommodation",
          "Accommodation",
          "Accommodation",
          "Accommodation",
          "Accommodation",
          "Accommodation",
          "Accommodation",
          "Accommodation",
          "Accommodation",
          "Accommodation",
          "Accommodation",
          "Accommodation",
          "Accommodation",
          "Accommodation",
          "Accommodation",
          "Accommodation",
          "Accommodation",
          "Accommodation",
          "Accommodation",
          "Agencias de viajes",
          "Agencias de viajes",
          "Agencias de viajes",
          "Agencias de viajes",
          "Automoción",
          "Automoción",
          "Automoción",
          "Automoción",
          "Automoción",
          "Bars & restaurants",
          "Bars & restaurants",
          "Bars & restaurants",
          "Bars & restaurants",
          "Bars & restaurants",
          "Bars & restaurants",
          "Bars & restaurants",
          "Bars & restaurants",
          "Bars & restaurants",
          "Bars & restaurants",
          "Bars & restaurants",
          "Bars & restaurants",
          "Bars & restaurants",
          "Bars & restaurants",
          "Bars & restaurants",
          "Bars & restaurants",
          "Bars & restaurants",
          "Bars & restaurants",
          "Bars & restaurants",
          "Bars & restaurants",
          "Bars & restaurants",
          "Bars & restaurants",
          "Bars & restaurants",
          "Bars & restaurants",
          "Bars & restaurants",
          "Bars & restaurants",
          "Bars & restaurants",
          "Bars & restaurants",
          "Bars & restaurants",
          "Bars & restaurants",
          "Bars & restaurants",
          "Bars & restaurants",
          "Bars & restaurants",
          "Bars & restaurants",
          "Bars & restaurants",
          "Bars & restaurants",
          "Bars & restaurants",
          "Bars & restaurants",
          "Bars & restaurants",
          "Bars & restaurants",
          "Bars & restaurants",
          "Bars & restaurants",
          "Bars & restaurants",
          "Bars & restaurants",
          "Bars & restaurants",
          "Bars & restaurants",
          "Bars & restaurants",
          "Bars & restaurants",
          "Bars & restaurants",
          "Bars & restaurants",
          "Bars & restaurants",
          "Bars & restaurants",
          "Bars & restaurants",
          "Bars & restaurants",
          "Bars & restaurants",
          "Bars & restaurants",
          "Bars & restaurants",
          "Bars & restaurants",
          "Bars & restaurants",
          "Bars & restaurants",
          "Bars & restaurants",
          "Bars & restaurants",
          "Bars & restaurants",
          "Bars & restaurants",
          "Bars & restaurants",
          "Bars & restaurants",
          "Bars & restaurants",
          "Bars & restaurants",
          "Bars & restaurants",
          "Bars & restaurants",
          "Bars & restaurants",
          "Bars & restaurants",
          "Bars & restaurants",
          "Bars & restaurants",
          "Bars & restaurants",
          "Bars & restaurants",
          "Bars & restaurants",
          "Bars & restaurants",
          "Bars & restaurants",
          "Bars & restaurants",
          "Bars & restaurants",
          "Bars & restaurants",
          "Bars & restaurants",
          "Bars & restaurants",
          "Books & Music",
          "Books & Music",
          "Books & Music",
          "Books & Music",
          "Books & Music",
          "Books & Music",
          "Books & Music",
          "Books & Music",
          "Books & Music",
          "Books & Music",
          "Books & Music",
          "Books & Music",
          "Books & Music",
          "Books & Music",
          "Books & Music",
          "Books & Music",
          "Books & Music",
          "Books & Music",
          "Books & Music",
          "Books & Music",
          "Books & Music",
          "Books & Music",
          "Books & Music",
          "Culture & Leisure",
          "Culture & Leisure",
          "Culture & Leisure",
          "Culture & Leisure",
          "Culture & Leisure",
          "Culture & Leisure",
          "Culture & Leisure",
          "Culture & Leisure",
          "Culture & Leisure",
          "Culture & Leisure",
          "Culture & Leisure",
          "Culture & Leisure",
          "Culture & Leisure",
          "Culture & Leisure",
          "Culture & Leisure",
          "Culture & Leisure",
          "Culture & Leisure",
          "Culture & Leisure",
          "Culture & Leisure",
          "Culture & Leisure",
          "Culture & Leisure",
          "Culture & Leisure",
          "Culture & Leisure",
          "Culture & Leisure",
          "Culture & Leisure",
          "Culture & Leisure",
          "Culture & Leisure",
          "Culture & Leisure",
          "Culture & Leisure",
          "Culture & Leisure",
          "Culture & Leisure",
          "Culture & Leisure",
          "Electronics & computing",
          "Electronics & computing",
          "Electronics & computing",
          "Electronics & computing",
          "Electronics & computing",
          "Electronics & computing",
          "Electronics & computing",
          "Electronics & computing",
          "Electronics & computing",
          "Electronics & computing",
          "Electronics & computing",
          "Electronics & computing",
          "Electronics & computing",
          "Electronics & computing",
          "Electronics & computing",
          "Electronics & computing",
          "Electronics & computing",
          "Electronics & computing",
          "Electronics & computing",
          "Electronics & computing",
          "Electronics & computing",
          "Electronics & computing",
          "Electronics & computing",
          "Fashion & Shoes",
          "Fashion & Shoes",
          "Fashion & Shoes",
          "Fashion & Shoes",
          "Fashion & Shoes",
          "Fashion & Shoes",
          "Fashion & Shoes",
          "Fashion & Shoes",
          "Fashion & Shoes",
          "Fashion & Shoes",
          "Fashion & Shoes",
          "Fashion & Shoes",
          "Fashion & Shoes",
          "Fashion & Shoes",
          "Fashion & Shoes",
          "Fashion & Shoes",
          "Fashion & Shoes",
          "Fashion & Shoes",
          "Fashion & Shoes",
          "Fashion & Shoes",
          "Fashion & Shoes",
          "Fashion & Shoes",
          "Fashion & Shoes",
          "Fashion & Shoes",
          "Fashion & Shoes",
          "Fashion & Shoes",
          "Fashion & Shoes",
          "Fashion & Shoes",
          "Fashion & Shoes",
          "Fashion & Shoes",
          "Fashion & Shoes",
          "Fashion & Shoes",
          "Fashion & Shoes",
          "Fashion & Shoes",
          "Fashion & Shoes",
          "Fashion & Shoes",
          "Fashion & Shoes",
          "Fashion & Shoes",
          "Fashion & Shoes",
          "Fashion & Shoes",
          "Fashion & Shoes",
          "Fashion & Shoes",
          "Fashion & Shoes",
          "Fashion & Shoes",
          "Fashion & Shoes",
          "Fashion & Shoes",
          "Fashion & Shoes",
          "Fashion & Shoes",
          "Fashion & Shoes",
          "Fashion & Shoes",
          "Fashion & Shoes",
          "Fashion & Shoes",
          "Fashion & Shoes",
          "Fashion & Shoes",
          "Fashion & Shoes",
          "Fashion & Shoes",
          "Fashion & Shoes",
          "Fashion & Shoes",
          "Fashion & Shoes",
          "Fashion & Shoes",
          "Fashion & Shoes",
          "Fashion & Shoes",
          "Fashion & Shoes",
          "Fashion & Shoes",
          "Fashion & Shoes",
          "Fashion & Shoes",
          "Fashion & Shoes",
          "Fashion & Shoes",
          "Fashion & Shoes",
          "Fashion & Shoes",
          "Fashion & Shoes",
          "Fashion & Shoes",
          "Fashion & Shoes",
          "Fashion & Shoes",
          "Fashion & Shoes",
          "Fashion & Shoes",
          "Fashion & Shoes",
          "Fashion & Shoes",
          "Fashion & Shoes",
          "Fashion & Shoes",
          "Fashion & Shoes",
          "Fashion & Shoes",
          "Fashion & Shoes",
          "Fashion & Shoes",
          "Fashion & Shoes",
          "Fashion & Shoes",
          "Fashion & Shoes",
          "Fashion & Shoes",
          "Fashion & Shoes",
          "Fashion & Shoes",
          "Fashion & Shoes",
          "Fashion & Shoes",
          "Fashion & Shoes",
          "Fashion & Shoes",
          "Fashion & Shoes",
          "Fashion & Shoes",
          "Fashion & Shoes",
          "Fashion & Shoes",
          "Fashion & Shoes",
          "Fashion & Shoes",
          "Fashion & Shoes",
          "Fashion & Shoes",
          "Food",
          "Food",
          "Food",
          "Food",
          "Food",
          "Food",
          "Food",
          "Food",
          "Food",
          "Food",
          "Food",
          "Food",
          "Food",
          "Food",
          "Food",
          "Food",
          "Food",
          "Food",
          "Food",
          "Food",
          "Food",
          "Food",
          "Food",
          "Food",
          "Food",
          "Food",
          "Food",
          "Food",
          "Food",
          "Food",
          "Food",
          "Food",
          "Food",
          "Food",
          "Health",
          "Health",
          "Health",
          "Health",
          "Health",
          "Health",
          "Health",
          "Health",
          "Health",
          "Health",
          "Health",
          "Health",
          "Health",
          "Health",
          "Health",
          "Health",
          "Health",
          "Health",
          "Health",
          "Health",
          "Health",
          "Health",
          "Health",
          "Health",
          "Health",
          "Health",
          "Health",
          "Health",
          "Health",
          "Health",
          "Health",
          "Health",
          "Health",
          "Health",
          "Health",
          "Health",
          "Health",
          "Health",
          "Health",
          "Health",
          "Health",
          "Health",
          "Health",
          "Health",
          "Health",
          "Health",
          "Health",
          "Health",
          "Health",
          "Health",
          "Health",
          "Health",
          "Health",
          "Health",
          "Health",
          "Health",
          "Health",
          "Health",
          "Health",
          "Health",
          "Health",
          "Hogar y reformas",
          "Hogar y reformas",
          "Hogar y reformas",
          "Hogar y reformas",
          "Hogar y reformas",
          "Hogar y reformas",
          "Hogar y reformas",
          "Hogar y reformas",
          "Hogar y reformas",
          "Hogar y reformas",
          "Hogar y reformas",
          "Hogar y reformas",
          "Hogar y reformas",
          "Hogar y reformas",
          "Hogar y reformas",
          "Hogar y reformas",
          "Hogar y reformas",
          "Hogar y reformas",
          "Hogar y reformas",
          "Hogar y reformas",
          "Hogar y reformas",
          "Hogar y reformas",
          "Hogar y reformas",
          "Hogar y reformas",
          "Hogar y reformas",
          "Hogar y reformas",
          "Hogar y reformas",
          "Hogar y reformas",
          "Hogar y reformas",
          "Hogar y reformas",
          "Hogar y reformas",
          "Other goods and services",
          "Other goods and services",
          "Other goods and services",
          "Other goods and services",
          "Other goods and services",
          "Other goods and services",
          "Other goods and services",
          "Other goods and services",
          "Other goods and services",
          "Other goods and services",
          "Other goods and services",
          "Other goods and services",
          "Other goods and services",
          "Other goods and services",
          "Other goods and services",
          "Other goods and services",
          "Other goods and services",
          "Other goods and services",
          "Other goods and services",
          "Other goods and services",
          "Other goods and services",
          "Other goods and services",
          "Other goods and services",
          "Other goods and services",
          "Other goods and services",
          "Other goods and services",
          "Other goods and services",
          "Other goods and services",
          "Other goods and services",
          "Other goods and services",
          "Other goods and services",
          "Other goods and services",
          "Other goods and services",
          "Other goods and services",
          "Other goods and services",
          "Other goods and services",
          "Other goods and services",
          "Other goods and services",
          "Other goods and services",
          "Other goods and services",
          "Other goods and services",
          "Other goods and services",
          "Other goods and services",
          "Personal products",
          "Personal products",
          "Personal products",
          "Personal products",
          "Personal products",
          "Personal products",
          "Personal products",
          "Personal products",
          "Personal products",
          "Personal products",
          "Personal products",
          "Personal products",
          "Personal products",
          "Personal products",
          "Personal products",
          "Personal products",
          "Personal products",
          "Personal products",
          "Personal products",
          "Personal products",
          "Personal products",
          "Personal products",
          "Personal products",
          "Personal products",
          "Personal products",
          "Personal products",
          "Personal products",
          "Personal products",
          "Personal products",
          "Personal products",
          "Personal products",
          "Personal products",
          "Personal products",
          "Personal products",
          "Sports & Games",
          "Sports & Games",
          "Sports & Games",
          "Sports & Games",
          "Sports & Games",
          "Sports & Games",
          "Sports & Games",
          "Sports & Games",
          "Sports & Games",
          "Sports & Games",
          "Sports & Games",
          "Sports & Games",
          "Sports & Games",
          "Sports & Games",
          "Sports & Games",
          "Sports & Games",
          "Sports & Games",
          "Sports & Games",
          "Sports & Games",
          "Sports & Games",
          "Sports & Games",
          "Sports & Games",
          "Sports & Games",
          "Sports & Games",
          "Sports & Games",
          "Sports & Games",
          "Sports & Games",
          "Sports & Games",
          "Sports & Games",
          "Sports & Games",
          "Sports & Games",
          "Sports & Games",
          "Sports & Games",
          "Transportation",
          "Transportation",
          "Transportation",
          "Transportation",
          "Transportation",
          "Transportation",
          "Transportation",
          "Transportation",
          "Transportation",
          "Transportation",
          "Transportation",
          "Transportation",
          "Transportation",
          "Transportation",
          "Transportation",
          "Transportation",
          "Transportation",
          "Transportation",
          "Transportation",
          "Transportation",
          "Transportation",
          "Transportation",
          "Transportation",
          "Transportation",
          "Transportation",
          "Transportation",
          "Transportation",
          "Transportation",
          "Transportation",
          "Transportation",
          "Transportation",
          "Transportation",
          "Transportation",
          "Transportation",
          "Transportation",
          "Transportation",
          "Transportation",
          "Transportation",
          "Transportation",
          "AD",
          "AE",
          "AM",
          "AN",
          "AO",
          "AR",
          "AT",
          "AU",
          "AZ",
          "BA",
          "BE",
          "BG",
          "BH",
          "BO",
          "BR",
          "BW",
          "BY",
          "BZ",
          "CA",
          "CH",
          "CI",
          "CL",
          "CN",
          "CO",
          "CR",
          "CY",
          "CZ",
          "DK",
          "DO",
          "DZ",
          "EC",
          "EE",
          "EG",
          "FI",
          "FR",
          "GB",
          "GE",
          "GR",
          "GT",
          "HK",
          "HN",
          "HR",
          "HU",
          "ID",
          "IE",
          "IL",
          "IN",
          "IQ",
          "IS",
          "IT",
          "JM",
          "JO",
          "JP",
          "KE",
          "KR",
          "KW",
          "KY",
          "KZ",
          "LB",
          "LK",
          "LT",
          "LU",
          "LV",
          "MA",
          "MD",
          "MK",
          "MN",
          "MT",
          "MW",
          "MX",
          "MY",
          "MZ",
          "NG",
          "NI",
          "NL",
          "NO",
          "NZ",
          "OM",
          "PA",
          "PE",
          "PH",
          "PK",
          "PL",
          "PR",
          "PT",
          "PY",
          "QA",
          "RO",
          "RU",
          "SA",
          "SE",
          "SG",
          "SI",
          "SK",
          "SN",
          "SV",
          "TH",
          "TR",
          "TT",
          "TW",
          "UA",
          "UG",
          "US",
          "UY",
          "UZ",
          "VE",
          "VN",
          "WS",
          "ZA",
          "ZW",
          "all"
         ],
         "name": "",
         "parents": [
          "all/AD",
          "all/AE",
          "all/AM",
          "all/AR",
          "all/AT",
          "all/AU",
          "all/BE",
          "all/BG",
          "all/BH",
          "all/BR",
          "all/BW",
          "all/CA",
          "all/CH",
          "all/CL",
          "all/CN",
          "all/CO",
          "all/CR",
          "all/CY",
          "all/DK",
          "all/EG",
          "all/FI",
          "all/FR",
          "all/GB",
          "all/GR",
          "all/GT",
          "all/HK",
          "all/HN",
          "all/ID",
          "all/IE",
          "all/IL",
          "all/IN",
          "all/IS",
          "all/IT",
          "all/JO",
          "all/JP",
          "all/KE",
          "all/KR",
          "all/KW",
          "all/KZ",
          "all/LB",
          "all/LK",
          "all/LT",
          "all/MT",
          "all/MX",
          "all/MY",
          "all/NG",
          "all/NL",
          "all/NO",
          "all/PA",
          "all/PH",
          "all/PK",
          "all/PL",
          "all/PT",
          "all/QA",
          "all/RO",
          "all/RU",
          "all/SA",
          "all/SE",
          "all/SG",
          "all/SI",
          "all/SN",
          "all/TR",
          "all/TT",
          "all/TW",
          "all/UA",
          "all/US",
          "all/VE",
          "all/WS",
          "all/ZA",
          "all/CA",
          "all/FR",
          "all/IT",
          "all/NO",
          "all/AD",
          "all/BE",
          "all/BH",
          "all/GB",
          "all/IN",
          "all/AD",
          "all/AE",
          "all/AN",
          "all/AO",
          "all/AR",
          "all/AT",
          "all/AU",
          "all/BE",
          "all/BO",
          "all/BR",
          "all/BY",
          "all/CA",
          "all/CH",
          "all/CI",
          "all/CL",
          "all/CN",
          "all/CO",
          "all/CR",
          "all/CY",
          "all/CZ",
          "all/DK",
          "all/DO",
          "all/EC",
          "all/EE",
          "all/EG",
          "all/FI",
          "all/FR",
          "all/GB",
          "all/GE",
          "all/GT",
          "all/HK",
          "all/HN",
          "all/HR",
          "all/HU",
          "all/ID",
          "all/IE",
          "all/IL",
          "all/IN",
          "all/IS",
          "all/IT",
          "all/JO",
          "all/JP",
          "all/KE",
          "all/KR",
          "all/KW",
          "all/KY",
          "all/KZ",
          "all/LB",
          "all/LT",
          "all/LU",
          "all/LV",
          "all/MA",
          "all/MD",
          "all/MK",
          "all/MT",
          "all/MX",
          "all/MY",
          "all/NG",
          "all/NL",
          "all/NO",
          "all/OM",
          "all/PA",
          "all/PE",
          "all/PH",
          "all/PL",
          "all/PR",
          "all/PT",
          "all/PY",
          "all/QA",
          "all/RO",
          "all/RU",
          "all/SA",
          "all/SE",
          "all/SG",
          "all/SK",
          "all/TH",
          "all/TR",
          "all/TW",
          "all/UA",
          "all/US",
          "all/UY",
          "all/UZ",
          "all/VE",
          "all/ZA",
          "all/AE",
          "all/AR",
          "all/BR",
          "all/CA",
          "all/CH",
          "all/CL",
          "all/CO",
          "all/CR",
          "all/DO",
          "all/EC",
          "all/FR",
          "all/GB",
          "all/GT",
          "all/IT",
          "all/KR",
          "all/MX",
          "all/PE",
          "all/PR",
          "all/PT",
          "all/US",
          "all/UY",
          "all/VE",
          "all/ZA",
          "all/AD",
          "all/AR",
          "all/AT",
          "all/BR",
          "all/CA",
          "all/CH",
          "all/CL",
          "all/CN",
          "all/EG",
          "all/FI",
          "all/FR",
          "all/GB",
          "all/IL",
          "all/IT",
          "all/JP",
          "all/KR",
          "all/KW",
          "all/KY",
          "all/KZ",
          "all/MA",
          "all/MK",
          "all/MY",
          "all/NO",
          "all/PT",
          "all/PY",
          "all/RO",
          "all/RU",
          "all/SA",
          "all/SE",
          "all/TW",
          "all/US",
          "all/VE",
          "all/AR",
          "all/AT",
          "all/AU",
          "all/BR",
          "all/CH",
          "all/CO",
          "all/DK",
          "all/DO",
          "all/FI",
          "all/FR",
          "all/GB",
          "all/HN",
          "all/IT",
          "all/LK",
          "all/MX",
          "all/NL",
          "all/PT",
          "all/RU",
          "all/SE",
          "all/TR",
          "all/US",
          "all/VE",
          "all/ZA",
          "all/AD",
          "all/AE",
          "all/AN",
          "all/AO",
          "all/AR",
          "all/AT",
          "all/AU",
          "all/AZ",
          "all/BA",
          "all/BE",
          "all/BG",
          "all/BH",
          "all/BR",
          "all/BW",
          "all/BY",
          "all/CA",
          "all/CH",
          "all/CI",
          "all/CL",
          "all/CN",
          "all/CO",
          "all/CR",
          "all/CY",
          "all/CZ",
          "all/DK",
          "all/DO",
          "all/DZ",
          "all/EC",
          "all/EE",
          "all/EG",
          "all/FI",
          "all/FR",
          "all/GB",
          "all/GE",
          "all/GR",
          "all/GT",
          "all/HK",
          "all/HN",
          "all/HR",
          "all/HU",
          "all/ID",
          "all/IE",
          "all/IL",
          "all/IN",
          "all/IQ",
          "all/IS",
          "all/IT",
          "all/JM",
          "all/JO",
          "all/JP",
          "all/KR",
          "all/KW",
          "all/KY",
          "all/KZ",
          "all/LB",
          "all/LK",
          "all/LT",
          "all/LU",
          "all/LV",
          "all/MA",
          "all/MD",
          "all/MK",
          "all/MN",
          "all/MW",
          "all/MX",
          "all/MY",
          "all/MZ",
          "all/NG",
          "all/NL",
          "all/NO",
          "all/NZ",
          "all/PA",
          "all/PE",
          "all/PH",
          "all/PK",
          "all/PL",
          "all/PR",
          "all/PT",
          "all/PY",
          "all/QA",
          "all/RO",
          "all/RU",
          "all/SA",
          "all/SE",
          "all/SG",
          "all/SI",
          "all/SK",
          "all/SN",
          "all/SV",
          "all/TH",
          "all/TR",
          "all/TT",
          "all/TW",
          "all/UA",
          "all/UG",
          "all/US",
          "all/UY",
          "all/UZ",
          "all/VE",
          "all/VN",
          "all/ZA",
          "all/ZW",
          "all/AD",
          "all/AR",
          "all/AT",
          "all/AU",
          "all/BE",
          "all/BO",
          "all/BR",
          "all/BY",
          "all/CA",
          "all/CN",
          "all/CO",
          "all/CZ",
          "all/DK",
          "all/EE",
          "all/FI",
          "all/FR",
          "all/GB",
          "all/GT",
          "all/HR",
          "all/IE",
          "all/IL",
          "all/IT",
          "all/JP",
          "all/MX",
          "all/NL",
          "all/NO",
          "all/PH",
          "all/PL",
          "all/RU",
          "all/SE",
          "all/SI",
          "all/SV",
          "all/UA",
          "all/US",
          "all/AD",
          "all/AR",
          "all/AT",
          "all/BA",
          "all/BE",
          "all/BR",
          "all/CA",
          "all/CH",
          "all/CL",
          "all/CN",
          "all/CO",
          "all/CR",
          "all/DK",
          "all/DO",
          "all/DZ",
          "all/EC",
          "all/EG",
          "all/FI",
          "all/FR",
          "all/GB",
          "all/GR",
          "all/GT",
          "all/IE",
          "all/IL",
          "all/IN",
          "all/IS",
          "all/IT",
          "all/JO",
          "all/JP",
          "all/KR",
          "all/KW",
          "all/KZ",
          "all/LB",
          "all/LT",
          "all/LU",
          "all/MX",
          "all/MZ",
          "all/NL",
          "all/NO",
          "all/PA",
          "all/PE",
          "all/PH",
          "all/PL",
          "all/PR",
          "all/PT",
          "all/QA",
          "all/RO",
          "all/RU",
          "all/SE",
          "all/SG",
          "all/SI",
          "all/SV",
          "all/TR",
          "all/TW",
          "all/UA",
          "all/US",
          "all/UY",
          "all/UZ",
          "all/VE",
          "all/VN",
          "all/ZA",
          "all/AD",
          "all/AR",
          "all/AT",
          "all/AU",
          "all/BE",
          "all/BR",
          "all/BZ",
          "all/CH",
          "all/CN",
          "all/CO",
          "all/CY",
          "all/DK",
          "all/DO",
          "all/FI",
          "all/FR",
          "all/GB",
          "all/IT",
          "all/JP",
          "all/LT",
          "all/MX",
          "all/NL",
          "all/NO",
          "all/PE",
          "all/PL",
          "all/PT",
          "all/RU",
          "all/SE",
          "all/SG",
          "all/TR",
          "all/US",
          "all/ZA",
          "all/AD",
          "all/AE",
          "all/AR",
          "all/AT",
          "all/AU",
          "all/BE",
          "all/BG",
          "all/BH",
          "all/BR",
          "all/BZ",
          "all/CA",
          "all/CH",
          "all/CL",
          "all/CN",
          "all/CO",
          "all/CZ",
          "all/DK",
          "all/DO",
          "all/FI",
          "all/FR",
          "all/GB",
          "all/IE",
          "all/IL",
          "all/IT",
          "all/JP",
          "all/KR",
          "all/MX",
          "all/MY",
          "all/NL",
          "all/NO",
          "all/PA",
          "all/PE",
          "all/PH",
          "all/PL",
          "all/PT",
          "all/RU",
          "all/SA",
          "all/SE",
          "all/SI",
          "all/TR",
          "all/US",
          "all/VE",
          "all/ZA",
          "all/AD",
          "all/AR",
          "all/AT",
          "all/AU",
          "all/BG",
          "all/BR",
          "all/CH",
          "all/CN",
          "all/CO",
          "all/CR",
          "all/EC",
          "all/EG",
          "all/FI",
          "all/FR",
          "all/GB",
          "all/GE",
          "all/GR",
          "all/GT",
          "all/IE",
          "all/IL",
          "all/IT",
          "all/JP",
          "all/MX",
          "all/NL",
          "all/NO",
          "all/PT",
          "all/RU",
          "all/SE",
          "all/SG",
          "all/TR",
          "all/TW",
          "all/US",
          "all/VE",
          "all/ZA",
          "all/AR",
          "all/AU",
          "all/BE",
          "all/BG",
          "all/BR",
          "all/CH",
          "all/CL",
          "all/CN",
          "all/CO",
          "all/CY",
          "all/FI",
          "all/FR",
          "all/GB",
          "all/ID",
          "all/IL",
          "all/IN",
          "all/IT",
          "all/KR",
          "all/MX",
          "all/MZ",
          "all/NG",
          "all/NL",
          "all/NO",
          "all/OM",
          "all/PT",
          "all/RU",
          "all/SA",
          "all/SE",
          "all/SK",
          "all/TR",
          "all/UA",
          "all/US",
          "all/VE",
          "all/AD",
          "all/AR",
          "all/AT",
          "all/AU",
          "all/BE",
          "all/BR",
          "all/CA",
          "all/CH",
          "all/CL",
          "all/CN",
          "all/CZ",
          "all/DK",
          "all/FI",
          "all/FR",
          "all/GB",
          "all/GT",
          "all/IE",
          "all/IL",
          "all/IN",
          "all/IT",
          "all/JO",
          "all/JP",
          "all/KR",
          "all/LB",
          "all/LU",
          "all/MX",
          "all/NI",
          "all/NL",
          "all/NO",
          "all/NZ",
          "all/PA",
          "all/PL",
          "all/RO",
          "all/RU",
          "all/SE",
          "all/TH",
          "all/TW",
          "all/UA",
          "all/US",
          "all",
          "all",
          "all",
          "all",
          "all",
          "all",
          "all",
          "all",
          "all",
          "all",
          "all",
          "all",
          "all",
          "all",
          "all",
          "all",
          "all",
          "all",
          "all",
          "all",
          "all",
          "all",
          "all",
          "all",
          "all",
          "all",
          "all",
          "all",
          "all",
          "all",
          "all",
          "all",
          "all",
          "all",
          "all",
          "all",
          "all",
          "all",
          "all",
          "all",
          "all",
          "all",
          "all",
          "all",
          "all",
          "all",
          "all",
          "all",
          "all",
          "all",
          "all",
          "all",
          "all",
          "all",
          "all",
          "all",
          "all",
          "all",
          "all",
          "all",
          "all",
          "all",
          "all",
          "all",
          "all",
          "all",
          "all",
          "all",
          "all",
          "all",
          "all",
          "all",
          "all",
          "all",
          "all",
          "all",
          "all",
          "all",
          "all",
          "all",
          "all",
          "all",
          "all",
          "all",
          "all",
          "all",
          "all",
          "all",
          "all",
          "all",
          "all",
          "all",
          "all",
          "all",
          "all",
          "all",
          "all",
          "all",
          "all",
          "all",
          "all",
          "all",
          "all",
          "all",
          "all",
          "all",
          "all",
          "all",
          "all",
          "all",
          ""
         ],
         "root": {
          "color": "lightgrey"
         },
         "type": "treemap",
         "values": [
          4,
          17,
          2,
          14,
          9,
          10,
          13,
          1,
          1,
          11,
          1,
          28,
          23,
          5,
          31,
          4,
          1,
          4,
          20,
          2,
          48,
          88,
          180,
          10,
          2,
          5,
          1,
          3,
          5,
          26,
          8,
          1,
          58,
          3,
          21,
          2,
          13,
          1,
          8,
          2,
          4,
          3,
          4,
          4,
          2,
          2,
          12,
          10,
          1,
          1,
          1,
          4,
          7,
          4,
          3,
          64,
          4,
          52,
          5,
          1,
          1,
          4,
          3,
          4,
          2,
          242,
          2,
          1,
          10,
          1,
          2,
          1,
          1,
          1,
          1,
          1,
          2,
          1,
          38,
          7,
          2,
          2,
          35,
          13,
          7,
          29,
          1,
          77,
          1,
          89,
          38,
          1,
          6,
          61,
          12,
          7,
          8,
          2,
          43,
          3,
          4,
          6,
          9,
          41,
          304,
          266,
          10,
          3,
          17,
          1,
          4,
          1,
          3,
          17,
          52,
          26,
          1,
          95,
          3,
          67,
          3,
          79,
          2,
          3,
          10,
          7,
          4,
          4,
          8,
          2,
          1,
          3,
          1,
          27,
          3,
          2,
          70,
          36,
          1,
          10,
          7,
          4,
          20,
          4,
          30,
          1,
          1,
          11,
          178,
          7,
          83,
          7,
          2,
          4,
          54,
          12,
          8,
          616,
          3,
          2,
          17,
          9,
          1,
          9,
          8,
          4,
          2,
          6,
          13,
          3,
          1,
          8,
          6,
          1,
          1,
          1,
          1,
          7,
          1,
          4,
          1,
          12,
          1,
          1,
          1,
          1,
          2,
          1,
          11,
          5,
          3,
          2,
          1,
          1,
          1,
          12,
          2,
          2,
          1,
          4,
          2,
          1,
          1,
          2,
          1,
          1,
          1,
          3,
          1,
          1,
          4,
          8,
          5,
          3,
          1,
          12,
          1,
          3,
          2,
          3,
          2,
          1,
          1,
          1,
          1,
          1,
          5,
          4,
          1,
          1,
          1,
          4,
          2,
          1,
          2,
          1,
          2,
          10,
          2,
          2,
          60,
          23,
          1,
          5,
          194,
          46,
          37,
          6,
          6,
          30,
          12,
          5,
          262,
          4,
          7,
          93,
          131,
          2,
          104,
          242,
          34,
          10,
          70,
          13,
          64,
          10,
          6,
          24,
          14,
          55,
          107,
          640,
          284,
          42,
          7,
          11,
          13,
          1,
          2,
          6,
          32,
          25,
          155,
          26,
          1,
          10,
          216,
          2,
          2,
          131,
          158,
          9,
          1,
          58,
          10,
          3,
          12,
          5,
          11,
          1,
          2,
          4,
          4,
          1,
          100,
          17,
          6,
          3,
          184,
          150,
          2,
          9,
          11,
          23,
          9,
          47,
          2,
          58,
          3,
          9,
          41,
          306,
          2,
          196,
          55,
          3,
          4,
          2,
          5,
          20,
          86,
          2,
          36,
          24,
          2,
          551,
          12,
          9,
          46,
          2,
          56,
          1,
          2,
          1,
          2,
          2,
          1,
          1,
          5,
          1,
          4,
          3,
          1,
          1,
          7,
          1,
          3,
          16,
          11,
          1,
          1,
          1,
          3,
          4,
          6,
          3,
          6,
          2,
          1,
          2,
          12,
          8,
          2,
          1,
          1,
          35,
          19,
          17,
          6,
          1,
          5,
          28,
          12,
          15,
          8,
          10,
          3,
          2,
          6,
          5,
          1,
          2,
          4,
          6,
          60,
          38,
          2,
          1,
          8,
          4,
          1,
          1,
          22,
          2,
          5,
          6,
          1,
          2,
          1,
          2,
          4,
          18,
          1,
          16,
          11,
          3,
          2,
          3,
          7,
          2,
          11,
          1,
          2,
          56,
          20,
          1,
          1,
          1,
          6,
          1,
          4,
          87,
          1,
          2,
          12,
          1,
          1,
          3,
          1,
          1,
          1,
          1,
          2,
          1,
          4,
          1,
          1,
          2,
          1,
          1,
          2,
          14,
          3,
          4,
          9,
          1,
          1,
          2,
          3,
          1,
          2,
          1,
          4,
          1,
          1,
          2,
          12,
          1,
          13,
          3,
          7,
          1,
          2,
          7,
          1,
          1,
          8,
          1,
          3,
          2,
          1,
          4,
          2,
          1,
          3,
          1,
          2,
          44,
          25,
          1,
          2,
          10,
          3,
          3,
          5,
          2,
          7,
          4,
          1,
          1,
          1,
          2,
          7,
          10,
          1,
          6,
          1,
          4,
          21,
          3,
          1,
          9,
          1,
          1,
          1,
          1,
          6,
          6,
          7,
          4,
          1,
          1,
          2,
          1,
          20,
          6,
          2,
          1,
          2,
          1,
          2,
          9,
          6,
          4,
          2,
          4,
          3,
          4,
          5,
          1,
          4,
          1,
          20,
          2,
          2,
          2,
          2,
          1,
          1,
          1,
          3,
          1,
          1,
          3,
          2,
          1,
          4,
          7,
          1,
          3,
          1,
          2,
          3,
          3,
          1,
          1,
          10,
          3,
          1,
          3,
          8,
          2,
          4,
          1,
          2,
          1,
          12,
          1,
          3,
          11,
          1,
          1,
          2,
          7,
          3,
          3,
          3,
          8,
          2,
          1,
          5,
          24,
          19,
          1,
          1,
          3,
          6,
          10,
          1,
          7,
          2,
          1,
          1,
          3,
          1,
          3,
          2,
          2,
          1,
          2,
          1,
          18,
          6,
          1,
          1,
          2,
          56,
          153,
          51,
          2,
          3,
          7,
          297,
          83,
          66,
          6,
          7,
          90,
          16,
          8,
          2,
          428,
          5,
          9,
          2,
          242,
          231,
          3,
          136,
          369,
          78,
          24,
          86,
          19,
          146,
          22,
          7,
          39,
          21,
          73,
          218,
          1239,
          848,
          54,
          20,
          22,
          35,
          4,
          7,
          7,
          39,
          59,
          252,
          69,
          1,
          13,
          434,
          2,
          11,
          259,
          5,
          267,
          14,
          5,
          80,
          21,
          8,
          22,
          14,
          19,
          4,
          3,
          8,
          4,
          5,
          1,
          179,
          25,
          8,
          8,
          1,
          314,
          229,
          4,
          2,
          25,
          23,
          33,
          10,
          86,
          12,
          123,
          5,
          15,
          62,
          670,
          21,
          385,
          70,
          8,
          7,
          3,
          7,
          25,
          164,
          5,
          56,
          42,
          2,
          1686,
          17,
          13,
          87,
          3,
          1,
          83,
          1,
          11324
         ]
        }
       ],
       "layout": {
        "legend": {
         "tracegroupgap": 0
        },
        "margin": {
         "b": 25,
         "l": 25,
         "r": 25,
         "t": 50
        },
        "template": {
         "data": {
          "bar": [
           {
            "error_x": {
             "color": "#2a3f5f"
            },
            "error_y": {
             "color": "#2a3f5f"
            },
            "marker": {
             "line": {
              "color": "#E5ECF6",
              "width": 0.5
             },
             "pattern": {
              "fillmode": "overlay",
              "size": 10,
              "solidity": 0.2
             }
            },
            "type": "bar"
           }
          ],
          "barpolar": [
           {
            "marker": {
             "line": {
              "color": "#E5ECF6",
              "width": 0.5
             },
             "pattern": {
              "fillmode": "overlay",
              "size": 10,
              "solidity": 0.2
             }
            },
            "type": "barpolar"
           }
          ],
          "carpet": [
           {
            "aaxis": {
             "endlinecolor": "#2a3f5f",
             "gridcolor": "white",
             "linecolor": "white",
             "minorgridcolor": "white",
             "startlinecolor": "#2a3f5f"
            },
            "baxis": {
             "endlinecolor": "#2a3f5f",
             "gridcolor": "white",
             "linecolor": "white",
             "minorgridcolor": "white",
             "startlinecolor": "#2a3f5f"
            },
            "type": "carpet"
           }
          ],
          "choropleth": [
           {
            "colorbar": {
             "outlinewidth": 0,
             "ticks": ""
            },
            "type": "choropleth"
           }
          ],
          "contour": [
           {
            "colorbar": {
             "outlinewidth": 0,
             "ticks": ""
            },
            "colorscale": [
             [
              0,
              "#0d0887"
             ],
             [
              0.1111111111111111,
              "#46039f"
             ],
             [
              0.2222222222222222,
              "#7201a8"
             ],
             [
              0.3333333333333333,
              "#9c179e"
             ],
             [
              0.4444444444444444,
              "#bd3786"
             ],
             [
              0.5555555555555556,
              "#d8576b"
             ],
             [
              0.6666666666666666,
              "#ed7953"
             ],
             [
              0.7777777777777778,
              "#fb9f3a"
             ],
             [
              0.8888888888888888,
              "#fdca26"
             ],
             [
              1,
              "#f0f921"
             ]
            ],
            "type": "contour"
           }
          ],
          "contourcarpet": [
           {
            "colorbar": {
             "outlinewidth": 0,
             "ticks": ""
            },
            "type": "contourcarpet"
           }
          ],
          "heatmap": [
           {
            "colorbar": {
             "outlinewidth": 0,
             "ticks": ""
            },
            "colorscale": [
             [
              0,
              "#0d0887"
             ],
             [
              0.1111111111111111,
              "#46039f"
             ],
             [
              0.2222222222222222,
              "#7201a8"
             ],
             [
              0.3333333333333333,
              "#9c179e"
             ],
             [
              0.4444444444444444,
              "#bd3786"
             ],
             [
              0.5555555555555556,
              "#d8576b"
             ],
             [
              0.6666666666666666,
              "#ed7953"
             ],
             [
              0.7777777777777778,
              "#fb9f3a"
             ],
             [
              0.8888888888888888,
              "#fdca26"
             ],
             [
              1,
              "#f0f921"
             ]
            ],
            "type": "heatmap"
           }
          ],
          "heatmapgl": [
           {
            "colorbar": {
             "outlinewidth": 0,
             "ticks": ""
            },
            "colorscale": [
             [
              0,
              "#0d0887"
             ],
             [
              0.1111111111111111,
              "#46039f"
             ],
             [
              0.2222222222222222,
              "#7201a8"
             ],
             [
              0.3333333333333333,
              "#9c179e"
             ],
             [
              0.4444444444444444,
              "#bd3786"
             ],
             [
              0.5555555555555556,
              "#d8576b"
             ],
             [
              0.6666666666666666,
              "#ed7953"
             ],
             [
              0.7777777777777778,
              "#fb9f3a"
             ],
             [
              0.8888888888888888,
              "#fdca26"
             ],
             [
              1,
              "#f0f921"
             ]
            ],
            "type": "heatmapgl"
           }
          ],
          "histogram": [
           {
            "marker": {
             "pattern": {
              "fillmode": "overlay",
              "size": 10,
              "solidity": 0.2
             }
            },
            "type": "histogram"
           }
          ],
          "histogram2d": [
           {
            "colorbar": {
             "outlinewidth": 0,
             "ticks": ""
            },
            "colorscale": [
             [
              0,
              "#0d0887"
             ],
             [
              0.1111111111111111,
              "#46039f"
             ],
             [
              0.2222222222222222,
              "#7201a8"
             ],
             [
              0.3333333333333333,
              "#9c179e"
             ],
             [
              0.4444444444444444,
              "#bd3786"
             ],
             [
              0.5555555555555556,
              "#d8576b"
             ],
             [
              0.6666666666666666,
              "#ed7953"
             ],
             [
              0.7777777777777778,
              "#fb9f3a"
             ],
             [
              0.8888888888888888,
              "#fdca26"
             ],
             [
              1,
              "#f0f921"
             ]
            ],
            "type": "histogram2d"
           }
          ],
          "histogram2dcontour": [
           {
            "colorbar": {
             "outlinewidth": 0,
             "ticks": ""
            },
            "colorscale": [
             [
              0,
              "#0d0887"
             ],
             [
              0.1111111111111111,
              "#46039f"
             ],
             [
              0.2222222222222222,
              "#7201a8"
             ],
             [
              0.3333333333333333,
              "#9c179e"
             ],
             [
              0.4444444444444444,
              "#bd3786"
             ],
             [
              0.5555555555555556,
              "#d8576b"
             ],
             [
              0.6666666666666666,
              "#ed7953"
             ],
             [
              0.7777777777777778,
              "#fb9f3a"
             ],
             [
              0.8888888888888888,
              "#fdca26"
             ],
             [
              1,
              "#f0f921"
             ]
            ],
            "type": "histogram2dcontour"
           }
          ],
          "mesh3d": [
           {
            "colorbar": {
             "outlinewidth": 0,
             "ticks": ""
            },
            "type": "mesh3d"
           }
          ],
          "parcoords": [
           {
            "line": {
             "colorbar": {
              "outlinewidth": 0,
              "ticks": ""
             }
            },
            "type": "parcoords"
           }
          ],
          "pie": [
           {
            "automargin": true,
            "type": "pie"
           }
          ],
          "scatter": [
           {
            "fillpattern": {
             "fillmode": "overlay",
             "size": 10,
             "solidity": 0.2
            },
            "type": "scatter"
           }
          ],
          "scatter3d": [
           {
            "line": {
             "colorbar": {
              "outlinewidth": 0,
              "ticks": ""
             }
            },
            "marker": {
             "colorbar": {
              "outlinewidth": 0,
              "ticks": ""
             }
            },
            "type": "scatter3d"
           }
          ],
          "scattercarpet": [
           {
            "marker": {
             "colorbar": {
              "outlinewidth": 0,
              "ticks": ""
             }
            },
            "type": "scattercarpet"
           }
          ],
          "scattergeo": [
           {
            "marker": {
             "colorbar": {
              "outlinewidth": 0,
              "ticks": ""
             }
            },
            "type": "scattergeo"
           }
          ],
          "scattergl": [
           {
            "marker": {
             "colorbar": {
              "outlinewidth": 0,
              "ticks": ""
             }
            },
            "type": "scattergl"
           }
          ],
          "scattermapbox": [
           {
            "marker": {
             "colorbar": {
              "outlinewidth": 0,
              "ticks": ""
             }
            },
            "type": "scattermapbox"
           }
          ],
          "scatterpolar": [
           {
            "marker": {
             "colorbar": {
              "outlinewidth": 0,
              "ticks": ""
             }
            },
            "type": "scatterpolar"
           }
          ],
          "scatterpolargl": [
           {
            "marker": {
             "colorbar": {
              "outlinewidth": 0,
              "ticks": ""
             }
            },
            "type": "scatterpolargl"
           }
          ],
          "scatterternary": [
           {
            "marker": {
             "colorbar": {
              "outlinewidth": 0,
              "ticks": ""
             }
            },
            "type": "scatterternary"
           }
          ],
          "surface": [
           {
            "colorbar": {
             "outlinewidth": 0,
             "ticks": ""
            },
            "colorscale": [
             [
              0,
              "#0d0887"
             ],
             [
              0.1111111111111111,
              "#46039f"
             ],
             [
              0.2222222222222222,
              "#7201a8"
             ],
             [
              0.3333333333333333,
              "#9c179e"
             ],
             [
              0.4444444444444444,
              "#bd3786"
             ],
             [
              0.5555555555555556,
              "#d8576b"
             ],
             [
              0.6666666666666666,
              "#ed7953"
             ],
             [
              0.7777777777777778,
              "#fb9f3a"
             ],
             [
              0.8888888888888888,
              "#fdca26"
             ],
             [
              1,
              "#f0f921"
             ]
            ],
            "type": "surface"
           }
          ],
          "table": [
           {
            "cells": {
             "fill": {
              "color": "#EBF0F8"
             },
             "line": {
              "color": "white"
             }
            },
            "header": {
             "fill": {
              "color": "#C8D4E3"
             },
             "line": {
              "color": "white"
             }
            },
            "type": "table"
           }
          ]
         },
         "layout": {
          "annotationdefaults": {
           "arrowcolor": "#2a3f5f",
           "arrowhead": 0,
           "arrowwidth": 1
          },
          "autotypenumbers": "strict",
          "coloraxis": {
           "colorbar": {
            "outlinewidth": 0,
            "ticks": ""
           }
          },
          "colorscale": {
           "diverging": [
            [
             0,
             "#8e0152"
            ],
            [
             0.1,
             "#c51b7d"
            ],
            [
             0.2,
             "#de77ae"
            ],
            [
             0.3,
             "#f1b6da"
            ],
            [
             0.4,
             "#fde0ef"
            ],
            [
             0.5,
             "#f7f7f7"
            ],
            [
             0.6,
             "#e6f5d0"
            ],
            [
             0.7,
             "#b8e186"
            ],
            [
             0.8,
             "#7fbc41"
            ],
            [
             0.9,
             "#4d9221"
            ],
            [
             1,
             "#276419"
            ]
           ],
           "sequential": [
            [
             0,
             "#0d0887"
            ],
            [
             0.1111111111111111,
             "#46039f"
            ],
            [
             0.2222222222222222,
             "#7201a8"
            ],
            [
             0.3333333333333333,
             "#9c179e"
            ],
            [
             0.4444444444444444,
             "#bd3786"
            ],
            [
             0.5555555555555556,
             "#d8576b"
            ],
            [
             0.6666666666666666,
             "#ed7953"
            ],
            [
             0.7777777777777778,
             "#fb9f3a"
            ],
            [
             0.8888888888888888,
             "#fdca26"
            ],
            [
             1,
             "#f0f921"
            ]
           ],
           "sequentialminus": [
            [
             0,
             "#0d0887"
            ],
            [
             0.1111111111111111,
             "#46039f"
            ],
            [
             0.2222222222222222,
             "#7201a8"
            ],
            [
             0.3333333333333333,
             "#9c179e"
            ],
            [
             0.4444444444444444,
             "#bd3786"
            ],
            [
             0.5555555555555556,
             "#d8576b"
            ],
            [
             0.6666666666666666,
             "#ed7953"
            ],
            [
             0.7777777777777778,
             "#fb9f3a"
            ],
            [
             0.8888888888888888,
             "#fdca26"
            ],
            [
             1,
             "#f0f921"
            ]
           ]
          },
          "colorway": [
           "#636efa",
           "#EF553B",
           "#00cc96",
           "#ab63fa",
           "#FFA15A",
           "#19d3f3",
           "#FF6692",
           "#B6E880",
           "#FF97FF",
           "#FECB52"
          ],
          "font": {
           "color": "#2a3f5f"
          },
          "geo": {
           "bgcolor": "white",
           "lakecolor": "white",
           "landcolor": "#E5ECF6",
           "showlakes": true,
           "showland": true,
           "subunitcolor": "white"
          },
          "hoverlabel": {
           "align": "left"
          },
          "hovermode": "closest",
          "mapbox": {
           "style": "light"
          },
          "paper_bgcolor": "white",
          "plot_bgcolor": "#E5ECF6",
          "polar": {
           "angularaxis": {
            "gridcolor": "white",
            "linecolor": "white",
            "ticks": ""
           },
           "bgcolor": "#E5ECF6",
           "radialaxis": {
            "gridcolor": "white",
            "linecolor": "white",
            "ticks": ""
           }
          },
          "scene": {
           "xaxis": {
            "backgroundcolor": "#E5ECF6",
            "gridcolor": "white",
            "gridwidth": 2,
            "linecolor": "white",
            "showbackground": true,
            "ticks": "",
            "zerolinecolor": "white"
           },
           "yaxis": {
            "backgroundcolor": "#E5ECF6",
            "gridcolor": "white",
            "gridwidth": 2,
            "linecolor": "white",
            "showbackground": true,
            "ticks": "",
            "zerolinecolor": "white"
           },
           "zaxis": {
            "backgroundcolor": "#E5ECF6",
            "gridcolor": "white",
            "gridwidth": 2,
            "linecolor": "white",
            "showbackground": true,
            "ticks": "",
            "zerolinecolor": "white"
           }
          },
          "shapedefaults": {
           "line": {
            "color": "#2a3f5f"
           }
          },
          "ternary": {
           "aaxis": {
            "gridcolor": "white",
            "linecolor": "white",
            "ticks": ""
           },
           "baxis": {
            "gridcolor": "white",
            "linecolor": "white",
            "ticks": ""
           },
           "bgcolor": "#E5ECF6",
           "caxis": {
            "gridcolor": "white",
            "linecolor": "white",
            "ticks": ""
           }
          },
          "title": {
           "x": 0.05
          },
          "xaxis": {
           "automargin": true,
           "gridcolor": "white",
           "linecolor": "white",
           "ticks": "",
           "title": {
            "standoff": 15
           },
           "zerolinecolor": "white",
           "zerolinewidth": 2
          },
          "yaxis": {
           "automargin": true,
           "gridcolor": "white",
           "linecolor": "white",
           "ticks": "",
           "title": {
            "standoff": 15
           },
           "zerolinecolor": "white",
           "zerolinewidth": 2
          }
         }
        }
       }
      }
     },
     "metadata": {},
     "output_type": "display_data"
    }
   ],
   "source": [
    "fig = px.treemap(df, path=[px.Constant(\"all\"),'customer_country', 'category'])\n",
    "fig.update_traces(root_color=\"lightgrey\")\n",
    "fig.update_layout(margin = dict(t=50, l=25, r=25, b=25))\n",
    "fig.show()"
   ]
  },
  {
   "cell_type": "markdown",
   "id": "701a5c81",
   "metadata": {},
   "source": [
    "### And viceversa by continent"
   ]
  },
  {
   "cell_type": "code",
   "execution_count": 26,
   "id": "6d2d5120",
   "metadata": {},
   "outputs": [
    {
     "data": {
      "application/vnd.plotly.v1+json": {
       "config": {
        "plotlyServerURL": "https://plot.ly"
       },
       "data": [
        {
         "branchvalues": "total",
         "domain": {
          "x": [
           0,
           1
          ],
          "y": [
           0,
           1
          ]
         },
         "hovertemplate": "labels=%{label}<br>count=%{value}<br>parent=%{parent}<br>id=%{id}<extra></extra>",
         "ids": [
          "all/Africa/Accommodation",
          "all/Asia/Accommodation",
          "all/Europe/Accommodation",
          "all/North America/Accommodation",
          "all/Oceania/Accommodation",
          "all/South America/Accommodation",
          "all/Europe/Agencias de viajes",
          "all/North America/Agencias de viajes",
          "all/Asia/Automoción",
          "all/Europe/Automoción",
          "all/Africa/Bars & restaurants",
          "all/Asia/Bars & restaurants",
          "all/Europe/Bars & restaurants",
          "all/North America/Bars & restaurants",
          "all/Oceania/Bars & restaurants",
          "all/South America/Bars & restaurants",
          "all/Africa/Books & Music",
          "all/Asia/Books & Music",
          "all/Europe/Books & Music",
          "all/North America/Books & Music",
          "all/South America/Books & Music",
          "all/Africa/Culture & Leisure",
          "all/Asia/Culture & Leisure",
          "all/Europe/Culture & Leisure",
          "all/North America/Culture & Leisure",
          "all/South America/Culture & Leisure",
          "all/Africa/Electronics & computing",
          "all/Asia/Electronics & computing",
          "all/Europe/Electronics & computing",
          "all/North America/Electronics & computing",
          "all/Oceania/Electronics & computing",
          "all/South America/Electronics & computing",
          "all/Africa/Fashion & Shoes",
          "all/Asia/Fashion & Shoes",
          "all/Europe/Fashion & Shoes",
          "all/North America/Fashion & Shoes",
          "all/Oceania/Fashion & Shoes",
          "all/South America/Fashion & Shoes",
          "all/Asia/Food",
          "all/Europe/Food",
          "all/North America/Food",
          "all/Oceania/Food",
          "all/South America/Food",
          "all/Africa/Health",
          "all/Asia/Health",
          "all/Europe/Health",
          "all/North America/Health",
          "all/South America/Health",
          "all/Africa/Hogar y reformas",
          "all/Asia/Hogar y reformas",
          "all/Europe/Hogar y reformas",
          "all/North America/Hogar y reformas",
          "all/Oceania/Hogar y reformas",
          "all/South America/Hogar y reformas",
          "all/Africa/Other goods and services",
          "all/Asia/Other goods and services",
          "all/Europe/Other goods and services",
          "all/North America/Other goods and services",
          "all/Oceania/Other goods and services",
          "all/South America/Other goods and services",
          "all/Africa/Personal products",
          "all/Asia/Personal products",
          "all/Europe/Personal products",
          "all/North America/Personal products",
          "all/Oceania/Personal products",
          "all/South America/Personal products",
          "all/Africa/Sports & Games",
          "all/Asia/Sports & Games",
          "all/Europe/Sports & Games",
          "all/North America/Sports & Games",
          "all/Oceania/Sports & Games",
          "all/South America/Sports & Games",
          "all/Asia/Transportation",
          "all/Europe/Transportation",
          "all/North America/Transportation",
          "all/Oceania/Transportation",
          "all/South America/Transportation",
          "all/Africa",
          "all/Asia",
          "all/Europe",
          "all/North America",
          "all/Oceania",
          "all/South America",
          "all"
         ],
         "labels": [
          "Accommodation",
          "Accommodation",
          "Accommodation",
          "Accommodation",
          "Accommodation",
          "Accommodation",
          "Agencias de viajes",
          "Agencias de viajes",
          "Automoción",
          "Automoción",
          "Bars & restaurants",
          "Bars & restaurants",
          "Bars & restaurants",
          "Bars & restaurants",
          "Bars & restaurants",
          "Bars & restaurants",
          "Books & Music",
          "Books & Music",
          "Books & Music",
          "Books & Music",
          "Books & Music",
          "Culture & Leisure",
          "Culture & Leisure",
          "Culture & Leisure",
          "Culture & Leisure",
          "Culture & Leisure",
          "Electronics & computing",
          "Electronics & computing",
          "Electronics & computing",
          "Electronics & computing",
          "Electronics & computing",
          "Electronics & computing",
          "Fashion & Shoes",
          "Fashion & Shoes",
          "Fashion & Shoes",
          "Fashion & Shoes",
          "Fashion & Shoes",
          "Fashion & Shoes",
          "Food",
          "Food",
          "Food",
          "Food",
          "Food",
          "Health",
          "Health",
          "Health",
          "Health",
          "Health",
          "Hogar y reformas",
          "Hogar y reformas",
          "Hogar y reformas",
          "Hogar y reformas",
          "Hogar y reformas",
          "Hogar y reformas",
          "Other goods and services",
          "Other goods and services",
          "Other goods and services",
          "Other goods and services",
          "Other goods and services",
          "Other goods and services",
          "Personal products",
          "Personal products",
          "Personal products",
          "Personal products",
          "Personal products",
          "Personal products",
          "Sports & Games",
          "Sports & Games",
          "Sports & Games",
          "Sports & Games",
          "Sports & Games",
          "Sports & Games",
          "Transportation",
          "Transportation",
          "Transportation",
          "Transportation",
          "Transportation",
          "Africa",
          "Asia",
          "Europe",
          "North America",
          "Oceania",
          "South America",
          "all"
         ],
         "name": "",
         "parents": [
          "all/Africa",
          "all/Asia",
          "all/Europe",
          "all/North America",
          "all/Oceania",
          "all/South America",
          "all/Europe",
          "all/North America",
          "all/Asia",
          "all/Europe",
          "all/Africa",
          "all/Asia",
          "all/Europe",
          "all/North America",
          "all/Oceania",
          "all/South America",
          "all/Africa",
          "all/Asia",
          "all/Europe",
          "all/North America",
          "all/South America",
          "all/Africa",
          "all/Asia",
          "all/Europe",
          "all/North America",
          "all/South America",
          "all/Africa",
          "all/Asia",
          "all/Europe",
          "all/North America",
          "all/Oceania",
          "all/South America",
          "all/Africa",
          "all/Asia",
          "all/Europe",
          "all/North America",
          "all/Oceania",
          "all/South America",
          "all/Asia",
          "all/Europe",
          "all/North America",
          "all/Oceania",
          "all/South America",
          "all/Africa",
          "all/Asia",
          "all/Europe",
          "all/North America",
          "all/South America",
          "all/Africa",
          "all/Asia",
          "all/Europe",
          "all/North America",
          "all/Oceania",
          "all/South America",
          "all/Africa",
          "all/Asia",
          "all/Europe",
          "all/North America",
          "all/Oceania",
          "all/South America",
          "all/Africa",
          "all/Asia",
          "all/Europe",
          "all/North America",
          "all/Oceania",
          "all/South America",
          "all/Africa",
          "all/Asia",
          "all/Europe",
          "all/North America",
          "all/Oceania",
          "all/South America",
          "all/Asia",
          "all/Europe",
          "all/North America",
          "all/Oceania",
          "all/South America",
          "all",
          "all",
          "all",
          "all",
          "all",
          "all",
          ""
         ],
         "root": {
          "color": "lightgrey"
         },
         "type": "treemap",
         "values": [
          18,
          197,
          599,
          282,
          11,
          36,
          4,
          1,
          2,
          4,
          28,
          495,
          1310,
          765,
          7,
          163,
          1,
          2,
          11,
          32,
          47,
          2,
          22,
          38,
          18,
          17,
          2,
          3,
          21,
          16,
          3,
          8,
          144,
          1280,
          2705,
          798,
          39,
          690,
          19,
          78,
          44,
          2,
          8,
          7,
          71,
          299,
          131,
          73,
          1,
          15,
          47,
          15,
          1,
          5,
          1,
          27,
          144,
          32,
          2,
          22,
          4,
          22,
          74,
          27,
          1,
          14,
          2,
          18,
          47,
          15,
          2,
          8,
          39,
          97,
          65,
          3,
          21,
          210,
          2212,
          5478,
          2241,
          71,
          1112,
          11324
         ]
        }
       ],
       "layout": {
        "legend": {
         "tracegroupgap": 0
        },
        "margin": {
         "b": 25,
         "l": 25,
         "r": 25,
         "t": 50
        },
        "template": {
         "data": {
          "bar": [
           {
            "error_x": {
             "color": "#2a3f5f"
            },
            "error_y": {
             "color": "#2a3f5f"
            },
            "marker": {
             "line": {
              "color": "#E5ECF6",
              "width": 0.5
             },
             "pattern": {
              "fillmode": "overlay",
              "size": 10,
              "solidity": 0.2
             }
            },
            "type": "bar"
           }
          ],
          "barpolar": [
           {
            "marker": {
             "line": {
              "color": "#E5ECF6",
              "width": 0.5
             },
             "pattern": {
              "fillmode": "overlay",
              "size": 10,
              "solidity": 0.2
             }
            },
            "type": "barpolar"
           }
          ],
          "carpet": [
           {
            "aaxis": {
             "endlinecolor": "#2a3f5f",
             "gridcolor": "white",
             "linecolor": "white",
             "minorgridcolor": "white",
             "startlinecolor": "#2a3f5f"
            },
            "baxis": {
             "endlinecolor": "#2a3f5f",
             "gridcolor": "white",
             "linecolor": "white",
             "minorgridcolor": "white",
             "startlinecolor": "#2a3f5f"
            },
            "type": "carpet"
           }
          ],
          "choropleth": [
           {
            "colorbar": {
             "outlinewidth": 0,
             "ticks": ""
            },
            "type": "choropleth"
           }
          ],
          "contour": [
           {
            "colorbar": {
             "outlinewidth": 0,
             "ticks": ""
            },
            "colorscale": [
             [
              0,
              "#0d0887"
             ],
             [
              0.1111111111111111,
              "#46039f"
             ],
             [
              0.2222222222222222,
              "#7201a8"
             ],
             [
              0.3333333333333333,
              "#9c179e"
             ],
             [
              0.4444444444444444,
              "#bd3786"
             ],
             [
              0.5555555555555556,
              "#d8576b"
             ],
             [
              0.6666666666666666,
              "#ed7953"
             ],
             [
              0.7777777777777778,
              "#fb9f3a"
             ],
             [
              0.8888888888888888,
              "#fdca26"
             ],
             [
              1,
              "#f0f921"
             ]
            ],
            "type": "contour"
           }
          ],
          "contourcarpet": [
           {
            "colorbar": {
             "outlinewidth": 0,
             "ticks": ""
            },
            "type": "contourcarpet"
           }
          ],
          "heatmap": [
           {
            "colorbar": {
             "outlinewidth": 0,
             "ticks": ""
            },
            "colorscale": [
             [
              0,
              "#0d0887"
             ],
             [
              0.1111111111111111,
              "#46039f"
             ],
             [
              0.2222222222222222,
              "#7201a8"
             ],
             [
              0.3333333333333333,
              "#9c179e"
             ],
             [
              0.4444444444444444,
              "#bd3786"
             ],
             [
              0.5555555555555556,
              "#d8576b"
             ],
             [
              0.6666666666666666,
              "#ed7953"
             ],
             [
              0.7777777777777778,
              "#fb9f3a"
             ],
             [
              0.8888888888888888,
              "#fdca26"
             ],
             [
              1,
              "#f0f921"
             ]
            ],
            "type": "heatmap"
           }
          ],
          "heatmapgl": [
           {
            "colorbar": {
             "outlinewidth": 0,
             "ticks": ""
            },
            "colorscale": [
             [
              0,
              "#0d0887"
             ],
             [
              0.1111111111111111,
              "#46039f"
             ],
             [
              0.2222222222222222,
              "#7201a8"
             ],
             [
              0.3333333333333333,
              "#9c179e"
             ],
             [
              0.4444444444444444,
              "#bd3786"
             ],
             [
              0.5555555555555556,
              "#d8576b"
             ],
             [
              0.6666666666666666,
              "#ed7953"
             ],
             [
              0.7777777777777778,
              "#fb9f3a"
             ],
             [
              0.8888888888888888,
              "#fdca26"
             ],
             [
              1,
              "#f0f921"
             ]
            ],
            "type": "heatmapgl"
           }
          ],
          "histogram": [
           {
            "marker": {
             "pattern": {
              "fillmode": "overlay",
              "size": 10,
              "solidity": 0.2
             }
            },
            "type": "histogram"
           }
          ],
          "histogram2d": [
           {
            "colorbar": {
             "outlinewidth": 0,
             "ticks": ""
            },
            "colorscale": [
             [
              0,
              "#0d0887"
             ],
             [
              0.1111111111111111,
              "#46039f"
             ],
             [
              0.2222222222222222,
              "#7201a8"
             ],
             [
              0.3333333333333333,
              "#9c179e"
             ],
             [
              0.4444444444444444,
              "#bd3786"
             ],
             [
              0.5555555555555556,
              "#d8576b"
             ],
             [
              0.6666666666666666,
              "#ed7953"
             ],
             [
              0.7777777777777778,
              "#fb9f3a"
             ],
             [
              0.8888888888888888,
              "#fdca26"
             ],
             [
              1,
              "#f0f921"
             ]
            ],
            "type": "histogram2d"
           }
          ],
          "histogram2dcontour": [
           {
            "colorbar": {
             "outlinewidth": 0,
             "ticks": ""
            },
            "colorscale": [
             [
              0,
              "#0d0887"
             ],
             [
              0.1111111111111111,
              "#46039f"
             ],
             [
              0.2222222222222222,
              "#7201a8"
             ],
             [
              0.3333333333333333,
              "#9c179e"
             ],
             [
              0.4444444444444444,
              "#bd3786"
             ],
             [
              0.5555555555555556,
              "#d8576b"
             ],
             [
              0.6666666666666666,
              "#ed7953"
             ],
             [
              0.7777777777777778,
              "#fb9f3a"
             ],
             [
              0.8888888888888888,
              "#fdca26"
             ],
             [
              1,
              "#f0f921"
             ]
            ],
            "type": "histogram2dcontour"
           }
          ],
          "mesh3d": [
           {
            "colorbar": {
             "outlinewidth": 0,
             "ticks": ""
            },
            "type": "mesh3d"
           }
          ],
          "parcoords": [
           {
            "line": {
             "colorbar": {
              "outlinewidth": 0,
              "ticks": ""
             }
            },
            "type": "parcoords"
           }
          ],
          "pie": [
           {
            "automargin": true,
            "type": "pie"
           }
          ],
          "scatter": [
           {
            "fillpattern": {
             "fillmode": "overlay",
             "size": 10,
             "solidity": 0.2
            },
            "type": "scatter"
           }
          ],
          "scatter3d": [
           {
            "line": {
             "colorbar": {
              "outlinewidth": 0,
              "ticks": ""
             }
            },
            "marker": {
             "colorbar": {
              "outlinewidth": 0,
              "ticks": ""
             }
            },
            "type": "scatter3d"
           }
          ],
          "scattercarpet": [
           {
            "marker": {
             "colorbar": {
              "outlinewidth": 0,
              "ticks": ""
             }
            },
            "type": "scattercarpet"
           }
          ],
          "scattergeo": [
           {
            "marker": {
             "colorbar": {
              "outlinewidth": 0,
              "ticks": ""
             }
            },
            "type": "scattergeo"
           }
          ],
          "scattergl": [
           {
            "marker": {
             "colorbar": {
              "outlinewidth": 0,
              "ticks": ""
             }
            },
            "type": "scattergl"
           }
          ],
          "scattermapbox": [
           {
            "marker": {
             "colorbar": {
              "outlinewidth": 0,
              "ticks": ""
             }
            },
            "type": "scattermapbox"
           }
          ],
          "scatterpolar": [
           {
            "marker": {
             "colorbar": {
              "outlinewidth": 0,
              "ticks": ""
             }
            },
            "type": "scatterpolar"
           }
          ],
          "scatterpolargl": [
           {
            "marker": {
             "colorbar": {
              "outlinewidth": 0,
              "ticks": ""
             }
            },
            "type": "scatterpolargl"
           }
          ],
          "scatterternary": [
           {
            "marker": {
             "colorbar": {
              "outlinewidth": 0,
              "ticks": ""
             }
            },
            "type": "scatterternary"
           }
          ],
          "surface": [
           {
            "colorbar": {
             "outlinewidth": 0,
             "ticks": ""
            },
            "colorscale": [
             [
              0,
              "#0d0887"
             ],
             [
              0.1111111111111111,
              "#46039f"
             ],
             [
              0.2222222222222222,
              "#7201a8"
             ],
             [
              0.3333333333333333,
              "#9c179e"
             ],
             [
              0.4444444444444444,
              "#bd3786"
             ],
             [
              0.5555555555555556,
              "#d8576b"
             ],
             [
              0.6666666666666666,
              "#ed7953"
             ],
             [
              0.7777777777777778,
              "#fb9f3a"
             ],
             [
              0.8888888888888888,
              "#fdca26"
             ],
             [
              1,
              "#f0f921"
             ]
            ],
            "type": "surface"
           }
          ],
          "table": [
           {
            "cells": {
             "fill": {
              "color": "#EBF0F8"
             },
             "line": {
              "color": "white"
             }
            },
            "header": {
             "fill": {
              "color": "#C8D4E3"
             },
             "line": {
              "color": "white"
             }
            },
            "type": "table"
           }
          ]
         },
         "layout": {
          "annotationdefaults": {
           "arrowcolor": "#2a3f5f",
           "arrowhead": 0,
           "arrowwidth": 1
          },
          "autotypenumbers": "strict",
          "coloraxis": {
           "colorbar": {
            "outlinewidth": 0,
            "ticks": ""
           }
          },
          "colorscale": {
           "diverging": [
            [
             0,
             "#8e0152"
            ],
            [
             0.1,
             "#c51b7d"
            ],
            [
             0.2,
             "#de77ae"
            ],
            [
             0.3,
             "#f1b6da"
            ],
            [
             0.4,
             "#fde0ef"
            ],
            [
             0.5,
             "#f7f7f7"
            ],
            [
             0.6,
             "#e6f5d0"
            ],
            [
             0.7,
             "#b8e186"
            ],
            [
             0.8,
             "#7fbc41"
            ],
            [
             0.9,
             "#4d9221"
            ],
            [
             1,
             "#276419"
            ]
           ],
           "sequential": [
            [
             0,
             "#0d0887"
            ],
            [
             0.1111111111111111,
             "#46039f"
            ],
            [
             0.2222222222222222,
             "#7201a8"
            ],
            [
             0.3333333333333333,
             "#9c179e"
            ],
            [
             0.4444444444444444,
             "#bd3786"
            ],
            [
             0.5555555555555556,
             "#d8576b"
            ],
            [
             0.6666666666666666,
             "#ed7953"
            ],
            [
             0.7777777777777778,
             "#fb9f3a"
            ],
            [
             0.8888888888888888,
             "#fdca26"
            ],
            [
             1,
             "#f0f921"
            ]
           ],
           "sequentialminus": [
            [
             0,
             "#0d0887"
            ],
            [
             0.1111111111111111,
             "#46039f"
            ],
            [
             0.2222222222222222,
             "#7201a8"
            ],
            [
             0.3333333333333333,
             "#9c179e"
            ],
            [
             0.4444444444444444,
             "#bd3786"
            ],
            [
             0.5555555555555556,
             "#d8576b"
            ],
            [
             0.6666666666666666,
             "#ed7953"
            ],
            [
             0.7777777777777778,
             "#fb9f3a"
            ],
            [
             0.8888888888888888,
             "#fdca26"
            ],
            [
             1,
             "#f0f921"
            ]
           ]
          },
          "colorway": [
           "#636efa",
           "#EF553B",
           "#00cc96",
           "#ab63fa",
           "#FFA15A",
           "#19d3f3",
           "#FF6692",
           "#B6E880",
           "#FF97FF",
           "#FECB52"
          ],
          "font": {
           "color": "#2a3f5f"
          },
          "geo": {
           "bgcolor": "white",
           "lakecolor": "white",
           "landcolor": "#E5ECF6",
           "showlakes": true,
           "showland": true,
           "subunitcolor": "white"
          },
          "hoverlabel": {
           "align": "left"
          },
          "hovermode": "closest",
          "mapbox": {
           "style": "light"
          },
          "paper_bgcolor": "white",
          "plot_bgcolor": "#E5ECF6",
          "polar": {
           "angularaxis": {
            "gridcolor": "white",
            "linecolor": "white",
            "ticks": ""
           },
           "bgcolor": "#E5ECF6",
           "radialaxis": {
            "gridcolor": "white",
            "linecolor": "white",
            "ticks": ""
           }
          },
          "scene": {
           "xaxis": {
            "backgroundcolor": "#E5ECF6",
            "gridcolor": "white",
            "gridwidth": 2,
            "linecolor": "white",
            "showbackground": true,
            "ticks": "",
            "zerolinecolor": "white"
           },
           "yaxis": {
            "backgroundcolor": "#E5ECF6",
            "gridcolor": "white",
            "gridwidth": 2,
            "linecolor": "white",
            "showbackground": true,
            "ticks": "",
            "zerolinecolor": "white"
           },
           "zaxis": {
            "backgroundcolor": "#E5ECF6",
            "gridcolor": "white",
            "gridwidth": 2,
            "linecolor": "white",
            "showbackground": true,
            "ticks": "",
            "zerolinecolor": "white"
           }
          },
          "shapedefaults": {
           "line": {
            "color": "#2a3f5f"
           }
          },
          "ternary": {
           "aaxis": {
            "gridcolor": "white",
            "linecolor": "white",
            "ticks": ""
           },
           "baxis": {
            "gridcolor": "white",
            "linecolor": "white",
            "ticks": ""
           },
           "bgcolor": "#E5ECF6",
           "caxis": {
            "gridcolor": "white",
            "linecolor": "white",
            "ticks": ""
           }
          },
          "title": {
           "x": 0.05
          },
          "xaxis": {
           "automargin": true,
           "gridcolor": "white",
           "linecolor": "white",
           "ticks": "",
           "title": {
            "standoff": 15
           },
           "zerolinecolor": "white",
           "zerolinewidth": 2
          },
          "yaxis": {
           "automargin": true,
           "gridcolor": "white",
           "linecolor": "white",
           "ticks": "",
           "title": {
            "standoff": 15
           },
           "zerolinecolor": "white",
           "zerolinewidth": 2
          }
         }
        }
       }
      }
     },
     "metadata": {},
     "output_type": "display_data"
    }
   ],
   "source": [
    "fig = px.treemap(df, path=[px.Constant(\"all\"),'Continent_Name', 'category'])\n",
    "fig.update_traces(root_color=\"lightgrey\")\n",
    "fig.update_layout(margin = dict(t=50, l=25, r=25, b=25))\n",
    "fig.show()"
   ]
  },
  {
   "cell_type": "markdown",
   "id": "a72176e0",
   "metadata": {},
   "source": [
    "# Third chart: Pie Chart using the new continent feature engineered by joining a third party dataset"
   ]
  },
  {
   "cell_type": "code",
   "execution_count": 27,
   "id": "f1847c8b",
   "metadata": {},
   "outputs": [],
   "source": [
    "import plotly.graph_objects as go\n",
    "values = df[\"Continent_Name\"].value_counts()\n",
    "labels = df[\"Continent_Name\"].unique().tolist()"
   ]
  },
  {
   "cell_type": "code",
   "execution_count": 28,
   "id": "32d96c74",
   "metadata": {},
   "outputs": [
    {
     "data": {
      "application/vnd.plotly.v1+json": {
       "config": {
        "plotlyServerURL": "https://plot.ly"
       },
       "data": [
        {
         "hole": 0.2,
         "labels": [
          "Europe",
          "Asia",
          "North America",
          "South America",
          "Oceania",
          "Africa"
         ],
         "type": "pie",
         "values": [
          5478,
          2241,
          2212,
          1112,
          210,
          71
         ]
        }
       ],
       "layout": {
        "template": {
         "data": {
          "bar": [
           {
            "error_x": {
             "color": "#2a3f5f"
            },
            "error_y": {
             "color": "#2a3f5f"
            },
            "marker": {
             "line": {
              "color": "#E5ECF6",
              "width": 0.5
             },
             "pattern": {
              "fillmode": "overlay",
              "size": 10,
              "solidity": 0.2
             }
            },
            "type": "bar"
           }
          ],
          "barpolar": [
           {
            "marker": {
             "line": {
              "color": "#E5ECF6",
              "width": 0.5
             },
             "pattern": {
              "fillmode": "overlay",
              "size": 10,
              "solidity": 0.2
             }
            },
            "type": "barpolar"
           }
          ],
          "carpet": [
           {
            "aaxis": {
             "endlinecolor": "#2a3f5f",
             "gridcolor": "white",
             "linecolor": "white",
             "minorgridcolor": "white",
             "startlinecolor": "#2a3f5f"
            },
            "baxis": {
             "endlinecolor": "#2a3f5f",
             "gridcolor": "white",
             "linecolor": "white",
             "minorgridcolor": "white",
             "startlinecolor": "#2a3f5f"
            },
            "type": "carpet"
           }
          ],
          "choropleth": [
           {
            "colorbar": {
             "outlinewidth": 0,
             "ticks": ""
            },
            "type": "choropleth"
           }
          ],
          "contour": [
           {
            "colorbar": {
             "outlinewidth": 0,
             "ticks": ""
            },
            "colorscale": [
             [
              0,
              "#0d0887"
             ],
             [
              0.1111111111111111,
              "#46039f"
             ],
             [
              0.2222222222222222,
              "#7201a8"
             ],
             [
              0.3333333333333333,
              "#9c179e"
             ],
             [
              0.4444444444444444,
              "#bd3786"
             ],
             [
              0.5555555555555556,
              "#d8576b"
             ],
             [
              0.6666666666666666,
              "#ed7953"
             ],
             [
              0.7777777777777778,
              "#fb9f3a"
             ],
             [
              0.8888888888888888,
              "#fdca26"
             ],
             [
              1,
              "#f0f921"
             ]
            ],
            "type": "contour"
           }
          ],
          "contourcarpet": [
           {
            "colorbar": {
             "outlinewidth": 0,
             "ticks": ""
            },
            "type": "contourcarpet"
           }
          ],
          "heatmap": [
           {
            "colorbar": {
             "outlinewidth": 0,
             "ticks": ""
            },
            "colorscale": [
             [
              0,
              "#0d0887"
             ],
             [
              0.1111111111111111,
              "#46039f"
             ],
             [
              0.2222222222222222,
              "#7201a8"
             ],
             [
              0.3333333333333333,
              "#9c179e"
             ],
             [
              0.4444444444444444,
              "#bd3786"
             ],
             [
              0.5555555555555556,
              "#d8576b"
             ],
             [
              0.6666666666666666,
              "#ed7953"
             ],
             [
              0.7777777777777778,
              "#fb9f3a"
             ],
             [
              0.8888888888888888,
              "#fdca26"
             ],
             [
              1,
              "#f0f921"
             ]
            ],
            "type": "heatmap"
           }
          ],
          "heatmapgl": [
           {
            "colorbar": {
             "outlinewidth": 0,
             "ticks": ""
            },
            "colorscale": [
             [
              0,
              "#0d0887"
             ],
             [
              0.1111111111111111,
              "#46039f"
             ],
             [
              0.2222222222222222,
              "#7201a8"
             ],
             [
              0.3333333333333333,
              "#9c179e"
             ],
             [
              0.4444444444444444,
              "#bd3786"
             ],
             [
              0.5555555555555556,
              "#d8576b"
             ],
             [
              0.6666666666666666,
              "#ed7953"
             ],
             [
              0.7777777777777778,
              "#fb9f3a"
             ],
             [
              0.8888888888888888,
              "#fdca26"
             ],
             [
              1,
              "#f0f921"
             ]
            ],
            "type": "heatmapgl"
           }
          ],
          "histogram": [
           {
            "marker": {
             "pattern": {
              "fillmode": "overlay",
              "size": 10,
              "solidity": 0.2
             }
            },
            "type": "histogram"
           }
          ],
          "histogram2d": [
           {
            "colorbar": {
             "outlinewidth": 0,
             "ticks": ""
            },
            "colorscale": [
             [
              0,
              "#0d0887"
             ],
             [
              0.1111111111111111,
              "#46039f"
             ],
             [
              0.2222222222222222,
              "#7201a8"
             ],
             [
              0.3333333333333333,
              "#9c179e"
             ],
             [
              0.4444444444444444,
              "#bd3786"
             ],
             [
              0.5555555555555556,
              "#d8576b"
             ],
             [
              0.6666666666666666,
              "#ed7953"
             ],
             [
              0.7777777777777778,
              "#fb9f3a"
             ],
             [
              0.8888888888888888,
              "#fdca26"
             ],
             [
              1,
              "#f0f921"
             ]
            ],
            "type": "histogram2d"
           }
          ],
          "histogram2dcontour": [
           {
            "colorbar": {
             "outlinewidth": 0,
             "ticks": ""
            },
            "colorscale": [
             [
              0,
              "#0d0887"
             ],
             [
              0.1111111111111111,
              "#46039f"
             ],
             [
              0.2222222222222222,
              "#7201a8"
             ],
             [
              0.3333333333333333,
              "#9c179e"
             ],
             [
              0.4444444444444444,
              "#bd3786"
             ],
             [
              0.5555555555555556,
              "#d8576b"
             ],
             [
              0.6666666666666666,
              "#ed7953"
             ],
             [
              0.7777777777777778,
              "#fb9f3a"
             ],
             [
              0.8888888888888888,
              "#fdca26"
             ],
             [
              1,
              "#f0f921"
             ]
            ],
            "type": "histogram2dcontour"
           }
          ],
          "mesh3d": [
           {
            "colorbar": {
             "outlinewidth": 0,
             "ticks": ""
            },
            "type": "mesh3d"
           }
          ],
          "parcoords": [
           {
            "line": {
             "colorbar": {
              "outlinewidth": 0,
              "ticks": ""
             }
            },
            "type": "parcoords"
           }
          ],
          "pie": [
           {
            "automargin": true,
            "type": "pie"
           }
          ],
          "scatter": [
           {
            "fillpattern": {
             "fillmode": "overlay",
             "size": 10,
             "solidity": 0.2
            },
            "type": "scatter"
           }
          ],
          "scatter3d": [
           {
            "line": {
             "colorbar": {
              "outlinewidth": 0,
              "ticks": ""
             }
            },
            "marker": {
             "colorbar": {
              "outlinewidth": 0,
              "ticks": ""
             }
            },
            "type": "scatter3d"
           }
          ],
          "scattercarpet": [
           {
            "marker": {
             "colorbar": {
              "outlinewidth": 0,
              "ticks": ""
             }
            },
            "type": "scattercarpet"
           }
          ],
          "scattergeo": [
           {
            "marker": {
             "colorbar": {
              "outlinewidth": 0,
              "ticks": ""
             }
            },
            "type": "scattergeo"
           }
          ],
          "scattergl": [
           {
            "marker": {
             "colorbar": {
              "outlinewidth": 0,
              "ticks": ""
             }
            },
            "type": "scattergl"
           }
          ],
          "scattermapbox": [
           {
            "marker": {
             "colorbar": {
              "outlinewidth": 0,
              "ticks": ""
             }
            },
            "type": "scattermapbox"
           }
          ],
          "scatterpolar": [
           {
            "marker": {
             "colorbar": {
              "outlinewidth": 0,
              "ticks": ""
             }
            },
            "type": "scatterpolar"
           }
          ],
          "scatterpolargl": [
           {
            "marker": {
             "colorbar": {
              "outlinewidth": 0,
              "ticks": ""
             }
            },
            "type": "scatterpolargl"
           }
          ],
          "scatterternary": [
           {
            "marker": {
             "colorbar": {
              "outlinewidth": 0,
              "ticks": ""
             }
            },
            "type": "scatterternary"
           }
          ],
          "surface": [
           {
            "colorbar": {
             "outlinewidth": 0,
             "ticks": ""
            },
            "colorscale": [
             [
              0,
              "#0d0887"
             ],
             [
              0.1111111111111111,
              "#46039f"
             ],
             [
              0.2222222222222222,
              "#7201a8"
             ],
             [
              0.3333333333333333,
              "#9c179e"
             ],
             [
              0.4444444444444444,
              "#bd3786"
             ],
             [
              0.5555555555555556,
              "#d8576b"
             ],
             [
              0.6666666666666666,
              "#ed7953"
             ],
             [
              0.7777777777777778,
              "#fb9f3a"
             ],
             [
              0.8888888888888888,
              "#fdca26"
             ],
             [
              1,
              "#f0f921"
             ]
            ],
            "type": "surface"
           }
          ],
          "table": [
           {
            "cells": {
             "fill": {
              "color": "#EBF0F8"
             },
             "line": {
              "color": "white"
             }
            },
            "header": {
             "fill": {
              "color": "#C8D4E3"
             },
             "line": {
              "color": "white"
             }
            },
            "type": "table"
           }
          ]
         },
         "layout": {
          "annotationdefaults": {
           "arrowcolor": "#2a3f5f",
           "arrowhead": 0,
           "arrowwidth": 1
          },
          "autotypenumbers": "strict",
          "coloraxis": {
           "colorbar": {
            "outlinewidth": 0,
            "ticks": ""
           }
          },
          "colorscale": {
           "diverging": [
            [
             0,
             "#8e0152"
            ],
            [
             0.1,
             "#c51b7d"
            ],
            [
             0.2,
             "#de77ae"
            ],
            [
             0.3,
             "#f1b6da"
            ],
            [
             0.4,
             "#fde0ef"
            ],
            [
             0.5,
             "#f7f7f7"
            ],
            [
             0.6,
             "#e6f5d0"
            ],
            [
             0.7,
             "#b8e186"
            ],
            [
             0.8,
             "#7fbc41"
            ],
            [
             0.9,
             "#4d9221"
            ],
            [
             1,
             "#276419"
            ]
           ],
           "sequential": [
            [
             0,
             "#0d0887"
            ],
            [
             0.1111111111111111,
             "#46039f"
            ],
            [
             0.2222222222222222,
             "#7201a8"
            ],
            [
             0.3333333333333333,
             "#9c179e"
            ],
            [
             0.4444444444444444,
             "#bd3786"
            ],
            [
             0.5555555555555556,
             "#d8576b"
            ],
            [
             0.6666666666666666,
             "#ed7953"
            ],
            [
             0.7777777777777778,
             "#fb9f3a"
            ],
            [
             0.8888888888888888,
             "#fdca26"
            ],
            [
             1,
             "#f0f921"
            ]
           ],
           "sequentialminus": [
            [
             0,
             "#0d0887"
            ],
            [
             0.1111111111111111,
             "#46039f"
            ],
            [
             0.2222222222222222,
             "#7201a8"
            ],
            [
             0.3333333333333333,
             "#9c179e"
            ],
            [
             0.4444444444444444,
             "#bd3786"
            ],
            [
             0.5555555555555556,
             "#d8576b"
            ],
            [
             0.6666666666666666,
             "#ed7953"
            ],
            [
             0.7777777777777778,
             "#fb9f3a"
            ],
            [
             0.8888888888888888,
             "#fdca26"
            ],
            [
             1,
             "#f0f921"
            ]
           ]
          },
          "colorway": [
           "#636efa",
           "#EF553B",
           "#00cc96",
           "#ab63fa",
           "#FFA15A",
           "#19d3f3",
           "#FF6692",
           "#B6E880",
           "#FF97FF",
           "#FECB52"
          ],
          "font": {
           "color": "#2a3f5f"
          },
          "geo": {
           "bgcolor": "white",
           "lakecolor": "white",
           "landcolor": "#E5ECF6",
           "showlakes": true,
           "showland": true,
           "subunitcolor": "white"
          },
          "hoverlabel": {
           "align": "left"
          },
          "hovermode": "closest",
          "mapbox": {
           "style": "light"
          },
          "paper_bgcolor": "white",
          "plot_bgcolor": "#E5ECF6",
          "polar": {
           "angularaxis": {
            "gridcolor": "white",
            "linecolor": "white",
            "ticks": ""
           },
           "bgcolor": "#E5ECF6",
           "radialaxis": {
            "gridcolor": "white",
            "linecolor": "white",
            "ticks": ""
           }
          },
          "scene": {
           "xaxis": {
            "backgroundcolor": "#E5ECF6",
            "gridcolor": "white",
            "gridwidth": 2,
            "linecolor": "white",
            "showbackground": true,
            "ticks": "",
            "zerolinecolor": "white"
           },
           "yaxis": {
            "backgroundcolor": "#E5ECF6",
            "gridcolor": "white",
            "gridwidth": 2,
            "linecolor": "white",
            "showbackground": true,
            "ticks": "",
            "zerolinecolor": "white"
           },
           "zaxis": {
            "backgroundcolor": "#E5ECF6",
            "gridcolor": "white",
            "gridwidth": 2,
            "linecolor": "white",
            "showbackground": true,
            "ticks": "",
            "zerolinecolor": "white"
           }
          },
          "shapedefaults": {
           "line": {
            "color": "#2a3f5f"
           }
          },
          "ternary": {
           "aaxis": {
            "gridcolor": "white",
            "linecolor": "white",
            "ticks": ""
           },
           "baxis": {
            "gridcolor": "white",
            "linecolor": "white",
            "ticks": ""
           },
           "bgcolor": "#E5ECF6",
           "caxis": {
            "gridcolor": "white",
            "linecolor": "white",
            "ticks": ""
           }
          },
          "title": {
           "x": 0.05
          },
          "xaxis": {
           "automargin": true,
           "gridcolor": "white",
           "linecolor": "white",
           "ticks": "",
           "title": {
            "standoff": 15
           },
           "zerolinecolor": "white",
           "zerolinewidth": 2
          },
          "yaxis": {
           "automargin": true,
           "gridcolor": "white",
           "linecolor": "white",
           "ticks": "",
           "title": {
            "standoff": 15
           },
           "zerolinecolor": "white",
           "zerolinewidth": 2
          }
         }
        }
       }
      }
     },
     "metadata": {},
     "output_type": "display_data"
    },
    {
     "name": "stdout",
     "output_type": "stream",
     "text": [
      "Europe           5478\n",
      "North America    2241\n",
      "Asia             2212\n",
      "South America    1112\n",
      "Africa            210\n",
      "Oceania            71\n",
      "Name: Continent_Name, dtype: int64\n"
     ]
    }
   ],
   "source": [
    "fig = go.Figure(data=[go.Pie(values=values, labels=labels, hole=.2)])\n",
    "\n",
    "fig.show()\n",
    "print(values)"
   ]
  },
  {
   "cell_type": "code",
   "execution_count": 29,
   "id": "7288aa96",
   "metadata": {},
   "outputs": [
    {
     "data": {
      "image/png": "[encoded data removed]",
      "text/plain": [
       "<Figure size 640x480 with 1 Axes>"
      ]
     },
     "metadata": {},
     "output_type": "display_data"
    },
    {
     "data": {
      "text/plain": [
       "<ggplot: (189103667909)>"
      ]
     },
     "execution_count": 29,
     "metadata": {},
     "output_type": "execute_result"
    }
   ],
   "source": [
    "\n",
    "\n",
    "(p9.ggplot(data=df,\n",
    "           mapping=p9.aes(x='customer_country'))\n",
    "    + p9.geom_bar()\n",
    "    + p9.theme_bw()\n",
    "    + p9.theme(axis_text_x = p9.element_text(angle=90))\n",
    ")\n"
   ]
  },
  {
   "cell_type": "markdown",
   "id": "557208b8",
   "metadata": {},
   "source": [
    "# Fourth chart: Geographical plot"
   ]
  },
  {
   "cell_type": "code",
   "execution_count": 30,
   "id": "65df1814",
   "metadata": {},
   "outputs": [
    {
     "name": "stdout",
     "output_type": "stream",
     "text": [
      "Geometry Column Name :  geometry\n",
      "Dataset Size :  (177, 6)\n"
     ]
    },
    {
     "data": {
      "text/html": [
       "<div>\n",
       "<style scoped>\n",
       "    .dataframe tbody tr th:only-of-type {\n",
       "        vertical-align: middle;\n",
       "    }\n",
       "\n",
       "    .dataframe tbody tr th {\n",
       "        vertical-align: top;\n",
       "    }\n",
       "\n",
       "    .dataframe thead th {\n",
       "        text-align: right;\n",
       "    }\n",
       "</style>\n",
       "<table border=\"1\" class=\"dataframe\">\n",
       "  <thead>\n",
       "    <tr style=\"text-align: right;\">\n",
       "      <th></th>\n",
       "      <th>pop_est</th>\n",
       "      <th>continent</th>\n",
       "      <th>name</th>\n",
       "      <th>iso_a3</th>\n",
       "      <th>gdp_md_est</th>\n",
       "      <th>geometry</th>\n",
       "    </tr>\n",
       "  </thead>\n",
       "  <tbody>\n",
       "    <tr>\n",
       "      <th>0</th>\n",
       "      <td>889953.0</td>\n",
       "      <td>Oceania</td>\n",
       "      <td>Fiji</td>\n",
       "      <td>FJI</td>\n",
       "      <td>5496</td>\n",
       "      <td>MULTIPOLYGON (((180.00000 -16.06713, 180.00000...</td>\n",
       "    </tr>\n",
       "    <tr>\n",
       "      <th>1</th>\n",
       "      <td>58005463.0</td>\n",
       "      <td>Africa</td>\n",
       "      <td>Tanzania</td>\n",
       "      <td>TZA</td>\n",
       "      <td>63177</td>\n",
       "      <td>POLYGON ((33.90371 -0.95000, 34.07262 -1.05982...</td>\n",
       "    </tr>\n",
       "    <tr>\n",
       "      <th>2</th>\n",
       "      <td>603253.0</td>\n",
       "      <td>Africa</td>\n",
       "      <td>W. Sahara</td>\n",
       "      <td>ESH</td>\n",
       "      <td>907</td>\n",
       "      <td>POLYGON ((-8.66559 27.65643, -8.66512 27.58948...</td>\n",
       "    </tr>\n",
       "    <tr>\n",
       "      <th>3</th>\n",
       "      <td>37589262.0</td>\n",
       "      <td>North America</td>\n",
       "      <td>Canada</td>\n",
       "      <td>CAN</td>\n",
       "      <td>1736425</td>\n",
       "      <td>MULTIPOLYGON (((-122.84000 49.00000, -122.9742...</td>\n",
       "    </tr>\n",
       "    <tr>\n",
       "      <th>4</th>\n",
       "      <td>328239523.0</td>\n",
       "      <td>North America</td>\n",
       "      <td>United States of America</td>\n",
       "      <td>USA</td>\n",
       "      <td>21433226</td>\n",
       "      <td>MULTIPOLYGON (((-122.84000 49.00000, -120.0000...</td>\n",
       "    </tr>\n",
       "  </tbody>\n",
       "</table>\n",
       "</div>"
      ],
      "text/plain": [
       "       pop_est      continent                      name iso_a3  gdp_md_est  \\\n",
       "0     889953.0        Oceania                      Fiji    FJI        5496   \n",
       "1   58005463.0         Africa                  Tanzania    TZA       63177   \n",
       "2     603253.0         Africa                 W. Sahara    ESH         907   \n",
       "3   37589262.0  North America                    Canada    CAN     1736425   \n",
       "4  328239523.0  North America  United States of America    USA    21433226   \n",
       "\n",
       "                                            geometry  \n",
       "0  MULTIPOLYGON (((180.00000 -16.06713, 180.00000...  \n",
       "1  POLYGON ((33.90371 -0.95000, 34.07262 -1.05982...  \n",
       "2  POLYGON ((-8.66559 27.65643, -8.66512 27.58948...  \n",
       "3  MULTIPOLYGON (((-122.84000 49.00000, -122.9742...  \n",
       "4  MULTIPOLYGON (((-122.84000 49.00000, -120.0000...  "
      ]
     },
     "execution_count": 30,
     "metadata": {},
     "output_type": "execute_result"
    }
   ],
   "source": [
    "\n",
    "world = gpd.read_file(gpd.datasets.get_path(\"naturalearth_lowres\"))\n",
    "print(\"Geometry Column Name : \", world.geometry.name)\n",
    "print(\"Dataset Size : \", world.shape)\n",
    "world.head()"
   ]
  },
  {
   "cell_type": "code",
   "execution_count": 31,
   "id": "2af9e36e",
   "metadata": {},
   "outputs": [],
   "source": [
    "country_code = pd.read_csv (\"all.csv\")"
   ]
  },
  {
   "cell_type": "code",
   "execution_count": 32,
   "id": "a2059dbe",
   "metadata": {},
   "outputs": [
    {
     "data": {
      "text/html": [
       "<div>\n",
       "<style scoped>\n",
       "    .dataframe tbody tr th:only-of-type {\n",
       "        vertical-align: middle;\n",
       "    }\n",
       "\n",
       "    .dataframe tbody tr th {\n",
       "        vertical-align: top;\n",
       "    }\n",
       "\n",
       "    .dataframe thead th {\n",
       "        text-align: right;\n",
       "    }\n",
       "</style>\n",
       "<table border=\"1\" class=\"dataframe\">\n",
       "  <thead>\n",
       "    <tr style=\"text-align: right;\">\n",
       "      <th></th>\n",
       "      <th>name</th>\n",
       "      <th>alpha-2</th>\n",
       "      <th>alpha-3</th>\n",
       "      <th>country-code</th>\n",
       "      <th>iso_3166-2</th>\n",
       "      <th>region</th>\n",
       "      <th>sub-region</th>\n",
       "      <th>intermediate-region</th>\n",
       "      <th>region-code</th>\n",
       "      <th>sub-region-code</th>\n",
       "      <th>intermediate-region-code</th>\n",
       "    </tr>\n",
       "  </thead>\n",
       "  <tbody>\n",
       "    <tr>\n",
       "      <th>0</th>\n",
       "      <td>Afghanistan</td>\n",
       "      <td>AF</td>\n",
       "      <td>AFG</td>\n",
       "      <td>4</td>\n",
       "      <td>ISO 3166-2:AF</td>\n",
       "      <td>Asia</td>\n",
       "      <td>Southern Asia</td>\n",
       "      <td>NaN</td>\n",
       "      <td>142.0</td>\n",
       "      <td>34.0</td>\n",
       "      <td>NaN</td>\n",
       "    </tr>\n",
       "    <tr>\n",
       "      <th>1</th>\n",
       "      <td>Åland Islands</td>\n",
       "      <td>AX</td>\n",
       "      <td>ALA</td>\n",
       "      <td>248</td>\n",
       "      <td>ISO 3166-2:AX</td>\n",
       "      <td>Europe</td>\n",
       "      <td>Northern Europe</td>\n",
       "      <td>NaN</td>\n",
       "      <td>150.0</td>\n",
       "      <td>154.0</td>\n",
       "      <td>NaN</td>\n",
       "    </tr>\n",
       "    <tr>\n",
       "      <th>2</th>\n",
       "      <td>Albania</td>\n",
       "      <td>AL</td>\n",
       "      <td>ALB</td>\n",
       "      <td>8</td>\n",
       "      <td>ISO 3166-2:AL</td>\n",
       "      <td>Europe</td>\n",
       "      <td>Southern Europe</td>\n",
       "      <td>NaN</td>\n",
       "      <td>150.0</td>\n",
       "      <td>39.0</td>\n",
       "      <td>NaN</td>\n",
       "    </tr>\n",
       "    <tr>\n",
       "      <th>3</th>\n",
       "      <td>Algeria</td>\n",
       "      <td>DZ</td>\n",
       "      <td>DZA</td>\n",
       "      <td>12</td>\n",
       "      <td>ISO 3166-2:DZ</td>\n",
       "      <td>Africa</td>\n",
       "      <td>Northern Africa</td>\n",
       "      <td>NaN</td>\n",
       "      <td>2.0</td>\n",
       "      <td>15.0</td>\n",
       "      <td>NaN</td>\n",
       "    </tr>\n",
       "    <tr>\n",
       "      <th>4</th>\n",
       "      <td>American Samoa</td>\n",
       "      <td>AS</td>\n",
       "      <td>ASM</td>\n",
       "      <td>16</td>\n",
       "      <td>ISO 3166-2:AS</td>\n",
       "      <td>Oceania</td>\n",
       "      <td>Polynesia</td>\n",
       "      <td>NaN</td>\n",
       "      <td>9.0</td>\n",
       "      <td>61.0</td>\n",
       "      <td>NaN</td>\n",
       "    </tr>\n",
       "  </tbody>\n",
       "</table>\n",
       "</div>"
      ],
      "text/plain": [
       "             name alpha-2 alpha-3  country-code     iso_3166-2   region  \\\n",
       "0     Afghanistan      AF     AFG             4  ISO 3166-2:AF     Asia   \n",
       "1   Åland Islands      AX     ALA           248  ISO 3166-2:AX   Europe   \n",
       "2         Albania      AL     ALB             8  ISO 3166-2:AL   Europe   \n",
       "3         Algeria      DZ     DZA            12  ISO 3166-2:DZ   Africa   \n",
       "4  American Samoa      AS     ASM            16  ISO 3166-2:AS  Oceania   \n",
       "\n",
       "        sub-region intermediate-region  region-code  sub-region-code  \\\n",
       "0    Southern Asia                 NaN        142.0             34.0   \n",
       "1  Northern Europe                 NaN        150.0            154.0   \n",
       "2  Southern Europe                 NaN        150.0             39.0   \n",
       "3  Northern Africa                 NaN          2.0             15.0   \n",
       "4        Polynesia                 NaN          9.0             61.0   \n",
       "\n",
       "   intermediate-region-code  \n",
       "0                       NaN  \n",
       "1                       NaN  \n",
       "2                       NaN  \n",
       "3                       NaN  \n",
       "4                       NaN  "
      ]
     },
     "execution_count": 32,
     "metadata": {},
     "output_type": "execute_result"
    }
   ],
   "source": [
    "country_code.head()"
   ]
  },
  {
   "cell_type": "code",
   "execution_count": 33,
   "id": "cef84c0d",
   "metadata": {},
   "outputs": [
    {
     "data": {
      "text/html": [
       "<div>\n",
       "<style scoped>\n",
       "    .dataframe tbody tr th:only-of-type {\n",
       "        vertical-align: middle;\n",
       "    }\n",
       "\n",
       "    .dataframe tbody tr th {\n",
       "        vertical-align: top;\n",
       "    }\n",
       "\n",
       "    .dataframe thead th {\n",
       "        text-align: right;\n",
       "    }\n",
       "</style>\n",
       "<table border=\"1\" class=\"dataframe\">\n",
       "  <thead>\n",
       "    <tr style=\"text-align: right;\">\n",
       "      <th></th>\n",
       "      <th>pop_est</th>\n",
       "      <th>continent</th>\n",
       "      <th>name_x</th>\n",
       "      <th>iso_a3</th>\n",
       "      <th>gdp_md_est</th>\n",
       "      <th>geometry</th>\n",
       "      <th>name_y</th>\n",
       "      <th>alpha-2</th>\n",
       "      <th>alpha-3</th>\n",
       "      <th>country-code</th>\n",
       "      <th>iso_3166-2</th>\n",
       "      <th>region</th>\n",
       "      <th>sub-region</th>\n",
       "      <th>intermediate-region</th>\n",
       "      <th>region-code</th>\n",
       "      <th>sub-region-code</th>\n",
       "      <th>intermediate-region-code</th>\n",
       "    </tr>\n",
       "  </thead>\n",
       "  <tbody>\n",
       "    <tr>\n",
       "      <th>0</th>\n",
       "      <td>889953.0</td>\n",
       "      <td>Oceania</td>\n",
       "      <td>Fiji</td>\n",
       "      <td>FJI</td>\n",
       "      <td>5496</td>\n",
       "      <td>MULTIPOLYGON (((180.00000 -16.06713, 180.00000...</td>\n",
       "      <td>Fiji</td>\n",
       "      <td>FJ</td>\n",
       "      <td>FJI</td>\n",
       "      <td>242</td>\n",
       "      <td>ISO 3166-2:FJ</td>\n",
       "      <td>Oceania</td>\n",
       "      <td>Melanesia</td>\n",
       "      <td>NaN</td>\n",
       "      <td>9.0</td>\n",
       "      <td>54.0</td>\n",
       "      <td>NaN</td>\n",
       "    </tr>\n",
       "    <tr>\n",
       "      <th>1</th>\n",
       "      <td>58005463.0</td>\n",
       "      <td>Africa</td>\n",
       "      <td>Tanzania</td>\n",
       "      <td>TZA</td>\n",
       "      <td>63177</td>\n",
       "      <td>POLYGON ((33.90371 -0.95000, 34.07262 -1.05982...</td>\n",
       "      <td>Tanzania, United Republic of</td>\n",
       "      <td>TZ</td>\n",
       "      <td>TZA</td>\n",
       "      <td>834</td>\n",
       "      <td>ISO 3166-2:TZ</td>\n",
       "      <td>Africa</td>\n",
       "      <td>Sub-Saharan Africa</td>\n",
       "      <td>Eastern Africa</td>\n",
       "      <td>2.0</td>\n",
       "      <td>202.0</td>\n",
       "      <td>14.0</td>\n",
       "    </tr>\n",
       "    <tr>\n",
       "      <th>2</th>\n",
       "      <td>603253.0</td>\n",
       "      <td>Africa</td>\n",
       "      <td>W. Sahara</td>\n",
       "      <td>ESH</td>\n",
       "      <td>907</td>\n",
       "      <td>POLYGON ((-8.66559 27.65643, -8.66512 27.58948...</td>\n",
       "      <td>Western Sahara</td>\n",
       "      <td>EH</td>\n",
       "      <td>ESH</td>\n",
       "      <td>732</td>\n",
       "      <td>ISO 3166-2:EH</td>\n",
       "      <td>Africa</td>\n",
       "      <td>Northern Africa</td>\n",
       "      <td>NaN</td>\n",
       "      <td>2.0</td>\n",
       "      <td>15.0</td>\n",
       "      <td>NaN</td>\n",
       "    </tr>\n",
       "    <tr>\n",
       "      <th>3</th>\n",
       "      <td>37589262.0</td>\n",
       "      <td>North America</td>\n",
       "      <td>Canada</td>\n",
       "      <td>CAN</td>\n",
       "      <td>1736425</td>\n",
       "      <td>MULTIPOLYGON (((-122.84000 49.00000, -122.9742...</td>\n",
       "      <td>Canada</td>\n",
       "      <td>CA</td>\n",
       "      <td>CAN</td>\n",
       "      <td>124</td>\n",
       "      <td>ISO 3166-2:CA</td>\n",
       "      <td>Americas</td>\n",
       "      <td>Northern America</td>\n",
       "      <td>NaN</td>\n",
       "      <td>19.0</td>\n",
       "      <td>21.0</td>\n",
       "      <td>NaN</td>\n",
       "    </tr>\n",
       "    <tr>\n",
       "      <th>4</th>\n",
       "      <td>328239523.0</td>\n",
       "      <td>North America</td>\n",
       "      <td>United States of America</td>\n",
       "      <td>USA</td>\n",
       "      <td>21433226</td>\n",
       "      <td>MULTIPOLYGON (((-122.84000 49.00000, -120.0000...</td>\n",
       "      <td>United States of America</td>\n",
       "      <td>US</td>\n",
       "      <td>USA</td>\n",
       "      <td>840</td>\n",
       "      <td>ISO 3166-2:US</td>\n",
       "      <td>Americas</td>\n",
       "      <td>Northern America</td>\n",
       "      <td>NaN</td>\n",
       "      <td>19.0</td>\n",
       "      <td>21.0</td>\n",
       "      <td>NaN</td>\n",
       "    </tr>\n",
       "  </tbody>\n",
       "</table>\n",
       "</div>"
      ],
      "text/plain": [
       "       pop_est      continent                    name_x iso_a3  gdp_md_est  \\\n",
       "0     889953.0        Oceania                      Fiji    FJI        5496   \n",
       "1   58005463.0         Africa                  Tanzania    TZA       63177   \n",
       "2     603253.0         Africa                 W. Sahara    ESH         907   \n",
       "3   37589262.0  North America                    Canada    CAN     1736425   \n",
       "4  328239523.0  North America  United States of America    USA    21433226   \n",
       "\n",
       "                                            geometry  \\\n",
       "0  MULTIPOLYGON (((180.00000 -16.06713, 180.00000...   \n",
       "1  POLYGON ((33.90371 -0.95000, 34.07262 -1.05982...   \n",
       "2  POLYGON ((-8.66559 27.65643, -8.66512 27.58948...   \n",
       "3  MULTIPOLYGON (((-122.84000 49.00000, -122.9742...   \n",
       "4  MULTIPOLYGON (((-122.84000 49.00000, -120.0000...   \n",
       "\n",
       "                         name_y alpha-2 alpha-3  country-code     iso_3166-2  \\\n",
       "0                          Fiji      FJ     FJI           242  ISO 3166-2:FJ   \n",
       "1  Tanzania, United Republic of      TZ     TZA           834  ISO 3166-2:TZ   \n",
       "2                Western Sahara      EH     ESH           732  ISO 3166-2:EH   \n",
       "3                        Canada      CA     CAN           124  ISO 3166-2:CA   \n",
       "4      United States of America      US     USA           840  ISO 3166-2:US   \n",
       "\n",
       "     region          sub-region intermediate-region  region-code  \\\n",
       "0   Oceania           Melanesia                 NaN          9.0   \n",
       "1    Africa  Sub-Saharan Africa      Eastern Africa          2.0   \n",
       "2    Africa     Northern Africa                 NaN          2.0   \n",
       "3  Americas    Northern America                 NaN         19.0   \n",
       "4  Americas    Northern America                 NaN         19.0   \n",
       "\n",
       "   sub-region-code  intermediate-region-code  \n",
       "0             54.0                       NaN  \n",
       "1            202.0                      14.0  \n",
       "2             15.0                       NaN  \n",
       "3             21.0                       NaN  \n",
       "4             21.0                       NaN  "
      ]
     },
     "execution_count": 33,
     "metadata": {},
     "output_type": "execute_result"
    }
   ],
   "source": [
    "countries = world.merge(country_code, left_on=\"iso_a3\", right_on=\"alpha-3\")\n",
    "\n",
    "countries.head()"
   ]
  },
  {
   "cell_type": "code",
   "execution_count": 34,
   "id": "d95a1fa7",
   "metadata": {},
   "outputs": [],
   "source": [
    "df3 = df.groupby('customer_country')['amount'].sum()\n",
    "\n"
   ]
  },
  {
   "cell_type": "code",
   "execution_count": 35,
   "id": "bad51369",
   "metadata": {},
   "outputs": [
    {
     "data": {
      "text/plain": [
       "customer_country\n",
       "AD    10203.68\n",
       "AE    14015.00\n",
       "AM       56.00\n",
       "AN      281.46\n",
       "AO     2471.40\n",
       "        ...   \n",
       "VE     5512.65\n",
       "VN     1503.45\n",
       "WS       30.13\n",
       "ZA     6878.96\n",
       "ZW      127.00\n",
       "Name: amount, Length: 110, dtype: float64"
      ]
     },
     "execution_count": 35,
     "metadata": {},
     "output_type": "execute_result"
    }
   ],
   "source": [
    "df3"
   ]
  },
  {
   "cell_type": "code",
   "execution_count": 36,
   "id": "49f249b4",
   "metadata": {},
   "outputs": [],
   "source": [
    "sales_df = countries.merge(df3, left_on=\"alpha-2\", right_on=\"customer_country\")\n"
   ]
  },
  {
   "cell_type": "code",
   "execution_count": 37,
   "id": "44be1ca2",
   "metadata": {},
   "outputs": [
    {
     "data": {
      "text/html": [
       "<div>\n",
       "<style scoped>\n",
       "    .dataframe tbody tr th:only-of-type {\n",
       "        vertical-align: middle;\n",
       "    }\n",
       "\n",
       "    .dataframe tbody tr th {\n",
       "        vertical-align: top;\n",
       "    }\n",
       "\n",
       "    .dataframe thead th {\n",
       "        text-align: right;\n",
       "    }\n",
       "</style>\n",
       "<table border=\"1\" class=\"dataframe\">\n",
       "  <thead>\n",
       "    <tr style=\"text-align: right;\">\n",
       "      <th></th>\n",
       "      <th>pop_est</th>\n",
       "      <th>continent</th>\n",
       "      <th>name_x</th>\n",
       "      <th>iso_a3</th>\n",
       "      <th>gdp_md_est</th>\n",
       "      <th>geometry</th>\n",
       "      <th>name_y</th>\n",
       "      <th>alpha-2</th>\n",
       "      <th>alpha-3</th>\n",
       "      <th>country-code</th>\n",
       "      <th>iso_3166-2</th>\n",
       "      <th>region</th>\n",
       "      <th>sub-region</th>\n",
       "      <th>intermediate-region</th>\n",
       "      <th>region-code</th>\n",
       "      <th>sub-region-code</th>\n",
       "      <th>intermediate-region-code</th>\n",
       "      <th>amount</th>\n",
       "    </tr>\n",
       "  </thead>\n",
       "  <tbody>\n",
       "    <tr>\n",
       "      <th>0</th>\n",
       "      <td>37589262.0</td>\n",
       "      <td>North America</td>\n",
       "      <td>Canada</td>\n",
       "      <td>CAN</td>\n",
       "      <td>1736425</td>\n",
       "      <td>MULTIPOLYGON (((-122.84000 49.00000, -122.9742...</td>\n",
       "      <td>Canada</td>\n",
       "      <td>CA</td>\n",
       "      <td>CAN</td>\n",
       "      <td>124</td>\n",
       "      <td>ISO 3166-2:CA</td>\n",
       "      <td>Americas</td>\n",
       "      <td>Northern America</td>\n",
       "      <td>NaN</td>\n",
       "      <td>19.0</td>\n",
       "      <td>21.0</td>\n",
       "      <td>NaN</td>\n",
       "      <td>26154.26</td>\n",
       "    </tr>\n",
       "    <tr>\n",
       "      <th>1</th>\n",
       "      <td>328239523.0</td>\n",
       "      <td>North America</td>\n",
       "      <td>United States of America</td>\n",
       "      <td>USA</td>\n",
       "      <td>21433226</td>\n",
       "      <td>MULTIPOLYGON (((-122.84000 49.00000, -120.0000...</td>\n",
       "      <td>United States of America</td>\n",
       "      <td>US</td>\n",
       "      <td>USA</td>\n",
       "      <td>840</td>\n",
       "      <td>ISO 3166-2:US</td>\n",
       "      <td>Americas</td>\n",
       "      <td>Northern America</td>\n",
       "      <td>NaN</td>\n",
       "      <td>19.0</td>\n",
       "      <td>21.0</td>\n",
       "      <td>NaN</td>\n",
       "      <td>184196.77</td>\n",
       "    </tr>\n",
       "    <tr>\n",
       "      <th>2</th>\n",
       "      <td>18513930.0</td>\n",
       "      <td>Asia</td>\n",
       "      <td>Kazakhstan</td>\n",
       "      <td>KAZ</td>\n",
       "      <td>181665</td>\n",
       "      <td>POLYGON ((87.35997 49.21498, 86.59878 48.54918...</td>\n",
       "      <td>Kazakhstan</td>\n",
       "      <td>KZ</td>\n",
       "      <td>KAZ</td>\n",
       "      <td>398</td>\n",
       "      <td>ISO 3166-2:KZ</td>\n",
       "      <td>Asia</td>\n",
       "      <td>Central Asia</td>\n",
       "      <td>NaN</td>\n",
       "      <td>142.0</td>\n",
       "      <td>143.0</td>\n",
       "      <td>NaN</td>\n",
       "      <td>14441.38</td>\n",
       "    </tr>\n",
       "    <tr>\n",
       "      <th>3</th>\n",
       "      <td>33580650.0</td>\n",
       "      <td>Asia</td>\n",
       "      <td>Uzbekistan</td>\n",
       "      <td>UZB</td>\n",
       "      <td>57921</td>\n",
       "      <td>POLYGON ((55.96819 41.30864, 55.92892 44.99586...</td>\n",
       "      <td>Uzbekistan</td>\n",
       "      <td>UZ</td>\n",
       "      <td>UZB</td>\n",
       "      <td>860</td>\n",
       "      <td>ISO 3166-2:UZ</td>\n",
       "      <td>Asia</td>\n",
       "      <td>Central Asia</td>\n",
       "      <td>NaN</td>\n",
       "      <td>142.0</td>\n",
       "      <td>143.0</td>\n",
       "      <td>NaN</td>\n",
       "      <td>675.18</td>\n",
       "    </tr>\n",
       "    <tr>\n",
       "      <th>4</th>\n",
       "      <td>270625568.0</td>\n",
       "      <td>Asia</td>\n",
       "      <td>Indonesia</td>\n",
       "      <td>IDN</td>\n",
       "      <td>1119190</td>\n",
       "      <td>MULTIPOLYGON (((141.00021 -2.60015, 141.01706 ...</td>\n",
       "      <td>Indonesia</td>\n",
       "      <td>ID</td>\n",
       "      <td>IDN</td>\n",
       "      <td>360</td>\n",
       "      <td>ISO 3166-2:ID</td>\n",
       "      <td>Asia</td>\n",
       "      <td>South-eastern Asia</td>\n",
       "      <td>NaN</td>\n",
       "      <td>142.0</td>\n",
       "      <td>35.0</td>\n",
       "      <td>NaN</td>\n",
       "      <td>13953.64</td>\n",
       "    </tr>\n",
       "    <tr>\n",
       "      <th>...</th>\n",
       "      <td>...</td>\n",
       "      <td>...</td>\n",
       "      <td>...</td>\n",
       "      <td>...</td>\n",
       "      <td>...</td>\n",
       "      <td>...</td>\n",
       "      <td>...</td>\n",
       "      <td>...</td>\n",
       "      <td>...</td>\n",
       "      <td>...</td>\n",
       "      <td>...</td>\n",
       "      <td>...</td>\n",
       "      <td>...</td>\n",
       "      <td>...</td>\n",
       "      <td>...</td>\n",
       "      <td>...</td>\n",
       "      <td>...</td>\n",
       "      <td>...</td>\n",
       "    </tr>\n",
       "    <tr>\n",
       "      <th>97</th>\n",
       "      <td>100388073.0</td>\n",
       "      <td>Africa</td>\n",
       "      <td>Egypt</td>\n",
       "      <td>EGY</td>\n",
       "      <td>303092</td>\n",
       "      <td>POLYGON ((36.86623 22.00000, 32.90000 22.00000...</td>\n",
       "      <td>Egypt</td>\n",
       "      <td>EG</td>\n",
       "      <td>EGY</td>\n",
       "      <td>818</td>\n",
       "      <td>ISO 3166-2:EG</td>\n",
       "      <td>Africa</td>\n",
       "      <td>Northern Africa</td>\n",
       "      <td>NaN</td>\n",
       "      <td>2.0</td>\n",
       "      <td>15.0</td>\n",
       "      <td>NaN</td>\n",
       "      <td>6967.08</td>\n",
       "    </tr>\n",
       "    <tr>\n",
       "      <th>98</th>\n",
       "      <td>44269594.0</td>\n",
       "      <td>Africa</td>\n",
       "      <td>Uganda</td>\n",
       "      <td>UGA</td>\n",
       "      <td>35165</td>\n",
       "      <td>POLYGON ((33.90371 -0.95000, 31.86617 -1.02736...</td>\n",
       "      <td>Uganda</td>\n",
       "      <td>UG</td>\n",
       "      <td>UGA</td>\n",
       "      <td>800</td>\n",
       "      <td>ISO 3166-2:UG</td>\n",
       "      <td>Africa</td>\n",
       "      <td>Sub-Saharan Africa</td>\n",
       "      <td>Eastern Africa</td>\n",
       "      <td>2.0</td>\n",
       "      <td>202.0</td>\n",
       "      <td>14.0</td>\n",
       "      <td>324.90</td>\n",
       "    </tr>\n",
       "    <tr>\n",
       "      <th>99</th>\n",
       "      <td>3301000.0</td>\n",
       "      <td>Europe</td>\n",
       "      <td>Bosnia and Herz.</td>\n",
       "      <td>BIH</td>\n",
       "      <td>20164</td>\n",
       "      <td>POLYGON ((18.56000 42.65000, 17.67492 43.02856...</td>\n",
       "      <td>Bosnia and Herzegovina</td>\n",
       "      <td>BA</td>\n",
       "      <td>BIH</td>\n",
       "      <td>70</td>\n",
       "      <td>ISO 3166-2:BA</td>\n",
       "      <td>Europe</td>\n",
       "      <td>Southern Europe</td>\n",
       "      <td>NaN</td>\n",
       "      <td>150.0</td>\n",
       "      <td>39.0</td>\n",
       "      <td>NaN</td>\n",
       "      <td>317.21</td>\n",
       "    </tr>\n",
       "    <tr>\n",
       "      <th>100</th>\n",
       "      <td>2083459.0</td>\n",
       "      <td>Europe</td>\n",
       "      <td>North Macedonia</td>\n",
       "      <td>MKD</td>\n",
       "      <td>12547</td>\n",
       "      <td>POLYGON ((22.38053 42.32026, 22.88137 41.99930...</td>\n",
       "      <td>North Macedonia</td>\n",
       "      <td>MK</td>\n",
       "      <td>MKD</td>\n",
       "      <td>807</td>\n",
       "      <td>ISO 3166-2:MK</td>\n",
       "      <td>Europe</td>\n",
       "      <td>Southern Europe</td>\n",
       "      <td>NaN</td>\n",
       "      <td>150.0</td>\n",
       "      <td>39.0</td>\n",
       "      <td>NaN</td>\n",
       "      <td>207.90</td>\n",
       "    </tr>\n",
       "    <tr>\n",
       "      <th>101</th>\n",
       "      <td>1394973.0</td>\n",
       "      <td>North America</td>\n",
       "      <td>Trinidad and Tobago</td>\n",
       "      <td>TTO</td>\n",
       "      <td>24269</td>\n",
       "      <td>POLYGON ((-61.68000 10.76000, -61.10500 10.890...</td>\n",
       "      <td>Trinidad and Tobago</td>\n",
       "      <td>TT</td>\n",
       "      <td>TTO</td>\n",
       "      <td>780</td>\n",
       "      <td>ISO 3166-2:TT</td>\n",
       "      <td>Americas</td>\n",
       "      <td>Latin America and the Caribbean</td>\n",
       "      <td>Caribbean</td>\n",
       "      <td>19.0</td>\n",
       "      <td>419.0</td>\n",
       "      <td>29.0</td>\n",
       "      <td>1588.90</td>\n",
       "    </tr>\n",
       "  </tbody>\n",
       "</table>\n",
       "<p>102 rows × 18 columns</p>\n",
       "</div>"
      ],
      "text/plain": [
       "         pop_est      continent                    name_x iso_a3  gdp_md_est  \\\n",
       "0     37589262.0  North America                    Canada    CAN     1736425   \n",
       "1    328239523.0  North America  United States of America    USA    21433226   \n",
       "2     18513930.0           Asia                Kazakhstan    KAZ      181665   \n",
       "3     33580650.0           Asia                Uzbekistan    UZB       57921   \n",
       "4    270625568.0           Asia                 Indonesia    IDN     1119190   \n",
       "..           ...            ...                       ...    ...         ...   \n",
       "97   100388073.0         Africa                     Egypt    EGY      303092   \n",
       "98    44269594.0         Africa                    Uganda    UGA       35165   \n",
       "99     3301000.0         Europe          Bosnia and Herz.    BIH       20164   \n",
       "100    2083459.0         Europe           North Macedonia    MKD       12547   \n",
       "101    1394973.0  North America       Trinidad and Tobago    TTO       24269   \n",
       "\n",
       "                                              geometry  \\\n",
       "0    MULTIPOLYGON (((-122.84000 49.00000, -122.9742...   \n",
       "1    MULTIPOLYGON (((-122.84000 49.00000, -120.0000...   \n",
       "2    POLYGON ((87.35997 49.21498, 86.59878 48.54918...   \n",
       "3    POLYGON ((55.96819 41.30864, 55.92892 44.99586...   \n",
       "4    MULTIPOLYGON (((141.00021 -2.60015, 141.01706 ...   \n",
       "..                                                 ...   \n",
       "97   POLYGON ((36.86623 22.00000, 32.90000 22.00000...   \n",
       "98   POLYGON ((33.90371 -0.95000, 31.86617 -1.02736...   \n",
       "99   POLYGON ((18.56000 42.65000, 17.67492 43.02856...   \n",
       "100  POLYGON ((22.38053 42.32026, 22.88137 41.99930...   \n",
       "101  POLYGON ((-61.68000 10.76000, -61.10500 10.890...   \n",
       "\n",
       "                       name_y alpha-2 alpha-3  country-code     iso_3166-2  \\\n",
       "0                      Canada      CA     CAN           124  ISO 3166-2:CA   \n",
       "1    United States of America      US     USA           840  ISO 3166-2:US   \n",
       "2                  Kazakhstan      KZ     KAZ           398  ISO 3166-2:KZ   \n",
       "3                  Uzbekistan      UZ     UZB           860  ISO 3166-2:UZ   \n",
       "4                   Indonesia      ID     IDN           360  ISO 3166-2:ID   \n",
       "..                        ...     ...     ...           ...            ...   \n",
       "97                      Egypt      EG     EGY           818  ISO 3166-2:EG   \n",
       "98                     Uganda      UG     UGA           800  ISO 3166-2:UG   \n",
       "99     Bosnia and Herzegovina      BA     BIH            70  ISO 3166-2:BA   \n",
       "100           North Macedonia      MK     MKD           807  ISO 3166-2:MK   \n",
       "101       Trinidad and Tobago      TT     TTO           780  ISO 3166-2:TT   \n",
       "\n",
       "       region                       sub-region intermediate-region  \\\n",
       "0    Americas                 Northern America                 NaN   \n",
       "1    Americas                 Northern America                 NaN   \n",
       "2        Asia                     Central Asia                 NaN   \n",
       "3        Asia                     Central Asia                 NaN   \n",
       "4        Asia               South-eastern Asia                 NaN   \n",
       "..        ...                              ...                 ...   \n",
       "97     Africa                  Northern Africa                 NaN   \n",
       "98     Africa               Sub-Saharan Africa      Eastern Africa   \n",
       "99     Europe                  Southern Europe                 NaN   \n",
       "100    Europe                  Southern Europe                 NaN   \n",
       "101  Americas  Latin America and the Caribbean           Caribbean   \n",
       "\n",
       "     region-code  sub-region-code  intermediate-region-code     amount  \n",
       "0           19.0             21.0                       NaN   26154.26  \n",
       "1           19.0             21.0                       NaN  184196.77  \n",
       "2          142.0            143.0                       NaN   14441.38  \n",
       "3          142.0            143.0                       NaN     675.18  \n",
       "4          142.0             35.0                       NaN   13953.64  \n",
       "..           ...              ...                       ...        ...  \n",
       "97           2.0             15.0                       NaN    6967.08  \n",
       "98           2.0            202.0                      14.0     324.90  \n",
       "99         150.0             39.0                       NaN     317.21  \n",
       "100        150.0             39.0                       NaN     207.90  \n",
       "101         19.0            419.0                      29.0    1588.90  \n",
       "\n",
       "[102 rows x 18 columns]"
      ]
     },
     "execution_count": 37,
     "metadata": {},
     "output_type": "execute_result"
    }
   ],
   "source": [
    "sales_df"
   ]
  },
  {
   "cell_type": "markdown",
   "id": "c15f9110",
   "metadata": {},
   "source": [
    "### Seaborn graphics, matrix"
   ]
  },
  {
   "cell_type": "code",
   "execution_count": 38,
   "id": "c39f1646",
   "metadata": {},
   "outputs": [
    {
     "name": "stdout",
     "output_type": "stream",
     "text": [
      "<class 'pandas.core.frame.DataFrame'>\n",
      "Int64Index: 11324 entries, 0 to 10792\n",
      "Data columns (total 12 columns):\n",
      " #   Column            Non-Null Count  Dtype              \n",
      "---  ------            --------------  -----              \n",
      " 0   amount            11324 non-null  float64            \n",
      " 1   category          11324 non-null  object             \n",
      " 2   customer_country  11324 non-null  object             \n",
      " 3   daytime           11324 non-null  object             \n",
      " 4   hour              11324 non-null  int64              \n",
      " 5   tx_date_proc      11324 non-null  datetime64[ns, UTC]\n",
      " 6   weekday           11324 non-null  object             \n",
      " 7   Day               11324 non-null  object             \n",
      " 8   Time              11324 non-null  object             \n",
      " 9   Continent_Name    11324 non-null  object             \n",
      " 10  Continent_Code    9083 non-null   object             \n",
      " 11  Country_Name      11324 non-null  object             \n",
      "dtypes: datetime64[ns, UTC](1), float64(1), int64(1), object(9)\n",
      "memory usage: 1.1+ MB\n"
     ]
    }
   ],
   "source": [
    "df.info()"
   ]
  },
  {
   "cell_type": "code",
   "execution_count": 39,
   "id": "fe470831",
   "metadata": {},
   "outputs": [
    {
     "data": {
      "text/plain": [
       "<seaborn.axisgrid.PairGrid at 0x2c077213850>"
      ]
     },
     "execution_count": 39,
     "metadata": {},
     "output_type": "execute_result"
    },
    {
     "data": {
      "image/png": "[encoded data removed]",
      "text/plain": [
       "<Figure size 654x500 with 6 Axes>"
      ]
     },
     "metadata": {},
     "output_type": "display_data"
    }
   ],
   "source": [
    "sns.set_theme(style=\"white\")\n",
    "\n",
    "g = sns.PairGrid(df, vars = ['hour','amount'],hue='Continent_Name', diag_sharey=False, palette = 'rainbow_r')\n",
    "g.map_upper(sns.scatterplot, s=15)\n",
    "g.map_lower(sns.kdeplot,warn_singular=False)\n",
    "g.map_diag(sns.kdeplot, lw=2,warn_singular=False)\n",
    "g.add_legend()"
   ]
  },
  {
   "cell_type": "markdown",
   "id": "6a316561",
   "metadata": {},
   "source": [
    "# TARGET, ATRACT, RETAIN AND ENGAGE"
   ]
  },
  {
   "cell_type": "markdown",
   "id": "c3ea413e",
   "metadata": {},
   "source": [
    "## GOAL:\n",
    "\n",
    "Increase credit card usage and spending among Citi credit cardholders visiting the city of Madrid by:\n",
    "\n",
    "- Creating marketing campaings that will leverage data from their past consumer behavior\n",
    "- Targeting our customers more precisely through smarter segmentation\n",
    "- Developing a better value proposition to enhance the customer experience"
   ]
  },
  {
   "cell_type": "markdown",
   "id": "5ad141fd",
   "metadata": {},
   "source": [
    "## DEFINING TARGET AUDIENCE:\n",
    "\n",
    "We are going to identify the customers with a high propensity to respond to our marketing campaigns. To do so, we will segment our customers based on past spendings, utilization (amount of transactions), average ticket size, total expenditure, expenditure by product category, nationality and daytime spending patterns."
   ]
  },
  {
   "cell_type": "markdown",
   "id": "a7bbae24",
   "metadata": {},
   "source": [
    "### Lets start undestanding our Customers"
   ]
  },
  {
   "cell_type": "code",
   "execution_count": 40,
   "id": "d79c079c",
   "metadata": {},
   "outputs": [
    {
     "name": "stderr",
     "output_type": "stream",
     "text": [
      "C:\\Users\\dianaf\\AppData\\Local\\Packages\\PythonSoftwareFoundation.Python.3.10_qbz5n2kfra8p0\\LocalCache\\local-packages\\Python310\\site-packages\\plotnine\\guides\\guides.py:187: PlotnineWarning:\n",
      "\n",
      "Cannot generate legend for the 'color' aesthetic. Make sure you have mapped a variable to it\n",
      "\n"
     ]
    },
    {
     "data": {
      "image/png": "[encoded data removed]",
      "text/plain": [
       "<Figure size 1200x600 with 1 Axes>"
      ]
     },
     "metadata": {},
     "output_type": "display_data"
    },
    {
     "data": {
      "text/plain": [
       "<ggplot: (189104540576)>"
      ]
     },
     "execution_count": 40,
     "metadata": {},
     "output_type": "execute_result"
    }
   ],
   "source": [
    "chart = ggplot(data=sales_df, mapping=aes(fill=\"amount\"))\n",
    "map_proj = geom_map()\n",
    "labels = labs(title=\"Total Credit Card Expenditure by Country of Origin\")\n",
    "theme_details = theme(figure_size=(12,6))\n",
    "fill_colormap = scale_fill_cmap(cmap_name=\"RdYlGn\")\n",
    "color_colormap = scale_color_cmap(cmap_name=\"RdYlGn\")\n",
    "\n",
    "world_map_card = chart + map_proj + labels + theme_details + fill_colormap + color_colormap\n",
    "\n",
    "world_map_card"
   ]
  },
  {
   "cell_type": "code",
   "execution_count": 41,
   "id": "b7601a82",
   "metadata": {},
   "outputs": [],
   "source": [
    "#ggplot(df, aes(x = 'reorder(Country_Name, amount, fun=sum)', y = 'amount')) + geom_bar(stat=\"identity\")+ scale_x_discrete()+ coord_flip()\n"
   ]
  },
  {
   "cell_type": "markdown",
   "id": "d3ab2b2e",
   "metadata": {},
   "source": [
    "NOTE: We need and interactive map and an interactive bar chart with 1 drop down and 1 slicer\n",
    "\n",
    "1. The drop down would allow us to map either\n",
    " - Total Expenditure\n",
    " - Total Amount of Transactions\n",
    " - Average Ticket ( Total Expenditures/Transactions)\n",
    "\n",
    " 2. Slicer would allow me to select top XX countries by each one of the categories above\n",
    "\n",
    " 3. Card with Total Expenditure, Total Amount of Transactions and Average Ticket Size\n",
    " \n",
    " 4. Bar chart sorted from highest to lowest based on the measure I am selecting above. Top 20 + other"
   ]
  },
  {
   "cell_type": "markdown",
   "id": "deeba8dc",
   "metadata": {},
   "source": [
    "## ATRACT\n",
    "- Travel credit cards with perks such a complementary lounge access, air mile earnings, co-branded benefits with airlines and travel partners or accelerated rewards on travel. Welcome bonus in miles. free stays in hotels.\n",
    "\n",
    "- Consumers looking to save money oh their next trips (spend XXX amount and you will get XX reward), oportunities to help cut down cost of the vacations. BNPL strategies. \n"
   ]
  },
  {
   "cell_type": "markdown",
   "id": "3556c00a",
   "metadata": {},
   "source": [
    "## ENGAGE\n",
    "\n",
    "- Incrase Target market by entering into the Mobile payment system to allow an increase in transaction specially from travellers of countries countries similar to Spain as this market is highly dependant on the local mobile pay system\n",
    "\n",
    "\n",
    "\n",
    "\n"
   ]
  },
  {
   "cell_type": "markdown",
   "id": "e0c2b23e",
   "metadata": {},
   "source": []
  },
  {
   "cell_type": "markdown",
   "id": "1ca0acf5",
   "metadata": {},
   "source": []
  },
  {
   "cell_type": "markdown",
   "id": "7cebfc7a",
   "metadata": {},
   "source": []
  },
  {
   "cell_type": "code",
   "execution_count": null,
   "id": "73782845",
   "metadata": {},
   "outputs": [],
   "source": []
  },
  {
   "cell_type": "markdown",
   "id": "2c1686f7",
   "metadata": {},
   "source": [
    "Understanding total expenses, average ticket and number of transactions by country, category, time of the day.\n",
    "\n",
    "Total Expenditure:\n",
    "\n",
    "1. Top source markets based on total expenses, how much they account for out of the total tourism expenditure? This is a great KPI if we have figure YoY. Does not tell much if we can not see trends/evolution over time\n",
    "\n",
    "Average Ticket:\n",
    "\n",
    "2. **Most Active and valuable cardholders are those with a high average spend ticket:** The average ticket by country as a way to identify those nationalites that tend to spend more and tackle those countries with marketing campaings aiming to attrack more visitors and/or make them come back with recognition, priority services and loyalty programs, in which case it would be interesting to understand the categories we are they are more focused on.\n",
    "   \n",
    "3.  Mid/low average ticket population but high amount of transactions might be also a target population, if we identify what sort of category of products they are more interested on.\n",
    "\n",
    "4. "
   ]
  },
  {
   "cell_type": "markdown",
   "id": "93cae912",
   "metadata": {},
   "source": [
    "![Offers](../../../../../../../C:/Users/dianaf/OneDrive%20-%20Microsoft/Documents/GitHub/citibank_business_case_visual/Screenshot%202022-12-02%20122442.png)"
   ]
  },
  {
   "cell_type": "code",
   "execution_count": null,
   "id": "aac79489",
   "metadata": {},
   "outputs": [],
   "source": []
  },
  {
   "cell_type": "code",
   "execution_count": null,
   "id": "ee7c11ff",
   "metadata": {},
   "outputs": [],
   "source": []
  },
  {
   "cell_type": "code",
   "execution_count": null,
   "id": "edbf9fce",
   "metadata": {},
   "outputs": [],
   "source": []
  },
  {
   "cell_type": "code",
   "execution_count": null,
   "id": "3f64b456",
   "metadata": {},
   "outputs": [],
   "source": []
  },
  {
   "cell_type": "code",
   "execution_count": null,
   "id": "9779a0fd",
   "metadata": {},
   "outputs": [],
   "source": []
  },
  {
   "cell_type": "code",
   "execution_count": null,
   "id": "46f0210b",
   "metadata": {},
   "outputs": [],
   "source": []
  }
 ],
 "metadata": {
  "kernelspec": {
   "display_name": "Python 3.10.8 64-bit (microsoft store)",
   "language": "python",
   "name": "python3"
  },
  "language_info": {
   "codemirror_mode": {
    "name": "ipython",
    "version": 3
   },
   "file_extension": ".py",
   "mimetype": "text/x-python",
   "name": "python",
   "nbconvert_exporter": "python",
   "pygments_lexer": "ipython3",
   "version": "3.10.8"
  },
  "vscode": {
   "interpreter": {
    "hash": "62364ad31170e8bd4dc2c84ded94673f0b78600cae41b254993f9792db5f3145"
   }
  }
 },
 "nbformat": 4,
 "nbformat_minor": 5
}
